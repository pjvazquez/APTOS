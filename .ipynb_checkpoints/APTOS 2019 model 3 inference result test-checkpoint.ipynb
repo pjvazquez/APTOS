{
 "cells": [
  {
   "cell_type": "code",
   "execution_count": 1,
   "metadata": {},
   "outputs": [],
   "source": [
    "from __future__ import absolute_import, division, print_function\n",
    "\n",
    "import tensorflow as tf\n",
    "\n"
   ]
  },
  {
   "cell_type": "code",
   "execution_count": 2,
   "metadata": {},
   "outputs": [
    {
     "name": "stdout",
     "output_type": "stream",
     "text": [
      "GPU found\n"
     ]
    },
    {
     "data": {
      "text/plain": [
       "'1.13.1'"
      ]
     },
     "execution_count": 2,
     "metadata": {},
     "output_type": "execute_result"
    }
   ],
   "source": [
    "# anulo el uso de la GPU por falta de memoria\n",
    "import os, sys\n",
    "os.environ['CUDA_VISIBLE_DEVICES'] = '0' #'-1' for no GPU\n",
    "\n",
    "if tf.test.gpu_device_name():\n",
    "    print('GPU found')\n",
    "else:\n",
    "    print(\"No GPU found\")\n",
    "\n",
    "# No GPU found\n",
    "\n",
    "# tf.enable_eager_execution()\n",
    "tf.VERSION"
   ]
  },
  {
   "cell_type": "code",
   "execution_count": 3,
   "metadata": {
    "_cell_guid": "79c7e3d0-c299-4dcb-8224-4455121ee9b0",
    "_kg_hide-input": true,
    "_uuid": "d629ff2d2480ee46fbb7e2d37f6b5fab8052498a",
    "scrolled": true
   },
   "outputs": [
    {
     "name": "stderr",
     "output_type": "stream",
     "text": [
      "Using TensorFlow backend.\n"
     ]
    }
   ],
   "source": [
    "import numpy as np\n",
    "import pandas as pd\n",
    "import matplotlib.pyplot as plt\n",
    "import skimage.io\n",
    "from skimage.transform import resize\n",
    "from imgaug import augmenters as iaa\n",
    "from tqdm import tqdm\n",
    "import PIL\n",
    "from PIL import Image, ImageOps\n",
    "import cv2\n",
    "\n",
    "from sklearn.utils import class_weight, shuffle\n",
    "from keras.losses import binary_crossentropy\n",
    "from keras.applications.resnet50 import preprocess_input\n",
    "from keras.preprocessing import image\n",
    "from keras.models import Sequential\n",
    "from keras.layers import InputLayer\n",
    "from keras.layers import Dense\n",
    "from keras.layers import Conv2D\n",
    "from keras.layers import MaxPooling2D\n",
    "from keras.layers import Flatten\n",
    "from keras.models import load_model\n",
    "import keras.backend as K\n",
    "\n",
    "from sklearn.metrics import f1_score, fbeta_score\n",
    "from keras.utils import Sequence\n",
    "from keras.utils import to_categorical\n",
    "from sklearn.model_selection import train_test_split\n",
    "\n",
    "WORKERS = 2\n",
    "CHANNEL = 3\n",
    "\n",
    "import warnings\n",
    "warnings.filterwarnings(\"ignore\")\n",
    "IMG_SIZE = 512\n",
    "NUM_CLASSES = 5\n",
    "SEED = 77\n",
    "TRAIN_NUM = 1000 # use 1000 when you just want to explore new idea, use -1 for full train\n",
    "\n",
    "\n",
    "DATA_PATH = \"data\""
   ]
  },
  {
   "cell_type": "code",
   "execution_count": 4,
   "metadata": {
    "_cell_guid": "b1076dfc-b9ad-4769-8c92-a6c4dae69d19",
    "_kg_hide-input": true,
    "_uuid": "8f2839f25d086af736a60e9eeb907d3b93b6e0e5",
    "scrolled": false
   },
   "outputs": [
    {
     "name": "stdout",
     "output_type": "stream",
     "text": [
      "['results_df_20190710232755.pkl', 'results_test_df_20190710232755.pkl', 'processed_train_images', 'results_df_20190711090031.pkl', 'results_test_models_df_20190711111832.pkl', 'results_test_df_20190712001832.pkl', 'train.csv', 'results_df.pkl', 'train_images', 'test.csv', 'test_images', 'results_test_df_20190711090031.pkl', 'processed_test_images', 'results_test_df.pkl', 'sample_submission.csv', 'results_df_20190712001832.pkl', 'results_test_model2_df_20190711111855.pkl', 'results_test_model2_df_20190712083607.pkl']\n"
     ]
    }
   ],
   "source": [
    "import os\n",
    "print(os.listdir(\"data\"))"
   ]
  },
  {
   "cell_type": "code",
   "execution_count": 5,
   "metadata": {},
   "outputs": [],
   "source": [
    "df_train = pd.read_csv(DATA_PATH + '/train.csv')\n",
    "df_test = pd.read_csv(DATA_PATH + '/test.csv')"
   ]
  },
  {
   "cell_type": "markdown",
   "metadata": {},
   "source": [
    "# The Model\n",
    "## inspired in real life\n",
    "\n",
    "help obtained from\n",
    "https://machinelearningmastery.com/keras-functional-api-deep-learning/\n"
   ]
  },
  {
   "cell_type": "code",
   "execution_count": 6,
   "metadata": {},
   "outputs": [],
   "source": [
    "# Aquí transcribimos las imágenes a un fichero tipo TFRECORD de tamaño\n",
    "width = 400\n",
    "height = 500\n",
    "\n",
    "size = (width,height)\n"
   ]
  },
  {
   "cell_type": "code",
   "execution_count": 7,
   "metadata": {},
   "outputs": [
    {
     "name": "stdout",
     "output_type": "stream",
     "text": [
      "input_layer:  (?, 400, 500, 1)\n",
      "WARNING:tensorflow:From /home/pjvazquez/anaconda3/lib/python3.7/site-packages/tensorflow/python/ops/resource_variable_ops.py:435: colocate_with (from tensorflow.python.framework.ops) is deprecated and will be removed in a future version.\n",
      "Instructions for updating:\n",
      "Colocations handled automatically by placer.\n",
      "layer:  (?, 396, 496, 200)\n",
      "layer:  (?, 79, 99, 200)\n",
      "layer:  (?, 78, 98, 200)\n",
      "layer:  (?, 39, 49, 200)\n",
      "layer:  (?, 38, 48, 100)\n",
      "layer:  (?, 19, 24, 100)\n",
      "layer:  (?, 45600)\n",
      "layer:  (?, 50)\n",
      "output_layer:  (?, 5)\n"
     ]
    }
   ],
   "source": [
    "# ---------------------\n",
    "# OPTION 1\n",
    "# ---------------------\n",
    "''' '''\n",
    "\n",
    "input_layer = tf.keras.Input(shape=(width,height,1))\n",
    "print('input_layer: ', input_layer.shape)\n",
    "\n",
    "layer1 = tf.keras.layers.Conv2D(200, kernel_size=(5, 5), activation='relu')(input_layer)\n",
    "print('layer: ', layer1.shape)\n",
    "\n",
    "layer2 = tf.keras.layers.MaxPooling2D(pool_size=(5, 5))(layer1)\n",
    "print('layer: ', layer2.shape)\n",
    "\n",
    "layer3 = tf.keras.layers.Conv2D(200, kernel_size=(2, 2), activation='relu')(layer2)\n",
    "print('layer: ', layer3.shape)\n",
    "\n",
    "layer4 = tf.keras.layers.MaxPooling2D(pool_size=(2, 2))(layer3)\n",
    "print('layer: ', layer4.shape)\n",
    "\n",
    "layer5 = tf.keras.layers.Conv2D(100, kernel_size=(2, 2), activation='relu')(layer4)\n",
    "print('layer: ', layer5.shape)\n",
    "\n",
    "layer6 = tf.keras.layers.MaxPooling2D(pool_size=(2, 2))(layer5)\n",
    "print('layer: ', layer6.shape)\n",
    "\n",
    "layer7 = tf.keras.layers.Flatten()(layer6)\n",
    "print('layer: ', layer7.shape)\n",
    "\n",
    "layer8 = tf.keras.layers.Dense(10*NUM_CLASSES, activation='relu')(layer7)\n",
    "print('layer: ', layer8.shape)\n",
    "\n",
    "output_layer = tf.keras.layers.Dense(NUM_CLASSES, activation='softmax')(layer8)\n",
    "print('output_layer: ', output_layer.shape)\n",
    "\n",
    "model = tf.keras.Model(inputs = [input_layer], outputs = [output_layer])\n",
    "\n",
    "\n"
   ]
  },
  {
   "cell_type": "code",
   "execution_count": 8,
   "metadata": {},
   "outputs": [],
   "source": [
    "def diagnoses_from_list(row):\n",
    "    n = 0.0\n",
    "    diagnoses = 0.0\n",
    "    for i in row[0]:\n",
    "        diagnoses += i*n\n",
    "        n += 1.0\n",
    "    return int(diagnoses)\n",
    "\n",
    "\n",
    "def crop_image1(img,tol=8):\n",
    "    # img is image data\n",
    "    # tol  is tolerance\n",
    "        \n",
    "    mask = img>tol\n",
    "    return img[np.ix_(mask.any(1),mask.any(0))]\n"
   ]
  },
  {
   "cell_type": "code",
   "execution_count": 15,
   "metadata": {},
   "outputs": [],
   "source": [
    "def crop_image1(img,tol=8):\n",
    "    # img is image data\n",
    "    # tol  is tolerance\n",
    "        \n",
    "    mask = img>tol\n",
    "    return img[np.ix_(mask.any(1),mask.any(0))]\n"
   ]
  },
  {
   "cell_type": "code",
   "execution_count": 16,
   "metadata": {},
   "outputs": [],
   "source": [
    "def enhance(image, clip_limit=3, Crop = True, size=(400,500)):\n",
    "    # convert image to LAB color model\n",
    "    \n",
    "    image_lab = cv2.cvtColor(image, cv2.COLOR_BGR2LAB)\n",
    "\n",
    "    # split the image into L, A, and B channels\n",
    "    l_channel, a_channel, b_channel = cv2.split(image_lab)\n",
    "\n",
    "    # apply CLAHE to lightness channel\n",
    "    clahe = cv2.createCLAHE(clipLimit=clip_limit, tileGridSize=(8, 8))\n",
    "    cl = clahe.apply(l_channel)\n",
    "\n",
    "    # merge the CLAHE enhanced L channel with the original A and B channel\n",
    "    merged_channels = cv2.merge((cl, a_channel, b_channel))\n",
    "\n",
    "    # convert iamge from LAB color model back to RGB color model\n",
    "    image = cv2.cvtColor(merged_channels, cv2.COLOR_LAB2BGR)\n",
    "    image_gray = cv2.cvtColor(image, cv2.COLOR_BGR2GRAY)\n",
    "    \n",
    "    # Auto Crop image\n",
    "    cropped_image = crop_image1(image_gray, 8)\n",
    "    \n",
    "    # resize image\n",
    "    resized_image = cv2.resize(cropped_image, size)\n",
    "    # Include Ben Graham preprocessing (-4 value)\n",
    "    if Crop:\n",
    "        final_image=cv2.addWeighted ( resized_image,4, \n",
    "                                     cv2.GaussianBlur( resized_image , (0,0) , IMG_SIZE/10) ,-4 ,128)\n",
    "        return final_image\n",
    "    else:\n",
    "        return resized_image"
   ]
  },
  {
   "cell_type": "code",
   "execution_count": 17,
   "metadata": {},
   "outputs": [],
   "source": [
    "model_file = [\"/mnt/DATA-SSD/DataSandbox/APTOS/model_20190712131547_0030.h5\",\n",
    "              \"/mnt/DATA-SSD/DataSandbox/APTOS/model_20190712131547_0050.h5\",\n",
    "              \"/mnt/DATA-SSD/DataSandbox/APTOS/model_20190712131547_0090.h5\",\n",
    "              \"/mnt/DATA-SSD/DataSandbox/APTOS/model_20190712131547_0150.h5\"]\n"
   ]
  },
  {
   "cell_type": "code",
   "execution_count": 18,
   "metadata": {},
   "outputs": [],
   "source": [
    "import tqdm\n",
    "\n",
    "def test_model():\n",
    "    results_train = {}\n",
    "    for i in tqdm.tqdm(df_train.iterrows()):\n",
    "        path=f\"/mnt/DATA-SSD/DataSandbox/APTOS/train_images/{i[1][0]}.png\"\n",
    "        image = cv2.imread(path)\n",
    "        enhanced_image = enhance(image,2, True, size)\n",
    "        # img = image.img_to_array(enhanced_image)\n",
    "        img = enhanced_image.reshape((1,width, height, 1))/255\n",
    "        results_train[i[0]] = [i[1][0], i[1][1], model.predict(img)]\n",
    "    return results_train\n"
   ]
  },
  {
   "cell_type": "code",
   "execution_count": 19,
   "metadata": {},
   "outputs": [
    {
     "name": "stderr",
     "output_type": "stream",
     "text": [
      "\r",
      "0it [00:00, ?it/s]"
     ]
    },
    {
     "name": "stdout",
     "output_type": "stream",
     "text": [
      "/mnt/DATA-SSD/DataSandbox/APTOS/model_20190712131547_0030.h5\n"
     ]
    },
    {
     "name": "stderr",
     "output_type": "stream",
     "text": [
      "3662it [11:42,  4.94it/s]\n",
      "0it [00:00, ?it/s]"
     ]
    },
    {
     "name": "stdout",
     "output_type": "stream",
     "text": [
      "/mnt/DATA-SSD/DataSandbox/APTOS/model_20190712131547_0050.h5\n"
     ]
    },
    {
     "name": "stderr",
     "output_type": "stream",
     "text": [
      "3662it [11:38,  4.97it/s]\n",
      "0it [00:00, ?it/s]"
     ]
    },
    {
     "name": "stdout",
     "output_type": "stream",
     "text": [
      "/mnt/DATA-SSD/DataSandbox/APTOS/model_20190712131547_0090.h5\n"
     ]
    },
    {
     "name": "stderr",
     "output_type": "stream",
     "text": [
      "3662it [11:37,  4.98it/s]\n",
      "0it [00:00, ?it/s]"
     ]
    },
    {
     "name": "stdout",
     "output_type": "stream",
     "text": [
      "/mnt/DATA-SSD/DataSandbox/APTOS/model_20190712131547_0150.h5\n"
     ]
    },
    {
     "name": "stderr",
     "output_type": "stream",
     "text": [
      "3662it [11:38,  5.00it/s]\n"
     ]
    }
   ],
   "source": [
    "results_test_models_df = pd.DataFrame()\n",
    "i = 0\n",
    "for m in model_file:\n",
    "    print(m)\n",
    "    model.load_weights(m)\n",
    "    res = test_model()\n",
    "    res_df = pd.DataFrame.from_dict(res, \n",
    "                                    orient='index', \n",
    "                                    columns=['img_id', 'diagnosis', f'prediction_{i}'])\n",
    "    res_df[f'predicted_{i}'] = res_df.apply( \n",
    "        lambda x: diagnoses_from_list(x[f'prediction_{i}']), axis=1)\n",
    "    res_df[f'predict_ok_{i}'] = res_df.apply( \n",
    "        lambda x: 1 if x[f'predicted_{i}']==x['diagnosis'] else 0, axis=1)\n",
    "    res_df[f'predict_error_{i}'] = res_df.apply(\n",
    "        lambda x: 1 if x[f'predicted_{i}']!=x['diagnosis'] else 0, axis=1)\n",
    "    if i == 0:\n",
    "        results_test_models_df = pd.concat([results_test_models_df, \n",
    "                                        res_df['diagnosis'],\n",
    "                                        res_df['img_id'],\n",
    "                                        res_df[f'predicted_{i}'],\n",
    "                                        res_df[f'predict_ok_{i}'],\n",
    "                                       res_df[f'predict_error_{i}']], axis=1, sort=False)\n",
    "    else:\n",
    "        results_test_models_df = pd.concat([results_test_models_df, \n",
    "                                        res_df[f'predicted_{i}'],\n",
    "                                        res_df[f'predict_ok_{i}'],\n",
    "                                       res_df[f'predict_error_{i}']], axis=1, sort=False)        \n",
    "    i += 1\n"
   ]
  },
  {
   "cell_type": "code",
   "execution_count": 20,
   "metadata": {},
   "outputs": [
    {
     "data": {
      "text/html": [
       "<div>\n",
       "<style scoped>\n",
       "    .dataframe tbody tr th:only-of-type {\n",
       "        vertical-align: middle;\n",
       "    }\n",
       "\n",
       "    .dataframe tbody tr th {\n",
       "        vertical-align: top;\n",
       "    }\n",
       "\n",
       "    .dataframe thead th {\n",
       "        text-align: right;\n",
       "    }\n",
       "</style>\n",
       "<table border=\"1\" class=\"dataframe\">\n",
       "  <thead>\n",
       "    <tr style=\"text-align: right;\">\n",
       "      <th></th>\n",
       "      <th>predicted_0</th>\n",
       "      <th>predict_ok_0</th>\n",
       "      <th>predict_error_0</th>\n",
       "      <th>predicted_1</th>\n",
       "      <th>predict_ok_1</th>\n",
       "      <th>predict_error_1</th>\n",
       "      <th>predicted_2</th>\n",
       "      <th>predict_ok_2</th>\n",
       "      <th>predict_error_2</th>\n",
       "      <th>predicted_3</th>\n",
       "      <th>predict_ok_3</th>\n",
       "      <th>predict_error_3</th>\n",
       "    </tr>\n",
       "    <tr>\n",
       "      <th>diagnosis</th>\n",
       "      <th></th>\n",
       "      <th></th>\n",
       "      <th></th>\n",
       "      <th></th>\n",
       "      <th></th>\n",
       "      <th></th>\n",
       "      <th></th>\n",
       "      <th></th>\n",
       "      <th></th>\n",
       "      <th></th>\n",
       "      <th></th>\n",
       "      <th></th>\n",
       "    </tr>\n",
       "  </thead>\n",
       "  <tbody>\n",
       "    <tr>\n",
       "      <th>0</th>\n",
       "      <td>408</td>\n",
       "      <td>1586</td>\n",
       "      <td>219</td>\n",
       "      <td>338</td>\n",
       "      <td>1597</td>\n",
       "      <td>208</td>\n",
       "      <td>388</td>\n",
       "      <td>1594</td>\n",
       "      <td>211</td>\n",
       "      <td>294</td>\n",
       "      <td>1625</td>\n",
       "      <td>180</td>\n",
       "    </tr>\n",
       "    <tr>\n",
       "      <th>1</th>\n",
       "      <td>368</td>\n",
       "      <td>355</td>\n",
       "      <td>15</td>\n",
       "      <td>365</td>\n",
       "      <td>362</td>\n",
       "      <td>8</td>\n",
       "      <td>354</td>\n",
       "      <td>351</td>\n",
       "      <td>19</td>\n",
       "      <td>353</td>\n",
       "      <td>353</td>\n",
       "      <td>17</td>\n",
       "    </tr>\n",
       "    <tr>\n",
       "      <th>2</th>\n",
       "      <td>1825</td>\n",
       "      <td>508</td>\n",
       "      <td>491</td>\n",
       "      <td>1639</td>\n",
       "      <td>436</td>\n",
       "      <td>563</td>\n",
       "      <td>1699</td>\n",
       "      <td>483</td>\n",
       "      <td>516</td>\n",
       "      <td>1661</td>\n",
       "      <td>489</td>\n",
       "      <td>510</td>\n",
       "    </tr>\n",
       "    <tr>\n",
       "      <th>3</th>\n",
       "      <td>547</td>\n",
       "      <td>161</td>\n",
       "      <td>32</td>\n",
       "      <td>530</td>\n",
       "      <td>144</td>\n",
       "      <td>49</td>\n",
       "      <td>524</td>\n",
       "      <td>138</td>\n",
       "      <td>55</td>\n",
       "      <td>496</td>\n",
       "      <td>110</td>\n",
       "      <td>83</td>\n",
       "    </tr>\n",
       "    <tr>\n",
       "      <th>4</th>\n",
       "      <td>894</td>\n",
       "      <td>11</td>\n",
       "      <td>284</td>\n",
       "      <td>894</td>\n",
       "      <td>15</td>\n",
       "      <td>280</td>\n",
       "      <td>901</td>\n",
       "      <td>18</td>\n",
       "      <td>277</td>\n",
       "      <td>923</td>\n",
       "      <td>41</td>\n",
       "      <td>254</td>\n",
       "    </tr>\n",
       "  </tbody>\n",
       "</table>\n",
       "</div>"
      ],
      "text/plain": [
       "           predicted_0  predict_ok_0  predict_error_0  predicted_1  \\\n",
       "diagnosis                                                            \n",
       "0                  408          1586              219          338   \n",
       "1                  368           355               15          365   \n",
       "2                 1825           508              491         1639   \n",
       "3                  547           161               32          530   \n",
       "4                  894            11              284          894   \n",
       "\n",
       "           predict_ok_1  predict_error_1  predicted_2  predict_ok_2  \\\n",
       "diagnosis                                                             \n",
       "0                  1597              208          388          1594   \n",
       "1                   362                8          354           351   \n",
       "2                   436              563         1699           483   \n",
       "3                   144               49          524           138   \n",
       "4                    15              280          901            18   \n",
       "\n",
       "           predict_error_2  predicted_3  predict_ok_3  predict_error_3  \n",
       "diagnosis                                                               \n",
       "0                      211          294          1625              180  \n",
       "1                       19          353           353               17  \n",
       "2                      516         1661           489              510  \n",
       "3                       55          496           110               83  \n",
       "4                      277          923            41              254  "
      ]
     },
     "execution_count": 20,
     "metadata": {},
     "output_type": "execute_result"
    }
   ],
   "source": [
    "results_test_models_df.groupby('diagnosis').sum()"
   ]
  },
  {
   "cell_type": "code",
   "execution_count": 21,
   "metadata": {},
   "outputs": [
    {
     "data": {
      "text/html": [
       "<div>\n",
       "<style scoped>\n",
       "    .dataframe tbody tr th:only-of-type {\n",
       "        vertical-align: middle;\n",
       "    }\n",
       "\n",
       "    .dataframe tbody tr th {\n",
       "        vertical-align: top;\n",
       "    }\n",
       "\n",
       "    .dataframe thead th {\n",
       "        text-align: right;\n",
       "    }\n",
       "</style>\n",
       "<table border=\"1\" class=\"dataframe\">\n",
       "  <thead>\n",
       "    <tr style=\"text-align: right;\">\n",
       "      <th></th>\n",
       "      <th>diagnosis</th>\n",
       "      <th>img_id</th>\n",
       "      <th>predicted_0</th>\n",
       "      <th>predict_ok_0</th>\n",
       "      <th>predict_error_0</th>\n",
       "      <th>predicted_1</th>\n",
       "      <th>predict_ok_1</th>\n",
       "      <th>predict_error_1</th>\n",
       "      <th>predicted_2</th>\n",
       "      <th>predict_ok_2</th>\n",
       "      <th>predict_error_2</th>\n",
       "      <th>predicted_3</th>\n",
       "      <th>predict_ok_3</th>\n",
       "      <th>predict_error_3</th>\n",
       "    </tr>\n",
       "  </thead>\n",
       "  <tbody>\n",
       "    <tr>\n",
       "      <th>0</th>\n",
       "      <td>2</td>\n",
       "      <td>000c1434d8d7</td>\n",
       "      <td>2</td>\n",
       "      <td>1</td>\n",
       "      <td>0</td>\n",
       "      <td>2</td>\n",
       "      <td>1</td>\n",
       "      <td>0</td>\n",
       "      <td>2</td>\n",
       "      <td>1</td>\n",
       "      <td>0</td>\n",
       "      <td>2</td>\n",
       "      <td>1</td>\n",
       "      <td>0</td>\n",
       "    </tr>\n",
       "    <tr>\n",
       "      <th>1</th>\n",
       "      <td>4</td>\n",
       "      <td>001639a390f0</td>\n",
       "      <td>3</td>\n",
       "      <td>0</td>\n",
       "      <td>1</td>\n",
       "      <td>3</td>\n",
       "      <td>0</td>\n",
       "      <td>1</td>\n",
       "      <td>3</td>\n",
       "      <td>0</td>\n",
       "      <td>1</td>\n",
       "      <td>3</td>\n",
       "      <td>0</td>\n",
       "      <td>1</td>\n",
       "    </tr>\n",
       "    <tr>\n",
       "      <th>2</th>\n",
       "      <td>1</td>\n",
       "      <td>0024cdab0c1e</td>\n",
       "      <td>1</td>\n",
       "      <td>1</td>\n",
       "      <td>0</td>\n",
       "      <td>1</td>\n",
       "      <td>1</td>\n",
       "      <td>0</td>\n",
       "      <td>1</td>\n",
       "      <td>1</td>\n",
       "      <td>0</td>\n",
       "      <td>1</td>\n",
       "      <td>1</td>\n",
       "      <td>0</td>\n",
       "    </tr>\n",
       "    <tr>\n",
       "      <th>3</th>\n",
       "      <td>0</td>\n",
       "      <td>002c21358ce6</td>\n",
       "      <td>0</td>\n",
       "      <td>1</td>\n",
       "      <td>0</td>\n",
       "      <td>0</td>\n",
       "      <td>1</td>\n",
       "      <td>0</td>\n",
       "      <td>0</td>\n",
       "      <td>1</td>\n",
       "      <td>0</td>\n",
       "      <td>0</td>\n",
       "      <td>1</td>\n",
       "      <td>0</td>\n",
       "    </tr>\n",
       "    <tr>\n",
       "      <th>4</th>\n",
       "      <td>0</td>\n",
       "      <td>005b95c28852</td>\n",
       "      <td>0</td>\n",
       "      <td>1</td>\n",
       "      <td>0</td>\n",
       "      <td>0</td>\n",
       "      <td>1</td>\n",
       "      <td>0</td>\n",
       "      <td>0</td>\n",
       "      <td>1</td>\n",
       "      <td>0</td>\n",
       "      <td>0</td>\n",
       "      <td>1</td>\n",
       "      <td>0</td>\n",
       "    </tr>\n",
       "    <tr>\n",
       "      <th>5</th>\n",
       "      <td>4</td>\n",
       "      <td>0083ee8054ee</td>\n",
       "      <td>3</td>\n",
       "      <td>0</td>\n",
       "      <td>1</td>\n",
       "      <td>3</td>\n",
       "      <td>0</td>\n",
       "      <td>1</td>\n",
       "      <td>3</td>\n",
       "      <td>0</td>\n",
       "      <td>1</td>\n",
       "      <td>3</td>\n",
       "      <td>0</td>\n",
       "      <td>1</td>\n",
       "    </tr>\n",
       "    <tr>\n",
       "      <th>6</th>\n",
       "      <td>0</td>\n",
       "      <td>0097f532ac9f</td>\n",
       "      <td>2</td>\n",
       "      <td>0</td>\n",
       "      <td>1</td>\n",
       "      <td>0</td>\n",
       "      <td>1</td>\n",
       "      <td>0</td>\n",
       "      <td>3</td>\n",
       "      <td>0</td>\n",
       "      <td>1</td>\n",
       "      <td>2</td>\n",
       "      <td>0</td>\n",
       "      <td>1</td>\n",
       "    </tr>\n",
       "    <tr>\n",
       "      <th>7</th>\n",
       "      <td>2</td>\n",
       "      <td>00a8624548a9</td>\n",
       "      <td>2</td>\n",
       "      <td>1</td>\n",
       "      <td>0</td>\n",
       "      <td>2</td>\n",
       "      <td>1</td>\n",
       "      <td>0</td>\n",
       "      <td>2</td>\n",
       "      <td>1</td>\n",
       "      <td>0</td>\n",
       "      <td>2</td>\n",
       "      <td>1</td>\n",
       "      <td>0</td>\n",
       "    </tr>\n",
       "    <tr>\n",
       "      <th>8</th>\n",
       "      <td>2</td>\n",
       "      <td>00b74780d31d</td>\n",
       "      <td>1</td>\n",
       "      <td>0</td>\n",
       "      <td>1</td>\n",
       "      <td>2</td>\n",
       "      <td>1</td>\n",
       "      <td>0</td>\n",
       "      <td>2</td>\n",
       "      <td>1</td>\n",
       "      <td>0</td>\n",
       "      <td>2</td>\n",
       "      <td>1</td>\n",
       "      <td>0</td>\n",
       "    </tr>\n",
       "    <tr>\n",
       "      <th>9</th>\n",
       "      <td>1</td>\n",
       "      <td>00cb6555d108</td>\n",
       "      <td>1</td>\n",
       "      <td>1</td>\n",
       "      <td>0</td>\n",
       "      <td>1</td>\n",
       "      <td>1</td>\n",
       "      <td>0</td>\n",
       "      <td>1</td>\n",
       "      <td>1</td>\n",
       "      <td>0</td>\n",
       "      <td>1</td>\n",
       "      <td>1</td>\n",
       "      <td>0</td>\n",
       "    </tr>\n",
       "  </tbody>\n",
       "</table>\n",
       "</div>"
      ],
      "text/plain": [
       "   diagnosis        img_id  predicted_0  predict_ok_0  predict_error_0  \\\n",
       "0          2  000c1434d8d7            2             1                0   \n",
       "1          4  001639a390f0            3             0                1   \n",
       "2          1  0024cdab0c1e            1             1                0   \n",
       "3          0  002c21358ce6            0             1                0   \n",
       "4          0  005b95c28852            0             1                0   \n",
       "5          4  0083ee8054ee            3             0                1   \n",
       "6          0  0097f532ac9f            2             0                1   \n",
       "7          2  00a8624548a9            2             1                0   \n",
       "8          2  00b74780d31d            1             0                1   \n",
       "9          1  00cb6555d108            1             1                0   \n",
       "\n",
       "   predicted_1  predict_ok_1  predict_error_1  predicted_2  predict_ok_2  \\\n",
       "0            2             1                0            2             1   \n",
       "1            3             0                1            3             0   \n",
       "2            1             1                0            1             1   \n",
       "3            0             1                0            0             1   \n",
       "4            0             1                0            0             1   \n",
       "5            3             0                1            3             0   \n",
       "6            0             1                0            3             0   \n",
       "7            2             1                0            2             1   \n",
       "8            2             1                0            2             1   \n",
       "9            1             1                0            1             1   \n",
       "\n",
       "   predict_error_2  predicted_3  predict_ok_3  predict_error_3  \n",
       "0                0            2             1                0  \n",
       "1                1            3             0                1  \n",
       "2                0            1             1                0  \n",
       "3                0            0             1                0  \n",
       "4                0            0             1                0  \n",
       "5                1            3             0                1  \n",
       "6                1            2             0                1  \n",
       "7                0            2             1                0  \n",
       "8                0            2             1                0  \n",
       "9                0            1             1                0  "
      ]
     },
     "execution_count": 21,
     "metadata": {},
     "output_type": "execute_result"
    }
   ],
   "source": [
    "results_test_models_df.head(10)"
   ]
  },
  {
   "cell_type": "code",
   "execution_count": 23,
   "metadata": {},
   "outputs": [
    {
     "data": {
      "text/plain": [
       "<matplotlib.axes._subplots.AxesSubplot at 0x7fc4f0d0dba8>"
      ]
     },
     "execution_count": 23,
     "metadata": {},
     "output_type": "execute_result"
    },
    {
     "data": {
      "image/png": "[encoded data removed]",
      "text/plain": [
       "<Figure size 432x288 with 1 Axes>"
      ]
     },
     "metadata": {
      "needs_background": "light"
     },
     "output_type": "display_data"
    }
   ],
   "source": [
    "results_test_models_df[['diagnosis',\n",
    "                       'predicted_0',\n",
    "                       'predicted_1',\n",
    "                       'predicted_2',\n",
    "                       'predicted_3']].plot.hist(alpha=0.4)\n"
   ]
  },
  {
   "cell_type": "code",
   "execution_count": null,
   "metadata": {},
   "outputs": [],
   "source": [
    "import datetime\n",
    "lt = datetime.datetime.now().strftime(\"%Y%m%d%H%M%S\")\n",
    "results_test_models_df.to_pickle(f\"{DATA_PATH}/results_test_model2_df_{lt}.pkl\")\n"
   ]
  },
  {
   "cell_type": "code",
   "execution_count": null,
   "metadata": {},
   "outputs": [],
   "source": []
  }
 ],
 "metadata": {
  "kernelspec": {
   "display_name": "Python 3",
   "language": "python",
   "name": "python3"
  },
  "language_info": {
   "codemirror_mode": {
    "name": "ipython",
    "version": 3
   },
   "file_extension": ".py",
   "mimetype": "text/x-python",
   "name": "python",
   "nbconvert_exporter": "python",
   "pygments_lexer": "ipython3",
   "version": "3.7.1"
  }
 },
 "nbformat": 4,
 "nbformat_minor": 1
}
