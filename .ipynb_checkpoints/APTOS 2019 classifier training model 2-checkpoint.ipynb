{
 "cells": [
  {
   "cell_type": "code",
   "execution_count": 1,
   "metadata": {},
   "outputs": [],
   "source": [
    "from __future__ import absolute_import, division, print_function\n",
    "\n",
    "import tensorflow as tf\n",
    "\n"
   ]
  },
  {
   "cell_type": "code",
   "execution_count": 2,
   "metadata": {},
   "outputs": [
    {
     "name": "stdout",
     "output_type": "stream",
     "text": [
      "GPU found\n"
     ]
    },
    {
     "data": {
      "text/plain": [
       "'1.13.1'"
      ]
     },
     "execution_count": 2,
     "metadata": {},
     "output_type": "execute_result"
    }
   ],
   "source": [
    "# anulo el uso de la GPU por falta de memoria\n",
    "import os, sys\n",
    "os.environ['CUDA_VISIBLE_DEVICES'] = '0' #'-1' for no GPU\n",
    "\n",
    "if tf.test.gpu_device_name():\n",
    "    print('GPU found')\n",
    "else:\n",
    "    print(\"No GPU found\")\n",
    "\n",
    "# No GPU found\n",
    "\n",
    "# tf.enable_eager_execution()\n",
    "tf.VERSION"
   ]
  },
  {
   "cell_type": "code",
   "execution_count": 3,
   "metadata": {
    "_cell_guid": "79c7e3d0-c299-4dcb-8224-4455121ee9b0",
    "_kg_hide-input": true,
    "_uuid": "d629ff2d2480ee46fbb7e2d37f6b5fab8052498a",
    "scrolled": true
   },
   "outputs": [
    {
     "name": "stderr",
     "output_type": "stream",
     "text": [
      "Using TensorFlow backend.\n"
     ]
    }
   ],
   "source": [
    "import numpy as np\n",
    "import pandas as pd\n",
    "import matplotlib.pyplot as plt\n",
    "import skimage.io\n",
    "from skimage.transform import resize\n",
    "from imgaug import augmenters as iaa\n",
    "from tqdm import tqdm\n",
    "import PIL\n",
    "from PIL import Image, ImageOps\n",
    "import cv2\n",
    "\n",
    "from sklearn.utils import class_weight, shuffle\n",
    "from keras.losses import binary_crossentropy\n",
    "from keras.applications.resnet50 import preprocess_input\n",
    "from keras.preprocessing import image\n",
    "from keras.models import Sequential\n",
    "from keras.layers import InputLayer\n",
    "from keras.layers import Dense\n",
    "from keras.layers import Conv2D\n",
    "from keras.layers import MaxPooling2D\n",
    "from keras.layers import Flatten\n",
    "import keras.backend as K\n",
    "\n",
    "from sklearn.metrics import f1_score, fbeta_score\n",
    "from keras.utils import Sequence\n",
    "from keras.utils import to_categorical\n",
    "from sklearn.model_selection import train_test_split\n",
    "\n",
    "WORKERS = 2\n",
    "CHANNEL = 3\n",
    "\n",
    "import warnings\n",
    "warnings.filterwarnings(\"ignore\")\n",
    "IMG_SIZE = 512\n",
    "NUM_CLASSES = 5\n",
    "SEED = 77\n",
    "TRAIN_NUM = 1000 # use 1000 when you just want to explore new idea, use -1 for full train\n",
    "\n",
    "\n",
    "DATA_PATH = \"data\""
   ]
  },
  {
   "cell_type": "code",
   "execution_count": 4,
   "metadata": {
    "_cell_guid": "b1076dfc-b9ad-4769-8c92-a6c4dae69d19",
    "_kg_hide-input": true,
    "_uuid": "8f2839f25d086af736a60e9eeb907d3b93b6e0e5",
    "scrolled": false
   },
   "outputs": [
    {
     "name": "stdout",
     "output_type": "stream",
     "text": [
      "['results_df_20190710232755.pkl', 'results_test_df_20190710232755.pkl', 'processed_train_images', 'results_df_20190711090031.pkl', 'results_test_models_df_20190711111832.pkl', 'train.csv', 'results_df.pkl', 'train_images', 'test.csv', 'test_images', 'results_test_df_20190711090031.pkl', 'processed_test_images', 'results_test_df.pkl', 'sample_submission.csv', 'results_test_model2_df_20190711111855.pkl']\n"
     ]
    }
   ],
   "source": [
    "import os\n",
    "print(os.listdir(\"data\"))"
   ]
  },
  {
   "cell_type": "code",
   "execution_count": 5,
   "metadata": {},
   "outputs": [
    {
     "name": "stdout",
     "output_type": "stream",
     "text": [
      "[name: \"/device:CPU:0\"\n",
      "device_type: \"CPU\"\n",
      "memory_limit: 268435456\n",
      "locality {\n",
      "}\n",
      "incarnation: 1840446790144256653\n",
      ", name: \"/device:XLA_CPU:0\"\n",
      "device_type: \"XLA_CPU\"\n",
      "memory_limit: 17179869184\n",
      "locality {\n",
      "}\n",
      "incarnation: 13599394677504039833\n",
      "physical_device_desc: \"device: XLA_CPU device\"\n",
      ", name: \"/device:XLA_GPU:0\"\n",
      "device_type: \"XLA_GPU\"\n",
      "memory_limit: 17179869184\n",
      "locality {\n",
      "}\n",
      "incarnation: 6770138290403399612\n",
      "physical_device_desc: \"device: XLA_GPU device\"\n",
      ", name: \"/device:GPU:0\"\n",
      "device_type: \"GPU\"\n",
      "memory_limit: 7125005108\n",
      "locality {\n",
      "  bus_id: 1\n",
      "  links {\n",
      "  }\n",
      "}\n",
      "incarnation: 11982839540615984259\n",
      "physical_device_desc: \"device: 0, name: GeForce GTX 1080, pci bus id: 0000:01:00.0, compute capability: 6.1\"\n",
      "]\n"
     ]
    }
   ],
   "source": [
    "from tensorflow.python.client import device_lib\n",
    "print(device_lib.list_local_devices())"
   ]
  },
  {
   "cell_type": "markdown",
   "metadata": {},
   "source": [
    "# 1. Introduction. Explore first, train later.\n",
    "\n",
    "Hi everyone! As *Aravind Eye Hospital* is one of my favorite organization in the world; they take care of poor people's eyes for free with an impressive sustainable business model.  I will try my best to contribute something to our community. One intuitive way to improve the performance of our model is to simply improve the quality of input images. In this kernel, I will share two ideas which I hope may be useful to some of you : \n",
    "\n",
    "- **Decolorize images** : here as we will see, images come with many different lighting conditions, some images are quite dark and difficult to visualize. We can try to convert the image to gray scale, and visualize better. Alternatively, we can try the method of [Ben Graham (last competition's winner)](https://github.com/btgraham/SparseConvNet/tree/kaggle_Diabetic_Retinopathy_competition)\n",
    "- **Cropping uninformative area** : everyone know this :) Here, I just find the codes from internet and choose the best one for you :)\n",
    "\n",
    "We are going to apply both techniques to both the official data, and the past competition data (shout out @tanlikesmath for creating this dataset! https://www.kaggle.com/tanlikesmath/diabetic-retinopathy-resized . In the updated version, I also try @donkeys' dataset https://www.kaggle.com/donkeys/retinopathy-train-2015 , which is .png which may be have higer image quality than .jpeg format)\n",
    "\n",
    "If I found more useful tricks, I will update the notebook, or if you have more useful tricks and would love to share, please let me know!\n",
    "\n",
    "I use some parts of codes from @mathormad and @artgor kernels. Thanks both of you!"
   ]
  },
  {
   "cell_type": "markdown",
   "metadata": {},
   "source": [
    "Now let us start by loading the train/test dataframes. The `train_test_split` here is in fact not necessary. But when I first fork the kernel from @mathormad, I found some interesting examples using this split and the current `SEED`, so I continue to use them here."
   ]
  },
  {
   "cell_type": "code",
   "execution_count": 6,
   "metadata": {
    "scrolled": false
   },
   "outputs": [],
   "source": [
    "df_train = pd.read_csv(DATA_PATH + '/train.csv')\n",
    "df_test = pd.read_csv(DATA_PATH + '/test.csv')\n",
    "\n",
    "x = df_train['id_code']\n",
    "y = df_train['diagnosis']\n",
    "\n",
    "x, y = shuffle(x, y, random_state=SEED)\n"
   ]
  },
  {
   "cell_type": "code",
   "execution_count": 7,
   "metadata": {
    "scrolled": false
   },
   "outputs": [
    {
     "name": "stdout",
     "output_type": "stream",
     "text": [
      "(3662,) (3662,)\n"
     ]
    },
    {
     "data": {
      "text/plain": [
       "<matplotlib.axes._subplots.AxesSubplot at 0x7fc2f03f7588>"
      ]
     },
     "execution_count": 7,
     "metadata": {},
     "output_type": "execute_result"
    },
    {
     "data": {
      "image/png": "[encoded data removed]",
      "text/plain": [
       "<Figure size 432x288 with 1 Axes>"
      ]
     },
     "metadata": {
      "needs_background": "light"
     },
     "output_type": "display_data"
    }
   ],
   "source": [
    "print(x.shape,  y.shape)\n",
    "y.hist()"
   ]
  },
  {
   "cell_type": "code",
   "execution_count": 8,
   "metadata": {},
   "outputs": [
    {
     "name": "stdout",
     "output_type": "stream",
     "text": [
      "           id_code\n",
      "diagnosis         \n",
      "0             1805\n",
      "1              370\n",
      "2              999\n",
      "3              193\n",
      "4              295\n"
     ]
    }
   ],
   "source": [
    "print(df_train.groupby('diagnosis').count())"
   ]
  },
  {
   "cell_type": "code",
   "execution_count": 9,
   "metadata": {},
   "outputs": [],
   "source": [
    "d_x1 = {}\n",
    "d_y1 = {}\n",
    "index = 0\n",
    "for j in range(0,5):\n",
    "    for i,(a,b) in enumerate(df_train.loc[df_train['diagnosis'] == j].\\\n",
    "                       sample(193, random_state=SEED).iterrows()):\n",
    "        d_x1[index]= b[0]\n",
    "        d_y1[index]= b[1]\n",
    "        index += 1\n",
    "\n",
    "x1 = pd.Series(d_x1)\n",
    "y1 = pd.Series(d_y1)"
   ]
  },
  {
   "cell_type": "code",
   "execution_count": 10,
   "metadata": {},
   "outputs": [
    {
     "data": {
      "text/plain": [
       "<matplotlib.axes._subplots.AxesSubplot at 0x7fc23059eda0>"
      ]
     },
     "execution_count": 10,
     "metadata": {},
     "output_type": "execute_result"
    },
    {
     "data": {
      "image/png": "[encoded data removed]",
      "text/plain": [
       "<Figure size 432x288 with 1 Axes>"
      ]
     },
     "metadata": {
      "needs_background": "light"
     },
     "output_type": "display_data"
    }
   ],
   "source": [
    "y1.hist()"
   ]
  },
  {
   "cell_type": "markdown",
   "metadata": {},
   "source": [
    "## 1.1 Simple picture to explain Diabetic Retinopathy\n",
    "\n",
    "How do we know that a patient have diabetic retinopahy? There are 5 things to spot on. Image credit https://www.eyeops.com/\n",
    "![credit : https://www.eyeops.com/](https://sa1s3optim.patientpop.com/assets/images/provider/photos/1947516.jpeg)"
   ]
  },
  {
   "cell_type": "markdown",
   "metadata": {},
   "source": [
    "From quick investigations of the data (see various pictures below), I found that *Hemorrphages, Hard Exudates and Cotton Wool spots* are quite easily observed. However, I still could not find examples of *Aneurysm* or *Abnormal Growth of Blood Vessels* from our data yet. Perhaps the latter two cases are important if we want to catch up human benchmnark using our model."
   ]
  },
  {
   "cell_type": "markdown",
   "metadata": {},
   "source": [
    "## Process TFRecord"
   ]
  },
  {
   "cell_type": "code",
   "execution_count": 11,
   "metadata": {
    "scrolled": false
   },
   "outputs": [],
   "source": [
    "# Aquí transcribimos las imágenes a un fichero tipo TFRECORD de tamaño\n",
    "# el primer modelo usaba imágenes de 100x125\n",
    "width = 200 # 400\n",
    "height = 250 # 500\n",
    "\n",
    "size = (width,height)\n",
    "\n",
    "image_x = []\n",
    "\n",
    "for i in x1:\n",
    "    path=f\"{DATA_PATH}/processed_train_images/{i}.png\"\n",
    "    img = image.load_img(path, grayscale=True,target_size=(width,height,1))\n",
    "    img = image.img_to_array(img)\n",
    "    img = img/255\n",
    "    image_x.append(img)\n",
    "X = np.array(image_x)\n"
   ]
  },
  {
   "cell_type": "code",
   "execution_count": 12,
   "metadata": {},
   "outputs": [
    {
     "name": "stdout",
     "output_type": "stream",
     "text": [
      "3662 (965, 200, 250, 1)\n",
      "1.0\n"
     ]
    }
   ],
   "source": [
    "print(len(x), X.shape)\n",
    "print(np.amax(X))"
   ]
  },
  {
   "cell_type": "code",
   "execution_count": 13,
   "metadata": {},
   "outputs": [
    {
     "name": "stdout",
     "output_type": "stream",
     "text": [
      "965 (965, 5)\n"
     ]
    }
   ],
   "source": [
    "Y = to_categorical(y1)\n",
    "print(len(Y), Y.shape)"
   ]
  },
  {
   "cell_type": "markdown",
   "metadata": {},
   "source": [
    "# The Model\n",
    "## inspired in real life\n",
    "\n",
    "help obtained from\n",
    "https://machinelearningmastery.com/keras-functional-api-deep-learning/\n"
   ]
  },
  {
   "cell_type": "code",
   "execution_count": 14,
   "metadata": {},
   "outputs": [],
   "source": [
    "# config = tf.ConfigProto(device_count = {'GPU': 0})\n",
    "# config.gpu_options.allow_growth = True\n",
    "# gpu_options = tf.GPUOptions(allow_growth=True)\n",
    "\n",
    "# session = tf.InteractiveSession(config=tf.ConfigProto(gpu_options=gpu_options))"
   ]
  },
  {
   "cell_type": "code",
   "execution_count": 15,
   "metadata": {},
   "outputs": [
    {
     "name": "stdout",
     "output_type": "stream",
     "text": [
      "input_layer:  (?, 200, 250, 1)\n",
      "WARNING:tensorflow:From /home/pjvazquez/anaconda3/lib/python3.7/site-packages/tensorflow/python/ops/resource_variable_ops.py:435: colocate_with (from tensorflow.python.framework.ops) is deprecated and will be removed in a future version.\n",
      "Instructions for updating:\n",
      "Colocations handled automatically by placer.\n",
      "layer:  (?, 196, 246, 1000)\n",
      "layer:  (?, 39, 49, 1000)\n",
      "layer:  (?, 38, 48, 500)\n",
      "layer:  (?, 19, 24, 500)\n",
      "layer:  (?, 18, 23, 100)\n",
      "layer:  (?, 9, 11, 100)\n",
      "layer:  (?, 9900)\n",
      "layer:  (?, 50)\n",
      "output_layer:  (?, 5)\n"
     ]
    }
   ],
   "source": [
    "# ---------------------\n",
    "# OPTION 1\n",
    "# ---------------------\n",
    "''' '''\n",
    "\n",
    "input_layer = tf.keras.Input(shape=(width,height,1))\n",
    "print('input_layer: ', input_layer.shape)\n",
    "\n",
    "layer1 = tf.keras.layers.Conv2D(1000, kernel_size=(5, 5), activation='relu')(input_layer)\n",
    "print('layer: ', layer1.shape)\n",
    "\n",
    "layer2 = tf.keras.layers.MaxPooling2D(pool_size=(5, 5))(layer1)\n",
    "print('layer: ', layer2.shape)\n",
    "\n",
    "layer3 = tf.keras.layers.Conv2D(500, kernel_size=(2, 2), activation='relu')(layer2)\n",
    "print('layer: ', layer3.shape)\n",
    "\n",
    "layer4 = tf.keras.layers.MaxPooling2D(pool_size=(2, 2))(layer3)\n",
    "print('layer: ', layer4.shape)\n",
    "\n",
    "layer5 = tf.keras.layers.Conv2D(100, kernel_size=(2, 2), activation='relu')(layer4)\n",
    "print('layer: ', layer5.shape)\n",
    "\n",
    "layer6 = tf.keras.layers.MaxPooling2D(pool_size=(2, 2))(layer5)\n",
    "print('layer: ', layer6.shape)\n",
    "\n",
    "layer7 = tf.keras.layers.Flatten()(layer6)\n",
    "print('layer: ', layer7.shape)\n",
    "\n",
    "layer8 = tf.keras.layers.Dense(10*NUM_CLASSES, activation='relu')(layer7)\n",
    "print('layer: ', layer8.shape)\n",
    "\n",
    "output_layer = tf.keras.layers.Dense(NUM_CLASSES, activation='softmax')(layer8)\n",
    "print('output_layer: ', output_layer.shape)\n",
    "\n",
    "model = tf.keras.Model(inputs = [input_layer], outputs = [output_layer])\n",
    "\n"
   ]
  },
  {
   "cell_type": "code",
   "execution_count": 16,
   "metadata": {},
   "outputs": [
    {
     "data": {
      "text/plain": [
       "\" \\n\\n\\nmodel = Sequential()\\n\\nmodel.add(InputLayer((width,height,1)))\\nmodel.add(Conv2D(1000, kernel_size=(5, 5), activation='relu'))\\nmodel.add(MaxPooling2D(pool_size=(5, 5)))\\nmodel.add(Conv2D(500, kernel_size=(2, 2), activation='relu'))\\nmodel.add(MaxPooling2D(pool_size=(2, 2)))\\nmodel.add(Conv2D(100, kernel_size=(2, 2), activation='relu'))\\nmodel.add(MaxPooling2D(pool_size=(2, 2)))\\nmodel.add(Flatten())\\nmodel.add(Dense(10*NUM_CLASSES, activation='relu'))\\nmodel.add(Dense(NUM_CLASSES, activation='softmax'))\\n\""
      ]
     },
     "execution_count": 16,
     "metadata": {},
     "output_type": "execute_result"
    }
   ],
   "source": [
    "# ---------------------\n",
    "# OPTION 2\n",
    "# ---------------------\n",
    "\n",
    "''' \n",
    "\n",
    "\n",
    "model = Sequential()\n",
    "\n",
    "model.add(InputLayer((width,height,1)))\n",
    "model.add(Conv2D(1000, kernel_size=(5, 5), activation='relu'))\n",
    "model.add(MaxPooling2D(pool_size=(5, 5)))\n",
    "model.add(Conv2D(500, kernel_size=(2, 2), activation='relu'))\n",
    "model.add(MaxPooling2D(pool_size=(2, 2)))\n",
    "model.add(Conv2D(100, kernel_size=(2, 2), activation='relu'))\n",
    "model.add(MaxPooling2D(pool_size=(2, 2)))\n",
    "model.add(Flatten())\n",
    "model.add(Dense(10*NUM_CLASSES, activation='relu'))\n",
    "model.add(Dense(NUM_CLASSES, activation='softmax'))\n",
    "'''"
   ]
  },
  {
   "cell_type": "code",
   "execution_count": 17,
   "metadata": {},
   "outputs": [
    {
     "name": "stdout",
     "output_type": "stream",
     "text": [
      "_________________________________________________________________\n",
      "Layer (type)                 Output Shape              Param #   \n",
      "=================================================================\n",
      "input_1 (InputLayer)         (None, 200, 250, 1)       0         \n",
      "_________________________________________________________________\n",
      "conv2d (Conv2D)              (None, 196, 246, 1000)    26000     \n",
      "_________________________________________________________________\n",
      "max_pooling2d (MaxPooling2D) (None, 39, 49, 1000)      0         \n",
      "_________________________________________________________________\n",
      "conv2d_1 (Conv2D)            (None, 38, 48, 500)       2000500   \n",
      "_________________________________________________________________\n",
      "max_pooling2d_1 (MaxPooling2 (None, 19, 24, 500)       0         \n",
      "_________________________________________________________________\n",
      "conv2d_2 (Conv2D)            (None, 18, 23, 100)       200100    \n",
      "_________________________________________________________________\n",
      "max_pooling2d_2 (MaxPooling2 (None, 9, 11, 100)        0         \n",
      "_________________________________________________________________\n",
      "flatten (Flatten)            (None, 9900)              0         \n",
      "_________________________________________________________________\n",
      "dense (Dense)                (None, 50)                495050    \n",
      "_________________________________________________________________\n",
      "dense_1 (Dense)              (None, 5)                 255       \n",
      "=================================================================\n",
      "Total params: 2,721,905\n",
      "Trainable params: 2,721,905\n",
      "Non-trainable params: 0\n",
      "_________________________________________________________________\n",
      "None\n"
     ]
    }
   ],
   "source": [
    "# import pydot\n",
    "# import graphviz\n",
    "\n",
    "print(model.summary())\n",
    "# no va por alguna chuminada\n",
    "# tf.keras.utils.plot_model(model, 'model.png')"
   ]
  },
  {
   "cell_type": "code",
   "execution_count": 18,
   "metadata": {},
   "outputs": [],
   "source": [
    "# model.compile(optimizer=tf.train.AdamOptimizer(),\n",
    "#              loss = tf.keras.losses.CategoricalCrossentropy())\n",
    "\n",
    "model.compile(loss='categorical_crossentropy',\n",
    "              optimizer='Adam',\n",
    "              metrics=['accuracy'])"
   ]
  },
  {
   "cell_type": "code",
   "execution_count": 20,
   "metadata": {},
   "outputs": [
    {
     "name": "stdout",
     "output_type": "stream",
     "text": [
      "WARNING:tensorflow:From /home/pjvazquez/anaconda3/lib/python3.7/site-packages/tensorflow/python/ops/math_ops.py:3066: to_int32 (from tensorflow.python.ops.math_ops) is deprecated and will be removed in a future version.\n",
      "Instructions for updating:\n",
      "Use tf.cast instead.\n",
      "Epoch 1/300\n",
      "965/965 [==============================] - 23s 23ms/sample - loss: 1.5132 - acc: 0.2798\n",
      "Epoch 2/300\n",
      "965/965 [==============================] - 20s 21ms/sample - loss: 1.3893 - acc: 0.3409\n",
      "Epoch 3/300\n",
      "965/965 [==============================] - 20s 21ms/sample - loss: 1.3654 - acc: 0.3575\n",
      "Epoch 4/300\n",
      "965/965 [==============================] - 20s 21ms/sample - loss: 1.3565 - acc: 0.3617\n",
      "Epoch 5/300\n",
      "965/965 [==============================] - 20s 21ms/sample - loss: 1.3364 - acc: 0.3720\n",
      "Epoch 6/300\n",
      "965/965 [==============================] - 20s 21ms/sample - loss: 1.2850 - acc: 0.4539\n",
      "Epoch 7/300\n",
      "965/965 [==============================] - 20s 21ms/sample - loss: 1.1984 - acc: 0.4881\n",
      "Epoch 8/300\n",
      "965/965 [==============================] - 20s 21ms/sample - loss: 1.0941 - acc: 0.5596\n",
      "Epoch 9/300\n",
      "965/965 [==============================] - 20s 21ms/sample - loss: 0.9934 - acc: 0.5896\n",
      "Epoch 10/300\n",
      "960/965 [============================>.] - ETA: 0s - loss: 0.8604 - acc: 0.6552\n",
      "Epoch 00010: saving model to /mnt/DATA-SSD/DataSandbox/model_20190711_0010.h5\n",
      "965/965 [==============================] - 20s 21ms/sample - loss: 0.8600 - acc: 0.6549\n",
      "Epoch 11/300\n",
      "965/965 [==============================] - 20s 21ms/sample - loss: 0.7610 - acc: 0.7026\n",
      "Epoch 12/300\n",
      "965/965 [==============================] - 20s 21ms/sample - loss: 0.6395 - acc: 0.7492\n",
      "Epoch 13/300\n",
      "965/965 [==============================] - 20s 21ms/sample - loss: 0.5182 - acc: 0.8062\n",
      "Epoch 14/300\n",
      "965/965 [==============================] - 20s 21ms/sample - loss: 0.4079 - acc: 0.8508\n",
      "Epoch 15/300\n",
      "965/965 [==============================] - 20s 21ms/sample - loss: 0.3445 - acc: 0.8777\n",
      "Epoch 16/300\n",
      "965/965 [==============================] - 20s 21ms/sample - loss: 0.3180 - acc: 0.8819\n",
      "Epoch 17/300\n",
      "965/965 [==============================] - 20s 21ms/sample - loss: 0.2199 - acc: 0.9264\n",
      "Epoch 18/300\n",
      "965/965 [==============================] - 20s 21ms/sample - loss: 0.1932 - acc: 0.9420\n",
      "Epoch 19/300\n",
      "965/965 [==============================] - 20s 21ms/sample - loss: 0.1282 - acc: 0.9689\n",
      "Epoch 20/300\n",
      "960/965 [============================>.] - ETA: 0s - loss: 0.1137 - acc: 0.9615\n",
      "Epoch 00020: saving model to /mnt/DATA-SSD/DataSandbox/model_20190711_0020.h5\n",
      "965/965 [==============================] - 20s 21ms/sample - loss: 0.1134 - acc: 0.9617\n",
      "Epoch 21/300\n",
      "965/965 [==============================] - 20s 21ms/sample - loss: 0.0811 - acc: 0.9782\n",
      "Epoch 22/300\n",
      "965/965 [==============================] - 20s 21ms/sample - loss: 0.1129 - acc: 0.9689\n",
      "Epoch 23/300\n",
      "965/965 [==============================] - 20s 21ms/sample - loss: 0.1226 - acc: 0.9596\n",
      "Epoch 24/300\n",
      "965/965 [==============================] - 20s 21ms/sample - loss: 0.0858 - acc: 0.9762\n",
      "Epoch 25/300\n",
      "965/965 [==============================] - 20s 21ms/sample - loss: 0.0552 - acc: 0.9855\n",
      "Epoch 26/300\n",
      "965/965 [==============================] - 20s 21ms/sample - loss: 0.0808 - acc: 0.9793\n",
      "Epoch 27/300\n",
      "965/965 [==============================] - 20s 21ms/sample - loss: 0.0464 - acc: 0.9845\n",
      "Epoch 28/300\n",
      "965/965 [==============================] - 20s 21ms/sample - loss: 0.0486 - acc: 0.9886\n",
      "Epoch 29/300\n",
      "965/965 [==============================] - 20s 21ms/sample - loss: 0.0712 - acc: 0.9782\n",
      "Epoch 30/300\n",
      "960/965 [============================>.] - ETA: 0s - loss: 0.0536 - acc: 0.9875\n",
      "Epoch 00030: saving model to /mnt/DATA-SSD/DataSandbox/model_20190711_0030.h5\n",
      "965/965 [==============================] - 20s 21ms/sample - loss: 0.0534 - acc: 0.9876\n",
      "Epoch 31/300\n",
      "965/965 [==============================] - 20s 21ms/sample - loss: 0.0496 - acc: 0.9865\n",
      "Epoch 32/300\n",
      "965/965 [==============================] - 20s 21ms/sample - loss: 0.0745 - acc: 0.9751\n",
      "Epoch 33/300\n",
      "965/965 [==============================] - 19s 20ms/sample - loss: 0.0826 - acc: 0.9762\n",
      "Epoch 34/300\n",
      "965/965 [==============================] - 19s 20ms/sample - loss: 0.0376 - acc: 0.9865\n",
      "Epoch 35/300\n",
      "965/965 [==============================] - 19s 20ms/sample - loss: 0.0550 - acc: 0.9834\n",
      "Epoch 36/300\n",
      "965/965 [==============================] - 19s 20ms/sample - loss: 0.0457 - acc: 0.9813\n",
      "Epoch 37/300\n",
      "965/965 [==============================] - 19s 20ms/sample - loss: 0.0452 - acc: 0.9845\n",
      "Epoch 38/300\n",
      "965/965 [==============================] - 19s 20ms/sample - loss: 0.0344 - acc: 0.9896\n",
      "Epoch 39/300\n",
      "965/965 [==============================] - 19s 20ms/sample - loss: 0.0270 - acc: 0.9896\n",
      "Epoch 40/300\n",
      "960/965 [============================>.] - ETA: 0s - loss: 0.0292 - acc: 0.9885\n",
      "Epoch 00040: saving model to /mnt/DATA-SSD/DataSandbox/model_20190711_0040.h5\n",
      "965/965 [==============================] - 19s 20ms/sample - loss: 0.0291 - acc: 0.9886\n",
      "Epoch 41/300\n",
      "965/965 [==============================] - 19s 20ms/sample - loss: 0.0316 - acc: 0.9865\n",
      "Epoch 42/300\n",
      "965/965 [==============================] - 19s 20ms/sample - loss: 0.0244 - acc: 0.9896\n",
      "Epoch 43/300\n",
      "965/965 [==============================] - 19s 20ms/sample - loss: 0.0248 - acc: 0.9855\n",
      "Epoch 44/300\n",
      "965/965 [==============================] - 19s 20ms/sample - loss: 0.0243 - acc: 0.9886\n",
      "Epoch 45/300\n",
      "965/965 [==============================] - 19s 20ms/sample - loss: 0.0321 - acc: 0.9855\n",
      "Epoch 46/300\n",
      "965/965 [==============================] - 19s 20ms/sample - loss: 0.1777 - acc: 0.9409\n",
      "Epoch 47/300\n",
      "965/965 [==============================] - 19s 20ms/sample - loss: 0.0830 - acc: 0.9741\n",
      "Epoch 48/300\n",
      "965/965 [==============================] - 19s 20ms/sample - loss: 0.0548 - acc: 0.9751\n",
      "Epoch 49/300\n",
      "965/965 [==============================] - 19s 20ms/sample - loss: 0.0901 - acc: 0.9699\n",
      "Epoch 50/300\n",
      "960/965 [============================>.] - ETA: 0s - loss: 0.1368 - acc: 0.9542\n",
      "Epoch 00050: saving model to /mnt/DATA-SSD/DataSandbox/model_20190711_0050.h5\n",
      "965/965 [==============================] - 19s 20ms/sample - loss: 0.1361 - acc: 0.9544\n",
      "Epoch 51/300\n",
      "965/965 [==============================] - 19s 20ms/sample - loss: 0.0516 - acc: 0.9834\n",
      "Epoch 52/300\n",
      "965/965 [==============================] - 19s 20ms/sample - loss: 0.0282 - acc: 0.9855\n",
      "Epoch 53/300\n",
      "965/965 [==============================] - 19s 20ms/sample - loss: 0.0244 - acc: 0.9865\n",
      "Epoch 54/300\n",
      "965/965 [==============================] - 19s 20ms/sample - loss: 0.0230 - acc: 0.9886\n",
      "Epoch 55/300\n",
      "965/965 [==============================] - 19s 20ms/sample - loss: 0.0235 - acc: 0.9876\n",
      "Epoch 56/300\n",
      "965/965 [==============================] - 19s 20ms/sample - loss: 0.0241 - acc: 0.9886\n",
      "Epoch 57/300\n",
      "965/965 [==============================] - 19s 20ms/sample - loss: 0.0243 - acc: 0.9845\n",
      "Epoch 58/300\n",
      "965/965 [==============================] - 19s 20ms/sample - loss: 0.0178 - acc: 0.9886\n",
      "Epoch 59/300\n",
      "965/965 [==============================] - 19s 20ms/sample - loss: 0.0222 - acc: 0.9876\n",
      "Epoch 60/300\n",
      "960/965 [============================>.] - ETA: 0s - loss: 0.0190 - acc: 0.9875\n",
      "Epoch 00060: saving model to /mnt/DATA-SSD/DataSandbox/model_20190711_0060.h5\n",
      "965/965 [==============================] - 19s 20ms/sample - loss: 0.0189 - acc: 0.9876\n",
      "Epoch 61/300\n",
      "965/965 [==============================] - 19s 20ms/sample - loss: 0.0205 - acc: 0.9865\n",
      "Epoch 62/300\n",
      "965/965 [==============================] - 19s 20ms/sample - loss: 0.0212 - acc: 0.9886\n",
      "Epoch 63/300\n",
      "965/965 [==============================] - 19s 20ms/sample - loss: 0.0186 - acc: 0.9876\n",
      "Epoch 64/300\n",
      "965/965 [==============================] - 19s 20ms/sample - loss: 0.0206 - acc: 0.9886\n",
      "Epoch 65/300\n",
      "965/965 [==============================] - 19s 20ms/sample - loss: 0.0233 - acc: 0.9886\n",
      "Epoch 66/300\n",
      "965/965 [==============================] - 19s 20ms/sample - loss: 0.0198 - acc: 0.9886\n",
      "Epoch 67/300\n",
      "965/965 [==============================] - 19s 20ms/sample - loss: 0.0194 - acc: 0.9855\n",
      "Epoch 68/300\n",
      "965/965 [==============================] - 19s 20ms/sample - loss: 0.0189 - acc: 0.9855\n",
      "Epoch 69/300\n",
      "965/965 [==============================] - 19s 20ms/sample - loss: 0.0234 - acc: 0.9876\n",
      "Epoch 70/300\n"
     ]
    },
    {
     "name": "stdout",
     "output_type": "stream",
     "text": [
      "960/965 [============================>.] - ETA: 0s - loss: 0.0185 - acc: 0.9906\n",
      "Epoch 00070: saving model to /mnt/DATA-SSD/DataSandbox/model_20190711_0070.h5\n",
      "965/965 [==============================] - 19s 20ms/sample - loss: 0.0184 - acc: 0.9907\n",
      "Epoch 71/300\n",
      "965/965 [==============================] - 19s 20ms/sample - loss: 0.0203 - acc: 0.9886\n",
      "Epoch 72/300\n",
      "965/965 [==============================] - 19s 20ms/sample - loss: 0.0221 - acc: 0.9896\n",
      "Epoch 73/300\n",
      "965/965 [==============================] - 19s 20ms/sample - loss: 0.0285 - acc: 0.9886\n",
      "Epoch 74/300\n",
      "965/965 [==============================] - 19s 20ms/sample - loss: 0.0921 - acc: 0.9689\n",
      "Epoch 75/300\n",
      "965/965 [==============================] - 19s 20ms/sample - loss: 0.0677 - acc: 0.9741\n",
      "Epoch 76/300\n",
      "965/965 [==============================] - 19s 20ms/sample - loss: 0.1064 - acc: 0.9596\n",
      "Epoch 77/300\n",
      "965/965 [==============================] - 19s 20ms/sample - loss: 0.0748 - acc: 0.9720\n",
      "Epoch 78/300\n",
      "965/965 [==============================] - 19s 20ms/sample - loss: 0.0248 - acc: 0.9834\n",
      "Epoch 79/300\n",
      "965/965 [==============================] - 19s 20ms/sample - loss: 0.0373 - acc: 0.9845\n",
      "Epoch 80/300\n",
      "960/965 [============================>.] - ETA: 0s - loss: 0.0412 - acc: 0.9833\n",
      "Epoch 00080: saving model to /mnt/DATA-SSD/DataSandbox/model_20190711_0080.h5\n",
      "965/965 [==============================] - 19s 20ms/sample - loss: 0.0410 - acc: 0.9834\n",
      "Epoch 81/300\n",
      "965/965 [==============================] - 19s 20ms/sample - loss: 0.0357 - acc: 0.9876\n",
      "Epoch 82/300\n",
      "965/965 [==============================] - 19s 20ms/sample - loss: 0.0213 - acc: 0.9896\n",
      "Epoch 83/300\n",
      "965/965 [==============================] - 19s 20ms/sample - loss: 0.0235 - acc: 0.9845\n",
      "Epoch 84/300\n",
      "965/965 [==============================] - 19s 20ms/sample - loss: 0.0183 - acc: 0.9886\n",
      "Epoch 85/300\n",
      "965/965 [==============================] - 19s 20ms/sample - loss: 0.0217 - acc: 0.9876\n",
      "Epoch 86/300\n",
      "965/965 [==============================] - 19s 20ms/sample - loss: 0.0183 - acc: 0.9907\n",
      "Epoch 87/300\n",
      "965/965 [==============================] - 19s 20ms/sample - loss: 0.0176 - acc: 0.9907\n",
      "Epoch 88/300\n",
      "965/965 [==============================] - 19s 20ms/sample - loss: 0.0192 - acc: 0.9896\n",
      "Epoch 89/300\n",
      "965/965 [==============================] - 19s 20ms/sample - loss: 0.0192 - acc: 0.9865\n",
      "Epoch 90/300\n",
      "960/965 [============================>.] - ETA: 0s - loss: 0.0166 - acc: 0.9865\n",
      "Epoch 00090: saving model to /mnt/DATA-SSD/DataSandbox/model_20190711_0090.h5\n",
      "965/965 [==============================] - 19s 20ms/sample - loss: 0.0174 - acc: 0.9855\n",
      "Epoch 91/300\n",
      "965/965 [==============================] - 19s 20ms/sample - loss: 0.0174 - acc: 0.9886\n",
      "Epoch 92/300\n",
      "965/965 [==============================] - 19s 20ms/sample - loss: 0.0215 - acc: 0.9865\n",
      "Epoch 93/300\n",
      "965/965 [==============================] - 19s 20ms/sample - loss: 0.0277 - acc: 0.9886\n",
      "Epoch 94/300\n",
      "965/965 [==============================] - 19s 20ms/sample - loss: 0.0181 - acc: 0.9886\n",
      "Epoch 95/300\n",
      "965/965 [==============================] - 19s 20ms/sample - loss: 0.0244 - acc: 0.9896\n",
      "Epoch 96/300\n",
      "965/965 [==============================] - 19s 20ms/sample - loss: 0.0185 - acc: 0.9855\n",
      "Epoch 97/300\n",
      "965/965 [==============================] - 19s 20ms/sample - loss: 0.0171 - acc: 0.9886\n",
      "Epoch 98/300\n",
      "965/965 [==============================] - 19s 20ms/sample - loss: 0.0184 - acc: 0.9855\n",
      "Epoch 99/300\n",
      "965/965 [==============================] - 19s 20ms/sample - loss: 0.0173 - acc: 0.9876\n",
      "Epoch 100/300\n",
      "960/965 [============================>.] - ETA: 0s - loss: 0.0178 - acc: 0.9885\n",
      "Epoch 00100: saving model to /mnt/DATA-SSD/DataSandbox/model_20190711_0100.h5\n",
      "965/965 [==============================] - 19s 20ms/sample - loss: 0.0177 - acc: 0.9886\n",
      "Epoch 101/300\n",
      "965/965 [==============================] - 19s 20ms/sample - loss: 0.0190 - acc: 0.9865\n",
      "Epoch 102/300\n",
      "965/965 [==============================] - 19s 20ms/sample - loss: 0.0190 - acc: 0.9845\n",
      "Epoch 103/300\n",
      "965/965 [==============================] - 19s 20ms/sample - loss: 0.0161 - acc: 0.9907\n",
      "Epoch 104/300\n",
      "965/965 [==============================] - 19s 20ms/sample - loss: 0.0155 - acc: 0.9886\n",
      "Epoch 105/300\n",
      "965/965 [==============================] - 19s 20ms/sample - loss: 0.0178 - acc: 0.9855\n",
      "Epoch 106/300\n",
      "965/965 [==============================] - 19s 20ms/sample - loss: 0.0238 - acc: 0.9876\n",
      "Epoch 107/300\n",
      "965/965 [==============================] - 19s 20ms/sample - loss: 0.0281 - acc: 0.9876\n",
      "Epoch 108/300\n",
      "965/965 [==============================] - 19s 20ms/sample - loss: 0.1937 - acc: 0.9409\n",
      "Epoch 109/300\n",
      "965/965 [==============================] - 19s 20ms/sample - loss: 0.0937 - acc: 0.9627\n",
      "Epoch 110/300\n",
      "960/965 [============================>.] - ETA: 0s - loss: 0.0450 - acc: 0.9792\n",
      "Epoch 00110: saving model to /mnt/DATA-SSD/DataSandbox/model_20190711_0110.h5\n",
      "965/965 [==============================] - 19s 20ms/sample - loss: 0.0448 - acc: 0.9793\n",
      "Epoch 111/300\n",
      "965/965 [==============================] - 19s 20ms/sample - loss: 0.0689 - acc: 0.9803\n",
      "Epoch 112/300\n",
      "965/965 [==============================] - 19s 20ms/sample - loss: 0.0339 - acc: 0.9845\n",
      "Epoch 113/300\n",
      "965/965 [==============================] - 19s 20ms/sample - loss: 0.0198 - acc: 0.9865\n",
      "Epoch 114/300\n",
      "965/965 [==============================] - 19s 20ms/sample - loss: 0.0175 - acc: 0.9896\n",
      "Epoch 115/300\n",
      "965/965 [==============================] - 19s 20ms/sample - loss: 0.0177 - acc: 0.9876\n",
      "Epoch 116/300\n",
      "965/965 [==============================] - 19s 20ms/sample - loss: 0.0165 - acc: 0.9907\n",
      "Epoch 117/300\n",
      "965/965 [==============================] - 19s 20ms/sample - loss: 0.0168 - acc: 0.9876\n",
      "Epoch 118/300\n",
      "965/965 [==============================] - 19s 20ms/sample - loss: 0.0172 - acc: 0.9886\n",
      "Epoch 119/300\n",
      "965/965 [==============================] - 19s 20ms/sample - loss: 0.0167 - acc: 0.9876\n",
      "Epoch 120/300\n",
      "960/965 [============================>.] - ETA: 0s - loss: 0.0168 - acc: 0.9896\n",
      "Epoch 00120: saving model to /mnt/DATA-SSD/DataSandbox/model_20190711_0120.h5\n",
      "965/965 [==============================] - 19s 20ms/sample - loss: 0.0167 - acc: 0.9896\n",
      "Epoch 121/300\n",
      "965/965 [==============================] - 19s 20ms/sample - loss: 0.0186 - acc: 0.9865\n",
      "Epoch 122/300\n",
      "965/965 [==============================] - 19s 20ms/sample - loss: 0.0188 - acc: 0.9886\n",
      "Epoch 123/300\n",
      "965/965 [==============================] - 19s 20ms/sample - loss: 0.0162 - acc: 0.9907\n",
      "Epoch 124/300\n",
      "965/965 [==============================] - 19s 20ms/sample - loss: 0.0186 - acc: 0.9896\n",
      "Epoch 125/300\n",
      "965/965 [==============================] - 19s 20ms/sample - loss: 0.0165 - acc: 0.9896\n",
      "Epoch 126/300\n",
      "965/965 [==============================] - 19s 20ms/sample - loss: 0.0158 - acc: 0.9876\n",
      "Epoch 127/300\n",
      "965/965 [==============================] - 19s 20ms/sample - loss: 0.0176 - acc: 0.9855\n",
      "Epoch 128/300\n",
      "965/965 [==============================] - 19s 20ms/sample - loss: 0.0160 - acc: 0.9907\n",
      "Epoch 129/300\n",
      "965/965 [==============================] - 19s 20ms/sample - loss: 0.0175 - acc: 0.9865\n",
      "Epoch 130/300\n",
      "960/965 [============================>.] - ETA: 0s - loss: 0.0184 - acc: 0.9885\n",
      "Epoch 00130: saving model to /mnt/DATA-SSD/DataSandbox/model_20190711_0130.h5\n",
      "965/965 [==============================] - 19s 20ms/sample - loss: 0.0183 - acc: 0.9886\n",
      "Epoch 131/300\n",
      "965/965 [==============================] - 19s 20ms/sample - loss: 0.0169 - acc: 0.9886\n",
      "Epoch 132/300\n",
      "965/965 [==============================] - 19s 20ms/sample - loss: 0.0169 - acc: 0.9876\n",
      "Epoch 133/300\n",
      "965/965 [==============================] - 19s 20ms/sample - loss: 0.0172 - acc: 0.9876\n",
      "Epoch 134/300\n",
      "965/965 [==============================] - 19s 20ms/sample - loss: 0.0162 - acc: 0.9876\n",
      "Epoch 135/300\n",
      "965/965 [==============================] - 19s 20ms/sample - loss: 0.0167 - acc: 0.9896\n",
      "Epoch 136/300\n",
      "965/965 [==============================] - 19s 20ms/sample - loss: 0.0159 - acc: 0.9865\n",
      "Epoch 137/300\n",
      "965/965 [==============================] - 19s 20ms/sample - loss: 0.0163 - acc: 0.9876\n",
      "Epoch 138/300\n",
      "965/965 [==============================] - 19s 20ms/sample - loss: 0.0155 - acc: 0.9886\n",
      "Epoch 139/300\n"
     ]
    },
    {
     "name": "stdout",
     "output_type": "stream",
     "text": [
      "965/965 [==============================] - 19s 20ms/sample - loss: 0.0164 - acc: 0.9896\n",
      "Epoch 140/300\n",
      "960/965 [============================>.] - ETA: 0s - loss: 0.0160 - acc: 0.9896\n",
      "Epoch 00140: saving model to /mnt/DATA-SSD/DataSandbox/model_20190711_0140.h5\n",
      "965/965 [==============================] - 19s 20ms/sample - loss: 0.0159 - acc: 0.9896\n",
      "Epoch 141/300\n",
      "965/965 [==============================] - 19s 20ms/sample - loss: 0.0902 - acc: 0.9658\n",
      "Epoch 142/300\n",
      "965/965 [==============================] - 19s 20ms/sample - loss: 0.1253 - acc: 0.9534\n",
      "Epoch 143/300\n",
      "965/965 [==============================] - 19s 20ms/sample - loss: 0.0676 - acc: 0.9741\n",
      "Epoch 144/300\n",
      "965/965 [==============================] - 19s 20ms/sample - loss: 0.0475 - acc: 0.9803\n",
      "Epoch 145/300\n",
      "965/965 [==============================] - 19s 20ms/sample - loss: 0.0212 - acc: 0.9865\n",
      "Epoch 146/300\n",
      "965/965 [==============================] - 19s 20ms/sample - loss: 0.0203 - acc: 0.9865\n",
      "Epoch 147/300\n",
      "965/965 [==============================] - 19s 20ms/sample - loss: 0.0164 - acc: 0.9896\n",
      "Epoch 148/300\n",
      "965/965 [==============================] - 19s 20ms/sample - loss: 0.0169 - acc: 0.9865\n",
      "Epoch 149/300\n",
      "965/965 [==============================] - 19s 20ms/sample - loss: 0.0184 - acc: 0.9876\n",
      "Epoch 150/300\n",
      "960/965 [============================>.] - ETA: 0s - loss: 0.0161 - acc: 0.9875\n",
      "Epoch 00150: saving model to /mnt/DATA-SSD/DataSandbox/model_20190711_0150.h5\n",
      "965/965 [==============================] - 19s 20ms/sample - loss: 0.0160 - acc: 0.9876\n",
      "Epoch 151/300\n",
      "965/965 [==============================] - 19s 20ms/sample - loss: 0.0160 - acc: 0.9886\n",
      "Epoch 152/300\n",
      "965/965 [==============================] - 19s 20ms/sample - loss: 0.0161 - acc: 0.9886\n",
      "Epoch 153/300\n",
      "965/965 [==============================] - 19s 20ms/sample - loss: 0.0159 - acc: 0.9907\n",
      "Epoch 154/300\n",
      "965/965 [==============================] - 19s 20ms/sample - loss: 0.0163 - acc: 0.9876\n",
      "Epoch 155/300\n",
      "965/965 [==============================] - 19s 20ms/sample - loss: 0.0157 - acc: 0.9907\n",
      "Epoch 156/300\n",
      "965/965 [==============================] - 19s 20ms/sample - loss: 0.0158 - acc: 0.9907\n",
      "Epoch 157/300\n",
      "965/965 [==============================] - 19s 20ms/sample - loss: 0.0167 - acc: 0.9865\n",
      "Epoch 158/300\n",
      "965/965 [==============================] - 19s 20ms/sample - loss: 0.0158 - acc: 0.9886\n",
      "Epoch 159/300\n",
      "965/965 [==============================] - 19s 20ms/sample - loss: 0.0177 - acc: 0.9896\n",
      "Epoch 160/300\n",
      "960/965 [============================>.] - ETA: 0s - loss: 0.0155 - acc: 0.9885\n",
      "Epoch 00160: saving model to /mnt/DATA-SSD/DataSandbox/model_20190711_0160.h5\n",
      "965/965 [==============================] - 19s 20ms/sample - loss: 0.0154 - acc: 0.9886\n",
      "Epoch 161/300\n",
      "965/965 [==============================] - 19s 20ms/sample - loss: 0.0146 - acc: 0.9876\n",
      "Epoch 162/300\n",
      "965/965 [==============================] - 19s 20ms/sample - loss: 0.0150 - acc: 0.9886\n",
      "Epoch 163/300\n",
      "965/965 [==============================] - 19s 20ms/sample - loss: 0.0155 - acc: 0.9886\n",
      "Epoch 164/300\n",
      "965/965 [==============================] - 19s 20ms/sample - loss: 0.0156 - acc: 0.9876\n",
      "Epoch 165/300\n",
      "965/965 [==============================] - 20s 20ms/sample - loss: 0.0150 - acc: 0.9896\n",
      "Epoch 166/300\n",
      "965/965 [==============================] - 20s 21ms/sample - loss: 0.0155 - acc: 0.9886\n",
      "Epoch 167/300\n",
      "965/965 [==============================] - 20s 21ms/sample - loss: 0.0158 - acc: 0.9886\n",
      "Epoch 168/300\n",
      "965/965 [==============================] - 20s 21ms/sample - loss: 0.0166 - acc: 0.9886\n",
      "Epoch 169/300\n",
      "965/965 [==============================] - 20s 21ms/sample - loss: 0.0159 - acc: 0.9886\n",
      "Epoch 170/300\n",
      "960/965 [============================>.] - ETA: 0s - loss: 0.0155 - acc: 0.9906\n",
      "Epoch 00170: saving model to /mnt/DATA-SSD/DataSandbox/model_20190711_0170.h5\n",
      "965/965 [==============================] - 20s 21ms/sample - loss: 0.0154 - acc: 0.9907\n",
      "Epoch 171/300\n",
      "965/965 [==============================] - 20s 21ms/sample - loss: 0.0156 - acc: 0.9886\n",
      "Epoch 172/300\n",
      "965/965 [==============================] - 20s 21ms/sample - loss: 0.0156 - acc: 0.9907\n",
      "Epoch 173/300\n",
      "965/965 [==============================] - 20s 21ms/sample - loss: 0.0156 - acc: 0.9907\n",
      "Epoch 174/300\n",
      "965/965 [==============================] - 20s 21ms/sample - loss: 0.0175 - acc: 0.9907\n",
      "Epoch 175/300\n",
      "965/965 [==============================] - 20s 21ms/sample - loss: 0.0151 - acc: 0.9876\n",
      "Epoch 176/300\n",
      "965/965 [==============================] - 20s 21ms/sample - loss: 0.0244 - acc: 0.9896\n",
      "Epoch 177/300\n",
      "965/965 [==============================] - 20s 21ms/sample - loss: 0.1099 - acc: 0.9658\n",
      "Epoch 178/300\n",
      "965/965 [==============================] - 20s 21ms/sample - loss: 0.2101 - acc: 0.9368\n",
      "Epoch 179/300\n",
      "965/965 [==============================] - 20s 21ms/sample - loss: 0.0406 - acc: 0.9834\n",
      "Epoch 180/300\n",
      "960/965 [============================>.] - ETA: 0s - loss: 0.0202 - acc: 0.9885\n",
      "Epoch 00180: saving model to /mnt/DATA-SSD/DataSandbox/model_20190711_0180.h5\n",
      "965/965 [==============================] - 20s 21ms/sample - loss: 0.0201 - acc: 0.9886\n",
      "Epoch 181/300\n",
      "965/965 [==============================] - 20s 21ms/sample - loss: 0.0170 - acc: 0.9876\n",
      "Epoch 182/300\n",
      "965/965 [==============================] - 20s 21ms/sample - loss: 0.0164 - acc: 0.9886\n",
      "Epoch 183/300\n",
      "965/965 [==============================] - 19s 20ms/sample - loss: 0.0159 - acc: 0.9886\n",
      "Epoch 184/300\n",
      "965/965 [==============================] - 19s 20ms/sample - loss: 0.0159 - acc: 0.9886\n",
      "Epoch 185/300\n",
      "965/965 [==============================] - 19s 20ms/sample - loss: 0.0157 - acc: 0.9865\n",
      "Epoch 186/300\n",
      "965/965 [==============================] - 19s 20ms/sample - loss: 0.0161 - acc: 0.9865\n",
      "Epoch 187/300\n",
      "965/965 [==============================] - 19s 20ms/sample - loss: 0.0217 - acc: 0.9876\n",
      "Epoch 188/300\n",
      "965/965 [==============================] - 19s 20ms/sample - loss: 0.0167 - acc: 0.9886\n",
      "Epoch 189/300\n",
      "965/965 [==============================] - 19s 20ms/sample - loss: 0.0154 - acc: 0.9896\n",
      "Epoch 190/300\n",
      "960/965 [============================>.] - ETA: 0s - loss: 0.0156 - acc: 0.9896\n",
      "Epoch 00190: saving model to /mnt/DATA-SSD/DataSandbox/model_20190711_0190.h5\n",
      "965/965 [==============================] - 19s 20ms/sample - loss: 0.0155 - acc: 0.9896\n",
      "Epoch 191/300\n",
      "965/965 [==============================] - 19s 20ms/sample - loss: 0.0156 - acc: 0.9876\n",
      "Epoch 192/300\n",
      "965/965 [==============================] - 19s 20ms/sample - loss: 0.0152 - acc: 0.9907\n",
      "Epoch 193/300\n",
      "965/965 [==============================] - 19s 20ms/sample - loss: 0.0157 - acc: 0.9876\n",
      "Epoch 194/300\n",
      "965/965 [==============================] - 19s 20ms/sample - loss: 0.0151 - acc: 0.9886\n",
      "Epoch 195/300\n",
      "965/965 [==============================] - 19s 20ms/sample - loss: 0.0160 - acc: 0.9876\n",
      "Epoch 196/300\n",
      "965/965 [==============================] - 19s 20ms/sample - loss: 0.0167 - acc: 0.9876\n",
      "Epoch 197/300\n",
      "965/965 [==============================] - 19s 20ms/sample - loss: 0.0160 - acc: 0.9886\n",
      "Epoch 198/300\n",
      "965/965 [==============================] - 19s 20ms/sample - loss: 0.0152 - acc: 0.9865\n",
      "Epoch 199/300\n",
      "965/965 [==============================] - 19s 20ms/sample - loss: 0.0157 - acc: 0.9896\n",
      "Epoch 200/300\n",
      "960/965 [============================>.] - ETA: 0s - loss: 0.0159 - acc: 0.9885\n",
      "Epoch 00200: saving model to /mnt/DATA-SSD/DataSandbox/model_20190711_0200.h5\n",
      "965/965 [==============================] - 19s 20ms/sample - loss: 0.0158 - acc: 0.9886\n",
      "Epoch 201/300\n",
      "965/965 [==============================] - 19s 20ms/sample - loss: 0.0158 - acc: 0.9896\n",
      "Epoch 202/300\n",
      "965/965 [==============================] - 19s 20ms/sample - loss: 0.0157 - acc: 0.9886\n",
      "Epoch 203/300\n",
      "965/965 [==============================] - 19s 20ms/sample - loss: 0.0175 - acc: 0.9896\n",
      "Epoch 204/300\n",
      "965/965 [==============================] - 19s 20ms/sample - loss: 0.0244 - acc: 0.9886\n",
      "Epoch 205/300\n",
      "965/965 [==============================] - 19s 20ms/sample - loss: 0.0943 - acc: 0.9658\n",
      "Epoch 206/300\n",
      "965/965 [==============================] - 19s 20ms/sample - loss: 0.0877 - acc: 0.9699\n",
      "Epoch 207/300\n",
      "965/965 [==============================] - 19s 20ms/sample - loss: 0.0282 - acc: 0.9824\n",
      "Epoch 208/300\n"
     ]
    },
    {
     "name": "stdout",
     "output_type": "stream",
     "text": [
      "965/965 [==============================] - 19s 20ms/sample - loss: 0.0211 - acc: 0.9896\n",
      "Epoch 209/300\n",
      "965/965 [==============================] - 19s 20ms/sample - loss: 0.0161 - acc: 0.9896\n",
      "Epoch 210/300\n",
      "960/965 [============================>.] - ETA: 0s - loss: 0.0157 - acc: 0.9875\n",
      "Epoch 00210: saving model to /mnt/DATA-SSD/DataSandbox/model_20190711_0210.h5\n",
      "965/965 [==============================] - 19s 20ms/sample - loss: 0.0156 - acc: 0.9876\n",
      "Epoch 211/300\n",
      "965/965 [==============================] - 19s 20ms/sample - loss: 0.0154 - acc: 0.9876\n",
      "Epoch 212/300\n",
      "965/965 [==============================] - 19s 20ms/sample - loss: 0.0155 - acc: 0.9876\n",
      "Epoch 213/300\n",
      "965/965 [==============================] - 19s 20ms/sample - loss: 0.0150 - acc: 0.9907\n",
      "Epoch 214/300\n",
      "965/965 [==============================] - 19s 20ms/sample - loss: 0.0154 - acc: 0.9896\n",
      "Epoch 215/300\n",
      "965/965 [==============================] - 19s 20ms/sample - loss: 0.0151 - acc: 0.9886\n",
      "Epoch 216/300\n",
      "965/965 [==============================] - 19s 20ms/sample - loss: 0.0150 - acc: 0.9876\n",
      "Epoch 217/300\n",
      "965/965 [==============================] - 19s 20ms/sample - loss: 0.0145 - acc: 0.9896\n",
      "Epoch 218/300\n",
      "965/965 [==============================] - 19s 20ms/sample - loss: 0.0147 - acc: 0.9907\n",
      "Epoch 219/300\n",
      "965/965 [==============================] - 19s 20ms/sample - loss: 0.0152 - acc: 0.9876\n",
      "Epoch 220/300\n",
      "960/965 [============================>.] - ETA: 0s - loss: 0.0150 - acc: 0.9885\n",
      "Epoch 00220: saving model to /mnt/DATA-SSD/DataSandbox/model_20190711_0220.h5\n",
      "965/965 [==============================] - 19s 20ms/sample - loss: 0.0149 - acc: 0.9886\n",
      "Epoch 221/300\n",
      "965/965 [==============================] - 19s 20ms/sample - loss: 0.0159 - acc: 0.9896\n",
      "Epoch 222/300\n",
      "965/965 [==============================] - 19s 20ms/sample - loss: 0.0153 - acc: 0.9886\n",
      "Epoch 223/300\n",
      "965/965 [==============================] - 19s 20ms/sample - loss: 0.0152 - acc: 0.9886\n",
      "Epoch 224/300\n",
      "965/965 [==============================] - 19s 20ms/sample - loss: 0.0149 - acc: 0.9876\n",
      "Epoch 225/300\n",
      "965/965 [==============================] - 19s 20ms/sample - loss: 0.0152 - acc: 0.9865\n",
      "Epoch 226/300\n",
      "965/965 [==============================] - 19s 20ms/sample - loss: 0.0146 - acc: 0.9886\n",
      "Epoch 227/300\n",
      "965/965 [==============================] - 19s 20ms/sample - loss: 0.0151 - acc: 0.9886\n",
      "Epoch 228/300\n",
      "965/965 [==============================] - 19s 20ms/sample - loss: 0.0145 - acc: 0.9886\n",
      "Epoch 229/300\n",
      "965/965 [==============================] - 19s 20ms/sample - loss: 0.0148 - acc: 0.9896\n",
      "Epoch 230/300\n",
      "960/965 [============================>.] - ETA: 0s - loss: 0.0146 - acc: 0.9906\n",
      "Epoch 00230: saving model to /mnt/DATA-SSD/DataSandbox/model_20190711_0230.h5\n",
      "965/965 [==============================] - 19s 20ms/sample - loss: 0.0145 - acc: 0.9907\n",
      "Epoch 231/300\n",
      "965/965 [==============================] - 19s 20ms/sample - loss: 0.0147 - acc: 0.9896\n",
      "Epoch 232/300\n",
      "965/965 [==============================] - 19s 20ms/sample - loss: 0.0147 - acc: 0.9907\n",
      "Epoch 233/300\n",
      "965/965 [==============================] - 19s 20ms/sample - loss: 0.0143 - acc: 0.9876\n",
      "Epoch 234/300\n",
      "965/965 [==============================] - 19s 20ms/sample - loss: 0.0142 - acc: 0.9896\n",
      "Epoch 235/300\n",
      "965/965 [==============================] - 19s 20ms/sample - loss: 0.0142 - acc: 0.9907\n",
      "Epoch 236/300\n",
      "965/965 [==============================] - 19s 20ms/sample - loss: 0.0144 - acc: 0.9865\n",
      "Epoch 237/300\n",
      "965/965 [==============================] - 19s 20ms/sample - loss: 0.0144 - acc: 0.9876\n",
      "Epoch 238/300\n",
      "965/965 [==============================] - 19s 20ms/sample - loss: 0.0145 - acc: 0.9896\n",
      "Epoch 239/300\n",
      "965/965 [==============================] - 19s 20ms/sample - loss: 0.0145 - acc: 0.9896\n",
      "Epoch 240/300\n",
      "960/965 [============================>.] - ETA: 0s - loss: 0.0151 - acc: 0.9865\n",
      "Epoch 00240: saving model to /mnt/DATA-SSD/DataSandbox/model_20190711_0240.h5\n",
      "965/965 [==============================] - 19s 20ms/sample - loss: 0.0150 - acc: 0.9865\n",
      "Epoch 241/300\n",
      "965/965 [==============================] - 19s 20ms/sample - loss: 0.0156 - acc: 0.9886\n",
      "Epoch 242/300\n",
      "965/965 [==============================] - 19s 20ms/sample - loss: 0.0568 - acc: 0.9762\n",
      "Epoch 243/300\n",
      "965/965 [==============================] - 19s 20ms/sample - loss: 0.2114 - acc: 0.9378\n",
      "Epoch 244/300\n",
      "965/965 [==============================] - 19s 20ms/sample - loss: 0.0419 - acc: 0.9803\n",
      "Epoch 245/300\n",
      "965/965 [==============================] - 19s 20ms/sample - loss: 0.0185 - acc: 0.9865\n",
      "Epoch 246/300\n",
      "965/965 [==============================] - 19s 20ms/sample - loss: 0.0155 - acc: 0.9896\n",
      "Epoch 247/300\n",
      "965/965 [==============================] - 19s 20ms/sample - loss: 0.0149 - acc: 0.9907\n",
      "Epoch 248/300\n",
      "965/965 [==============================] - 19s 20ms/sample - loss: 0.0149 - acc: 0.9886\n",
      "Epoch 249/300\n",
      "965/965 [==============================] - 19s 20ms/sample - loss: 0.0145 - acc: 0.9886\n",
      "Epoch 250/300\n",
      "960/965 [============================>.] - ETA: 0s - loss: 0.0147 - acc: 0.9875\n",
      "Epoch 00250: saving model to /mnt/DATA-SSD/DataSandbox/model_20190711_0250.h5\n",
      "965/965 [==============================] - 19s 20ms/sample - loss: 0.0146 - acc: 0.9876\n",
      "Epoch 251/300\n",
      "965/965 [==============================] - 19s 20ms/sample - loss: 0.0148 - acc: 0.9876\n",
      "Epoch 252/300\n",
      "965/965 [==============================] - 19s 20ms/sample - loss: 0.0148 - acc: 0.9896\n",
      "Epoch 253/300\n",
      "965/965 [==============================] - 19s 20ms/sample - loss: 0.0147 - acc: 0.9907\n",
      "Epoch 254/300\n",
      "965/965 [==============================] - 19s 20ms/sample - loss: 0.0146 - acc: 0.9896\n",
      "Epoch 255/300\n",
      "965/965 [==============================] - 19s 20ms/sample - loss: 0.0146 - acc: 0.9865\n",
      "Epoch 256/300\n",
      "965/965 [==============================] - 19s 20ms/sample - loss: 0.0145 - acc: 0.9896\n",
      "Epoch 257/300\n",
      "965/965 [==============================] - 19s 20ms/sample - loss: 0.0142 - acc: 0.9886\n",
      "Epoch 258/300\n",
      "965/965 [==============================] - 19s 20ms/sample - loss: 0.0151 - acc: 0.9886\n",
      "Epoch 259/300\n",
      "965/965 [==============================] - 19s 20ms/sample - loss: 0.0147 - acc: 0.9876\n",
      "Epoch 260/300\n",
      "960/965 [============================>.] - ETA: 0s - loss: 0.0143 - acc: 0.9906\n",
      "Epoch 00260: saving model to /mnt/DATA-SSD/DataSandbox/model_20190711_0260.h5\n",
      "965/965 [==============================] - 19s 20ms/sample - loss: 0.0142 - acc: 0.9907\n",
      "Epoch 261/300\n",
      "965/965 [==============================] - 19s 20ms/sample - loss: 0.0140 - acc: 0.9865\n",
      "Epoch 262/300\n",
      "965/965 [==============================] - 19s 20ms/sample - loss: 0.0145 - acc: 0.9907\n",
      "Epoch 263/300\n",
      "965/965 [==============================] - 19s 20ms/sample - loss: 0.0152 - acc: 0.9896\n",
      "Epoch 264/300\n",
      "965/965 [==============================] - 19s 20ms/sample - loss: 0.0146 - acc: 0.9896\n",
      "Epoch 265/300\n",
      "965/965 [==============================] - 19s 20ms/sample - loss: 0.0146 - acc: 0.9845\n",
      "Epoch 266/300\n",
      "965/965 [==============================] - 19s 20ms/sample - loss: 0.0147 - acc: 0.9896\n",
      "Epoch 267/300\n",
      "965/965 [==============================] - 19s 20ms/sample - loss: 0.0144 - acc: 0.9896\n",
      "Epoch 268/300\n",
      "965/965 [==============================] - 19s 20ms/sample - loss: 0.0144 - acc: 0.9865\n",
      "Epoch 269/300\n",
      "965/965 [==============================] - 19s 20ms/sample - loss: 0.0147 - acc: 0.9865\n",
      "Epoch 270/300\n",
      "960/965 [============================>.] - ETA: 0s - loss: 0.0146 - acc: 0.9885\n",
      "Epoch 00270: saving model to /mnt/DATA-SSD/DataSandbox/model_20190711_0270.h5\n",
      "965/965 [==============================] - 19s 20ms/sample - loss: 0.0146 - acc: 0.9886\n",
      "Epoch 271/300\n",
      "965/965 [==============================] - 19s 20ms/sample - loss: 0.0147 - acc: 0.9896\n",
      "Epoch 272/300\n",
      "965/965 [==============================] - 19s 20ms/sample - loss: 0.0146 - acc: 0.9865\n",
      "Epoch 273/300\n",
      "965/965 [==============================] - 19s 20ms/sample - loss: 0.0142 - acc: 0.9896\n",
      "Epoch 274/300\n",
      "965/965 [==============================] - 19s 20ms/sample - loss: 0.0147 - acc: 0.9917\n",
      "Epoch 275/300\n",
      "965/965 [==============================] - 19s 20ms/sample - loss: 0.0147 - acc: 0.9834\n",
      "Epoch 276/300\n",
      "965/965 [==============================] - 19s 20ms/sample - loss: 0.0144 - acc: 0.9896\n",
      "Epoch 277/300\n"
     ]
    },
    {
     "name": "stdout",
     "output_type": "stream",
     "text": [
      "965/965 [==============================] - 19s 20ms/sample - loss: 0.0140 - acc: 0.9886\n",
      "Epoch 278/300\n",
      "965/965 [==============================] - 19s 20ms/sample - loss: 0.0144 - acc: 0.9876\n",
      "Epoch 279/300\n",
      "965/965 [==============================] - 19s 20ms/sample - loss: 0.0147 - acc: 0.9886\n",
      "Epoch 280/300\n",
      "960/965 [============================>.] - ETA: 0s - loss: 0.0147 - acc: 0.9896\n",
      "Epoch 00280: saving model to /mnt/DATA-SSD/DataSandbox/model_20190711_0280.h5\n",
      "965/965 [==============================] - 19s 20ms/sample - loss: 0.0147 - acc: 0.9896\n",
      "Epoch 281/300\n",
      "965/965 [==============================] - 19s 20ms/sample - loss: 0.0148 - acc: 0.9907\n",
      "Epoch 282/300\n",
      "965/965 [==============================] - 19s 20ms/sample - loss: 0.0144 - acc: 0.9907\n",
      "Epoch 283/300\n",
      "965/965 [==============================] - 19s 20ms/sample - loss: 0.0143 - acc: 0.9907\n",
      "Epoch 284/300\n",
      "965/965 [==============================] - 19s 20ms/sample - loss: 0.0147 - acc: 0.9896\n",
      "Epoch 285/300\n",
      "965/965 [==============================] - 19s 20ms/sample - loss: 0.0145 - acc: 0.9886\n",
      "Epoch 286/300\n",
      "965/965 [==============================] - 19s 20ms/sample - loss: 0.0146 - acc: 0.9886\n",
      "Epoch 287/300\n",
      "965/965 [==============================] - 19s 20ms/sample - loss: 0.0143 - acc: 0.9907\n",
      "Epoch 288/300\n",
      "965/965 [==============================] - 19s 20ms/sample - loss: 0.0144 - acc: 0.9865\n",
      "Epoch 289/300\n",
      "965/965 [==============================] - 19s 20ms/sample - loss: 0.0145 - acc: 0.9896\n",
      "Epoch 290/300\n",
      "960/965 [============================>.] - ETA: 0s - loss: 0.0143 - acc: 0.9896\n",
      "Epoch 00290: saving model to /mnt/DATA-SSD/DataSandbox/model_20190711_0290.h5\n",
      "965/965 [==============================] - 19s 20ms/sample - loss: 0.0142 - acc: 0.9896\n",
      "Epoch 291/300\n",
      "965/965 [==============================] - 19s 20ms/sample - loss: 0.0143 - acc: 0.9845\n",
      "Epoch 292/300\n",
      "965/965 [==============================] - 19s 20ms/sample - loss: 0.0145 - acc: 0.9876\n",
      "Epoch 293/300\n",
      "965/965 [==============================] - 19s 20ms/sample - loss: 0.0142 - acc: 0.9876\n",
      "Epoch 294/300\n",
      "965/965 [==============================] - 19s 20ms/sample - loss: 0.0145 - acc: 0.9896\n",
      "Epoch 295/300\n",
      "965/965 [==============================] - 19s 20ms/sample - loss: 0.0147 - acc: 0.9834\n",
      "Epoch 296/300\n",
      "965/965 [==============================] - 19s 20ms/sample - loss: 0.0141 - acc: 0.9886\n",
      "Epoch 297/300\n",
      "965/965 [==============================] - 19s 20ms/sample - loss: 0.0143 - acc: 0.9907\n",
      "Epoch 298/300\n",
      "965/965 [==============================] - 19s 20ms/sample - loss: 0.1399 - acc: 0.9596\n",
      "Epoch 299/300\n",
      "965/965 [==============================] - 19s 20ms/sample - loss: 0.0972 - acc: 0.9606\n",
      "Epoch 300/300\n",
      "960/965 [============================>.] - ETA: 0s - loss: 0.0303 - acc: 0.9865\n",
      "Epoch 00300: saving model to /mnt/DATA-SSD/DataSandbox/model_20190711_0300.h5\n",
      "965/965 [==============================] - 19s 20ms/sample - loss: 0.0301 - acc: 0.9865\n"
     ]
    }
   ],
   "source": [
    "import datetime\n",
    "# este es el modelo estándar, con la entrada y la salida esperadas\n",
    "# hay que sustituirlo por un iterador.\n",
    "\n",
    "\n",
    "# No olvidarse de incluir un train_history para recuperar los datos del entrenamiento\n",
    "# 5000 epochs es una locura y el número de steps per epoch es muy bajo (no se recorren todas las imagenes)\n",
    "# el mínimo steps_per_epoch debería de ser total_muestras/batch_size\n",
    "\n",
    "lt = datetime.datetime.now().strftime(\"%Y%m%d%H%M%S\")\n",
    "\n",
    "model_file = \"/mnt/DATA-SSD/DataSandbox/model_\" + lt + \"_{epoch:04d}.h5\"\n",
    "\n",
    "# with callback\n",
    "train_history = model.fit(X, Y,\n",
    "                          batch_size = 10,\n",
    "                          epochs=300,\n",
    "                          verbose=1,\n",
    "                          callbacks = [tf.keras.callbacks.ModelCheckpoint(model_file, \n",
    "                                                                          save_weights_only = False,\n",
    "                                                                          verbose=1,\n",
    "                                                                          period=10)])\n"
   ]
  },
  {
   "cell_type": "code",
   "execution_count": 22,
   "metadata": {},
   "outputs": [
    {
     "data": {
      "image/png": "[encoded data removed]",
      "text/plain": [
       "<Figure size 432x288 with 1 Axes>"
      ]
     },
     "metadata": {
      "needs_background": "light"
     },
     "output_type": "display_data"
    },
    {
     "data": {
      "image/png": "[encoded data removed]",
      "text/plain": [
       "<Figure size 432x288 with 1 Axes>"
      ]
     },
     "metadata": {
      "needs_background": "light"
     },
     "output_type": "display_data"
    }
   ],
   "source": [
    "# summarize history for accuracy\n",
    "plt.plot(train_history.history['acc'])\n",
    "plt.title('model accuracy')\n",
    "plt.ylabel('accuracy')\n",
    "plt.xlabel('epoch')\n",
    "plt.legend(['train', 'test'], loc='upper left')\n",
    "plt.show()\n",
    "# summarize history for loss\n",
    "plt.plot(train_history.history['loss'])\n",
    "plt.title('model loss')\n",
    "plt.ylabel('loss')\n",
    "plt.xlabel('epoch')\n",
    "plt.legend(['train', 'test'], loc='upper left')\n",
    "plt.show()"
   ]
  },
  {
   "cell_type": "code",
   "execution_count": 26,
   "metadata": {},
   "outputs": [
    {
     "data": {
      "text/plain": [
       "[           id_code  diagnosis\n",
       " 1361  5ead17e894ae          0,            id_code  diagnosis\n",
       " 3305  e580676516b0          1,           id_code  diagnosis\n",
       " 520  2532613a584a          2,            id_code  diagnosis\n",
       " 2200  9a94e0316ee3          3,          id_code  diagnosis\n",
       " 88  07122e268a1d          4]"
      ]
     },
     "execution_count": 26,
     "metadata": {},
     "output_type": "execute_result"
    }
   ],
   "source": [
    "# Choose 5 random images one for each different diagnosis value\n",
    "\n",
    "image_list = []\n",
    "for class_id in sorted(y.unique()):\n",
    "    image_list.append(df_train.loc[df_train['diagnosis'] == class_id].sample(1, random_state=SEED))\n",
    "\n",
    "image_list"
   ]
  },
  {
   "cell_type": "code",
   "execution_count": 27,
   "metadata": {},
   "outputs": [
    {
     "data": {
      "text/plain": [
       "{'5ead17e894ae': [0, array([[1., 0., 0., 0., 0.]], dtype=float32)],\n",
       " 'e580676516b0': [1, array([[0., 1., 0., 0., 0.]], dtype=float32)],\n",
       " '2532613a584a': [2, array([[0., 0., 1., 0., 0.]], dtype=float32)],\n",
       " '9a94e0316ee3': [3, array([[0., 0., 0., 1., 0.]], dtype=float32)],\n",
       " '07122e268a1d': [4, array([[0., 0., 0., 0., 1.]], dtype=float32)]}"
      ]
     },
     "execution_count": 27,
     "metadata": {},
     "output_type": "execute_result"
    }
   ],
   "source": [
    "predict = {}\n",
    "for image_data in image_list:\n",
    "    path=f\"{DATA_PATH}/processed_train_images/{image_data.iloc[0][0]}.png\"\n",
    "    img = image.load_img(path, grayscale=True,target_size=(width,height,1))\n",
    "    img = image.img_to_array(img)\n",
    "    img = img.reshape(1,width,height,1)\n",
    "\n",
    "    predict[image_data.iloc[0][0]] = [image_data.iloc[0][1], model.predict(img)]\n",
    "    \n",
    "predict"
   ]
  },
  {
   "cell_type": "code",
   "execution_count": 28,
   "metadata": {},
   "outputs": [],
   "source": [
    "results_train = {}\n",
    "for i in df_train.iterrows():\n",
    "    path=f\"{DATA_PATH}/processed_train_images/{i[1][0]}.png\"\n",
    "    img = image.load_img(path, grayscale=True,target_size=(width,height,1))\n",
    "    img = image.img_to_array(img)\n",
    "    img = img.reshape(1,width,height,1)\n",
    "\n",
    "    results_train[i[0]] = [i[1][0], i[1][1], model.predict(img)]\n"
   ]
  },
  {
   "cell_type": "code",
   "execution_count": 29,
   "metadata": {},
   "outputs": [],
   "source": [
    "results_df = pd.DataFrame.from_dict(results_train, \n",
    "                                    orient='index', \n",
    "                                    columns=['imge_id', 'diagnoses', 'prediction'])"
   ]
  },
  {
   "cell_type": "code",
   "execution_count": 30,
   "metadata": {},
   "outputs": [],
   "source": [
    "def diagnoses_from_list(row):\n",
    "    n = 0.0\n",
    "    diagnoses = 0.0\n",
    "    for i in row[0]:\n",
    "        diagnoses += i*n\n",
    "        n += 1.0\n",
    "    return int(diagnoses)\n",
    "\n"
   ]
  },
  {
   "cell_type": "code",
   "execution_count": 31,
   "metadata": {},
   "outputs": [
    {
     "data": {
      "text/plain": [
       "imge_id                000c1434d8d7001639a390f00024cdab0c1e002c21358c...\n",
       "diagnoses                                                           4127\n",
       "prediction             [[1555.0199, 660.1472, 511.55124, 367.4423, 56...\n",
       "predicted_diagnoses                                                 5044\n",
       "predict_ok                                                          2565\n",
       "predict_error                                                       1097\n",
       "prediction_error                                                    -917\n",
       "dtype: object"
      ]
     },
     "execution_count": 31,
     "metadata": {},
     "output_type": "execute_result"
    }
   ],
   "source": [
    "# print(results_df.iloc[0][2])\n",
    "# print(diagnoses_from_list(results_df.prediction[0]))\n",
    "results_df['predicted_diagnoses'] = results_df.apply( lambda x: diagnoses_from_list(x.prediction), axis=1)\n",
    "results_df['predict_ok'] = results_df.apply( lambda x: 1 if x.predicted_diagnoses==x.diagnoses else 0, axis=1)\n",
    "results_df['predict_error'] = results_df.apply( lambda x: 1 if x.predicted_diagnoses!=x.diagnoses else 0, axis=1)\n",
    "results_df['prediction_error'] = results_df['diagnoses'].sub(results_df['predicted_diagnoses'])\n",
    "results_df.sum(axis=0)\n",
    "# results_df"
   ]
  },
  {
   "cell_type": "code",
   "execution_count": 32,
   "metadata": {},
   "outputs": [
    {
     "data": {
      "text/html": [
       "<div>\n",
       "<style scoped>\n",
       "    .dataframe tbody tr th:only-of-type {\n",
       "        vertical-align: middle;\n",
       "    }\n",
       "\n",
       "    .dataframe tbody tr th {\n",
       "        vertical-align: top;\n",
       "    }\n",
       "\n",
       "    .dataframe thead th {\n",
       "        text-align: right;\n",
       "    }\n",
       "</style>\n",
       "<table border=\"1\" class=\"dataframe\">\n",
       "  <thead>\n",
       "    <tr style=\"text-align: right;\">\n",
       "      <th></th>\n",
       "      <th>imge_id</th>\n",
       "      <th>prediction</th>\n",
       "      <th>predicted_diagnoses</th>\n",
       "      <th>predict_ok</th>\n",
       "      <th>predict_error</th>\n",
       "      <th>prediction_error</th>\n",
       "    </tr>\n",
       "    <tr>\n",
       "      <th>diagnoses</th>\n",
       "      <th></th>\n",
       "      <th></th>\n",
       "      <th></th>\n",
       "      <th></th>\n",
       "      <th></th>\n",
       "      <th></th>\n",
       "    </tr>\n",
       "  </thead>\n",
       "  <tbody>\n",
       "    <tr>\n",
       "      <th>0</th>\n",
       "      <td>1805</td>\n",
       "      <td>1805</td>\n",
       "      <td>1805</td>\n",
       "      <td>1805</td>\n",
       "      <td>1805</td>\n",
       "      <td>1805</td>\n",
       "    </tr>\n",
       "    <tr>\n",
       "      <th>1</th>\n",
       "      <td>370</td>\n",
       "      <td>370</td>\n",
       "      <td>370</td>\n",
       "      <td>370</td>\n",
       "      <td>370</td>\n",
       "      <td>370</td>\n",
       "    </tr>\n",
       "    <tr>\n",
       "      <th>2</th>\n",
       "      <td>999</td>\n",
       "      <td>999</td>\n",
       "      <td>999</td>\n",
       "      <td>999</td>\n",
       "      <td>999</td>\n",
       "      <td>999</td>\n",
       "    </tr>\n",
       "    <tr>\n",
       "      <th>3</th>\n",
       "      <td>193</td>\n",
       "      <td>193</td>\n",
       "      <td>193</td>\n",
       "      <td>193</td>\n",
       "      <td>193</td>\n",
       "      <td>193</td>\n",
       "    </tr>\n",
       "    <tr>\n",
       "      <th>4</th>\n",
       "      <td>295</td>\n",
       "      <td>295</td>\n",
       "      <td>295</td>\n",
       "      <td>295</td>\n",
       "      <td>295</td>\n",
       "      <td>295</td>\n",
       "    </tr>\n",
       "  </tbody>\n",
       "</table>\n",
       "</div>"
      ],
      "text/plain": [
       "           imge_id  prediction  predicted_diagnoses  predict_ok  \\\n",
       "diagnoses                                                         \n",
       "0             1805        1805                 1805        1805   \n",
       "1              370         370                  370         370   \n",
       "2              999         999                  999         999   \n",
       "3              193         193                  193         193   \n",
       "4              295         295                  295         295   \n",
       "\n",
       "           predict_error  prediction_error  \n",
       "diagnoses                                   \n",
       "0                   1805              1805  \n",
       "1                    370               370  \n",
       "2                    999               999  \n",
       "3                    193               193  \n",
       "4                    295               295  "
      ]
     },
     "execution_count": 32,
     "metadata": {},
     "output_type": "execute_result"
    }
   ],
   "source": [
    "results_df.groupby('diagnoses').count()\n"
   ]
  },
  {
   "cell_type": "code",
   "execution_count": 33,
   "metadata": {},
   "outputs": [
    {
     "data": {
      "text/html": [
       "<div>\n",
       "<style scoped>\n",
       "    .dataframe tbody tr th:only-of-type {\n",
       "        vertical-align: middle;\n",
       "    }\n",
       "\n",
       "    .dataframe tbody tr th {\n",
       "        vertical-align: top;\n",
       "    }\n",
       "\n",
       "    .dataframe thead th {\n",
       "        text-align: right;\n",
       "    }\n",
       "</style>\n",
       "<table border=\"1\" class=\"dataframe\">\n",
       "  <thead>\n",
       "    <tr style=\"text-align: right;\">\n",
       "      <th></th>\n",
       "      <th>predicted_diagnoses</th>\n",
       "      <th>predict_ok</th>\n",
       "      <th>predict_error</th>\n",
       "      <th>prediction_error</th>\n",
       "    </tr>\n",
       "    <tr>\n",
       "      <th>diagnoses</th>\n",
       "      <th></th>\n",
       "      <th></th>\n",
       "      <th></th>\n",
       "      <th></th>\n",
       "    </tr>\n",
       "  </thead>\n",
       "  <tbody>\n",
       "    <tr>\n",
       "      <th>0</th>\n",
       "      <td>570</td>\n",
       "      <td>1489</td>\n",
       "      <td>316</td>\n",
       "      <td>-570</td>\n",
       "    </tr>\n",
       "    <tr>\n",
       "      <th>1</th>\n",
       "      <td>569</td>\n",
       "      <td>262</td>\n",
       "      <td>108</td>\n",
       "      <td>-199</td>\n",
       "    </tr>\n",
       "    <tr>\n",
       "      <th>2</th>\n",
       "      <td>2318</td>\n",
       "      <td>425</td>\n",
       "      <td>574</td>\n",
       "      <td>-320</td>\n",
       "    </tr>\n",
       "    <tr>\n",
       "      <th>3</th>\n",
       "      <td>576</td>\n",
       "      <td>166</td>\n",
       "      <td>27</td>\n",
       "      <td>3</td>\n",
       "    </tr>\n",
       "    <tr>\n",
       "      <th>4</th>\n",
       "      <td>1011</td>\n",
       "      <td>223</td>\n",
       "      <td>72</td>\n",
       "      <td>169</td>\n",
       "    </tr>\n",
       "  </tbody>\n",
       "</table>\n",
       "</div>"
      ],
      "text/plain": [
       "           predicted_diagnoses  predict_ok  predict_error  prediction_error\n",
       "diagnoses                                                                  \n",
       "0                          570        1489            316              -570\n",
       "1                          569         262            108              -199\n",
       "2                         2318         425            574              -320\n",
       "3                          576         166             27                 3\n",
       "4                         1011         223             72               169"
      ]
     },
     "execution_count": 33,
     "metadata": {},
     "output_type": "execute_result"
    }
   ],
   "source": [
    "results_df.groupby('diagnoses').sum()"
   ]
  },
  {
   "cell_type": "code",
   "execution_count": 34,
   "metadata": {},
   "outputs": [],
   "source": [
    "results_test = {}\n",
    "for i in df_test.iterrows():\n",
    "    path=f\"{DATA_PATH}/processed_test_images/{i[1][0]}.png\"\n",
    "    img = image.load_img(path, grayscale=True,target_size=(width,height,1))\n",
    "    img = image.img_to_array(img)\n",
    "    img = img.reshape(1,width,height,1)\n",
    "\n",
    "    results_test[i[0]] = [i[1][0], model.predict(img)]"
   ]
  },
  {
   "cell_type": "code",
   "execution_count": 35,
   "metadata": {},
   "outputs": [],
   "source": [
    "results_test_df = pd.DataFrame.from_dict(results_test, \n",
    "                                    orient='index', \n",
    "                                    columns=['imge_id', 'prediction'])"
   ]
  },
  {
   "cell_type": "code",
   "execution_count": 36,
   "metadata": {},
   "outputs": [],
   "source": [
    "# print(results_df.iloc[0][2])\n",
    "# print(diagnoses_from_list(results_df.prediction[0]))\n",
    "results_test_df['predicted_diagnoses'] = results_test_df.apply( \n",
    "    lambda x: diagnoses_from_list(x.prediction), axis=1)\n",
    "# results_df"
   ]
  },
  {
   "cell_type": "code",
   "execution_count": 37,
   "metadata": {},
   "outputs": [],
   "source": [
    "lt = datetime.datetime.now().strftime(\"%Y%m%d%H%M%S\")\n",
    "results_df.to_pickle(f\"{DATA_PATH}/results_df_{lt}.pkl\")\n",
    "results_test_df.to_pickle(f\"{DATA_PATH}/results_test_df_{lt}.pkl\")"
   ]
  },
  {
   "cell_type": "code",
   "execution_count": null,
   "metadata": {},
   "outputs": [],
   "source": [
    "370"
   ]
  }
 ],
 "metadata": {
  "kernelspec": {
   "display_name": "Python 3",
   "language": "python",
   "name": "python3"
  },
  "language_info": {
   "codemirror_mode": {
    "name": "ipython",
    "version": 3
   },
   "file_extension": ".py",
   "mimetype": "text/x-python",
   "name": "python",
   "nbconvert_exporter": "python",
   "pygments_lexer": "ipython3",
   "version": "3.7.1"
  }
 },
 "nbformat": 4,
 "nbformat_minor": 1
}
