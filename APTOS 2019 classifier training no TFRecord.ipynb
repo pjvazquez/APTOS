{
 "cells": [
  {
   "cell_type": "code",
   "execution_count": 1,
   "metadata": {},
   "outputs": [],
   "source": [
    "from __future__ import absolute_import, division, print_function\n",
    "\n",
    "import tensorflow as tf\n",
    "\n"
   ]
  },
  {
   "cell_type": "code",
   "execution_count": 2,
   "metadata": {},
   "outputs": [
    {
     "name": "stdout",
     "output_type": "stream",
     "text": [
      "No GPU found\n"
     ]
    },
    {
     "data": {
      "text/plain": [
       "'1.13.1'"
      ]
     },
     "execution_count": 2,
     "metadata": {},
     "output_type": "execute_result"
    }
   ],
   "source": [
    "# anulo el uso de la GPU por falta de memoria\n",
    "import os, sys\n",
    "os.environ['CUDA_VISIBLE_DEVICES'] = '1' #'-1' for no GPU\n",
    "\n",
    "if tf.test.gpu_device_name():\n",
    "    print('GPU found')\n",
    "else:\n",
    "    print(\"No GPU found\")\n",
    "\n",
    "# No GPU found\n",
    "\n",
    "# tf.enable_eager_execution()\n",
    "tf.VERSION"
   ]
  },
  {
   "cell_type": "code",
   "execution_count": 3,
   "metadata": {
    "_cell_guid": "79c7e3d0-c299-4dcb-8224-4455121ee9b0",
    "_kg_hide-input": true,
    "_uuid": "d629ff2d2480ee46fbb7e2d37f6b5fab8052498a",
    "scrolled": true
   },
   "outputs": [
    {
     "name": "stderr",
     "output_type": "stream",
     "text": [
      "Using TensorFlow backend.\n"
     ]
    }
   ],
   "source": [
    "import numpy as np\n",
    "import pandas as pd\n",
    "import matplotlib.pyplot as plt\n",
    "import skimage.io\n",
    "from skimage.transform import resize\n",
    "from imgaug import augmenters as iaa\n",
    "from tqdm import tqdm\n",
    "import PIL\n",
    "from PIL import Image, ImageOps\n",
    "import cv2\n",
    "\n",
    "from sklearn.utils import class_weight, shuffle\n",
    "from keras.losses import binary_crossentropy\n",
    "from keras.applications.resnet50 import preprocess_input\n",
    "from keras.preprocessing import image\n",
    "from keras.models import Sequential\n",
    "from keras.layers import InputLayer\n",
    "from keras.layers import Dense\n",
    "from keras.layers import Conv2D\n",
    "from keras.layers import MaxPooling2D\n",
    "from keras.layers import Flatten\n",
    "import keras.backend as K\n",
    "\n",
    "from sklearn.metrics import f1_score, fbeta_score\n",
    "from keras.utils import Sequence\n",
    "from keras.utils import to_categorical\n",
    "from sklearn.model_selection import train_test_split\n",
    "\n",
    "WORKERS = 2\n",
    "CHANNEL = 3\n",
    "\n",
    "import warnings\n",
    "warnings.filterwarnings(\"ignore\")\n",
    "IMG_SIZE = 512\n",
    "NUM_CLASSES = 5\n",
    "SEED = 77\n",
    "TRAIN_NUM = 1000 # use 1000 when you just want to explore new idea, use -1 for full train\n",
    "\n",
    "\n",
    "DATA_PATH = \"data\""
   ]
  },
  {
   "cell_type": "code",
   "execution_count": 4,
   "metadata": {
    "_cell_guid": "b1076dfc-b9ad-4769-8c92-a6c4dae69d19",
    "_kg_hide-input": true,
    "_uuid": "8f2839f25d086af736a60e9eeb907d3b93b6e0e5",
    "scrolled": false
   },
   "outputs": [
    {
     "name": "stdout",
     "output_type": "stream",
     "text": [
      "['processed_train_images', 'train.csv', 'train_images', 'test.csv', 'test_images', 'processed_test_images', 'sample_submission.csv']\n"
     ]
    }
   ],
   "source": [
    "import os\n",
    "print(os.listdir(\"data\"))"
   ]
  },
  {
   "cell_type": "code",
   "execution_count": 5,
   "metadata": {},
   "outputs": [
    {
     "name": "stdout",
     "output_type": "stream",
     "text": [
      "[name: \"/device:CPU:0\"\n",
      "device_type: \"CPU\"\n",
      "memory_limit: 268435456\n",
      "locality {\n",
      "}\n",
      "incarnation: 10486073560830962449\n",
      ", name: \"/device:XLA_CPU:0\"\n",
      "device_type: \"XLA_CPU\"\n",
      "memory_limit: 17179869184\n",
      "locality {\n",
      "}\n",
      "incarnation: 8636022486894655619\n",
      "physical_device_desc: \"device: XLA_CPU device\"\n",
      "]\n"
     ]
    }
   ],
   "source": [
    "from tensorflow.python.client import device_lib\n",
    "print(device_lib.list_local_devices())"
   ]
  },
  {
   "cell_type": "markdown",
   "metadata": {},
   "source": [
    "# 1. Introduction. Explore first, train later.\n",
    "\n",
    "Hi everyone! As *Aravind Eye Hospital* is one of my favorite organization in the world; they take care of poor people's eyes for free with an impressive sustainable business model.  I will try my best to contribute something to our community. One intuitive way to improve the performance of our model is to simply improve the quality of input images. In this kernel, I will share two ideas which I hope may be useful to some of you : \n",
    "\n",
    "- **Decolorize images** : here as we will see, images come with many different lighting conditions, some images are quite dark and difficult to visualize. We can try to convert the image to gray scale, and visualize better. Alternatively, we can try the method of [Ben Graham (last competition's winner)](https://github.com/btgraham/SparseConvNet/tree/kaggle_Diabetic_Retinopathy_competition)\n",
    "- **Cropping uninformative area** : everyone know this :) Here, I just find the codes from internet and choose the best one for you :)\n",
    "\n",
    "We are going to apply both techniques to both the official data, and the past competition data (shout out @tanlikesmath for creating this dataset! https://www.kaggle.com/tanlikesmath/diabetic-retinopathy-resized . In the updated version, I also try @donkeys' dataset https://www.kaggle.com/donkeys/retinopathy-train-2015 , which is .png which may be have higer image quality than .jpeg format)\n",
    "\n",
    "If I found more useful tricks, I will update the notebook, or if you have more useful tricks and would love to share, please let me know!\n",
    "\n",
    "I use some parts of codes from @mathormad and @artgor kernels. Thanks both of you!"
   ]
  },
  {
   "cell_type": "markdown",
   "metadata": {},
   "source": [
    "Now let us start by loading the train/test dataframes. The `train_test_split` here is in fact not necessary. But when I first fork the kernel from @mathormad, I found some interesting examples using this split and the current `SEED`, so I continue to use them here."
   ]
  },
  {
   "cell_type": "code",
   "execution_count": 6,
   "metadata": {
    "scrolled": false
   },
   "outputs": [],
   "source": [
    "df_train = pd.read_csv(DATA_PATH + '/train.csv')\n",
    "df_test = pd.read_csv(DATA_PATH + '/test.csv')\n",
    "\n",
    "x = df_train['id_code']\n",
    "y = df_train['diagnosis']\n",
    "\n",
    "x, y = shuffle(x, y, random_state=SEED)\n"
   ]
  },
  {
   "cell_type": "code",
   "execution_count": 7,
   "metadata": {
    "scrolled": false
   },
   "outputs": [
    {
     "name": "stdout",
     "output_type": "stream",
     "text": [
      "(3112,) (3112,) (550,) (550,)\n"
     ]
    },
    {
     "data": {
      "text/plain": [
       "<matplotlib.axes._subplots.AxesSubplot at 0x7fe3c23474e0>"
      ]
     },
     "execution_count": 7,
     "metadata": {},
     "output_type": "execute_result"
    },
    {
     "data": {
      "image/png": "[encoded data removed]",
      "text/plain": [
       "<Figure size 432x288 with 1 Axes>"
      ]
     },
     "metadata": {
      "needs_background": "light"
     },
     "output_type": "display_data"
    }
   ],
   "source": [
    "train_x, valid_x, train_y, valid_y = train_test_split(x, y, test_size=0.15,\n",
    "                                                      stratify=y, random_state=SEED)\n",
    "print(train_x.shape, train_y.shape, valid_x.shape, valid_y.shape)\n",
    "train_y.hist()\n",
    "valid_y.hist()"
   ]
  },
  {
   "cell_type": "markdown",
   "metadata": {},
   "source": [
    "## 1.1 Simple picture to explain Diabetic Retinopathy\n",
    "\n",
    "How do we know that a patient have diabetic retinopahy? There are 5 things to spot on. Image credit https://www.eyeops.com/\n",
    "![credit : https://www.eyeops.com/](https://sa1s3optim.patientpop.com/assets/images/provider/photos/1947516.jpeg)"
   ]
  },
  {
   "cell_type": "markdown",
   "metadata": {},
   "source": [
    "From quick investigations of the data (see various pictures below), I found that *Hemorrphages, Hard Exudates and Cotton Wool spots* are quite easily observed. However, I still could not find examples of *Aneurysm* or *Abnormal Growth of Blood Vessels* from our data yet. Perhaps the latter two cases are important if we want to catch up human benchmnark using our model."
   ]
  },
  {
   "cell_type": "markdown",
   "metadata": {},
   "source": [
    "## Process TFRecord"
   ]
  },
  {
   "cell_type": "code",
   "execution_count": 8,
   "metadata": {
    "scrolled": false
   },
   "outputs": [],
   "source": [
    "# Aquí transcribimos las imágenes a un fichero tipo TFRECORD de tamaño\n",
    "width = 100 # 400\n",
    "height = 125 # 500\n",
    "\n",
    "size = (width,height)\n",
    "\n",
    "image_x = []\n",
    "\n",
    "for i in df_train['id_code']:\n",
    "    path=f\"{DATA_PATH}/processed_train_images/{i}.png\"\n",
    "    img = image.load_img(path, grayscale=True,target_size=(width,height,1))\n",
    "    img = image.img_to_array(img)\n",
    "    img = img/255\n",
    "    image_x.append(img)\n",
    "X = np.array(image_x)\n"
   ]
  },
  {
   "cell_type": "code",
   "execution_count": 9,
   "metadata": {},
   "outputs": [
    {
     "name": "stdout",
     "output_type": "stream",
     "text": [
      "3662 (3662, 100, 125, 1)\n"
     ]
    }
   ],
   "source": [
    "print(len(x), X.shape)"
   ]
  },
  {
   "cell_type": "code",
   "execution_count": 10,
   "metadata": {},
   "outputs": [
    {
     "name": "stdout",
     "output_type": "stream",
     "text": [
      "3662 (3662, 5)\n"
     ]
    }
   ],
   "source": [
    "Y = to_categorical(df_train['diagnosis'].values)\n",
    "print(len(Y), Y.shape)"
   ]
  },
  {
   "cell_type": "code",
   "execution_count": 11,
   "metadata": {},
   "outputs": [
    {
     "name": "stdout",
     "output_type": "stream",
     "text": [
      "(2929, 100, 125, 1) (2929, 5) (733, 100, 125, 1) (733, 5)\n"
     ]
    }
   ],
   "source": [
    "train_X, valid_X, train_Y, valid_Y = train_test_split(X, Y, test_size=0.2,\n",
    "                                                      stratify=y, random_state=SEED)\n",
    "print(train_X.shape, train_Y.shape, valid_X.shape, valid_Y.shape)"
   ]
  },
  {
   "cell_type": "markdown",
   "metadata": {},
   "source": [
    "# The Model\n",
    "## inspired in real life\n",
    "\n",
    "help obtained from\n",
    "https://machinelearningmastery.com/keras-functional-api-deep-learning/\n"
   ]
  },
  {
   "cell_type": "code",
   "execution_count": 12,
   "metadata": {},
   "outputs": [],
   "source": [
    "# config = tf.ConfigProto(device_count = {'GPU': 0})\n",
    "# config.gpu_options.allow_growth = True\n",
    "# gpu_options = tf.GPUOptions(allow_growth=True)\n",
    "\n",
    "# session = tf.InteractiveSession(config=tf.ConfigProto(gpu_options=gpu_options))"
   ]
  },
  {
   "cell_type": "code",
   "execution_count": 13,
   "metadata": {},
   "outputs": [
    {
     "data": {
      "text/plain": [
       "\" \\n\\ninput_layer = tf.keras.Input(shape=(width,height,1))\\nprint('input_layer: ', input_layer.shape)\\n\\nlayer1 = tf.keras.layers.Conv2D(100, kernel_size=(5, 5), activation='relu')(input_layer)\\nprint('layer: ', layer1.shape)\\n\\nlayer2 = tf.keras.layers.MaxPooling2D(pool_size=(5, 5))(layer1)\\nprint('layer: ', layer2.shape)\\n\\nlayer3 = tf.keras.layers.Conv2D(100, kernel_size=(2, 2), activation='relu')(layer2)\\nprint('layer: ', layer3.shape)\\n\\nlayer4 = tf.keras.layers.MaxPooling2D(pool_size=(2, 2))(layer3)\\nprint('layer: ', layer4.shape)\\n\\nlayer5 = tf.keras.layers.Conv2D(100, kernel_size=(2, 2), activation='relu')(layer4)\\nprint('layer: ', layer5.shape)\\n\\nlayer6 = tf.keras.layers.MaxPooling2D(pool_size=(2, 2))(layer5)\\nprint('layer: ', layer6.shape)\\n\\nlayer7 = tf.keras.layers.Flatten()(layer6)\\nprint('layer: ', layer7.shape)\\n\\nlayer8 = tf.keras.layers.Dense(10*NUM_CLASSES, activation='relu')(layer7)\\nprint('layer: ', layer8.shape)\\n\\noutput_layer = tf.keras.layers.Dense(NUM_CLASSES, activation='softmax')(layer8)\\nprint('output_layer: ', output_layer.shape)\\n\\nmodel = tf.keras.Model(inputs = [input_layer], outputs = [output_layer])\\n\\n\""
      ]
     },
     "execution_count": 13,
     "metadata": {},
     "output_type": "execute_result"
    }
   ],
   "source": [
    "# ---------------------\n",
    "# OPTION 1\n",
    "# ---------------------\n",
    "''' \n",
    "\n",
    "input_layer = tf.keras.Input(shape=(width,height,1))\n",
    "print('input_layer: ', input_layer.shape)\n",
    "\n",
    "layer1 = tf.keras.layers.Conv2D(1000, kernel_size=(5, 5), activation='relu')(input_layer)\n",
    "print('layer: ', layer1.shape)\n",
    "\n",
    "layer2 = tf.keras.layers.MaxPooling2D(pool_size=(5, 5))(layer1)\n",
    "print('layer: ', layer2.shape)\n",
    "\n",
    "layer3 = tf.keras.layers.Conv2D(500, kernel_size=(2, 2), activation='relu')(layer2)\n",
    "print('layer: ', layer3.shape)\n",
    "\n",
    "layer4 = tf.keras.layers.MaxPooling2D(pool_size=(2, 2))(layer3)\n",
    "print('layer: ', layer4.shape)\n",
    "\n",
    "layer5 = tf.keras.layers.Conv2D(100, kernel_size=(2, 2), activation='relu')(layer4)\n",
    "print('layer: ', layer5.shape)\n",
    "\n",
    "layer6 = tf.keras.layers.MaxPooling2D(pool_size=(2, 2))(layer5)\n",
    "print('layer: ', layer6.shape)\n",
    "\n",
    "layer7 = tf.keras.layers.Flatten()(layer6)\n",
    "print('layer: ', layer7.shape)\n",
    "\n",
    "layer8 = tf.keras.layers.Dense(10*NUM_CLASSES, activation='relu')(layer7)\n",
    "print('layer: ', layer8.shape)\n",
    "\n",
    "output_layer = tf.keras.layers.Dense(NUM_CLASSES, activation='softmax')(layer8)\n",
    "print('output_layer: ', output_layer.shape)\n",
    "\n",
    "model = tf.keras.Model(inputs = [input_layer], outputs = [output_layer])\n",
    "\n",
    "'''"
   ]
  },
  {
   "cell_type": "code",
   "execution_count": 14,
   "metadata": {},
   "outputs": [
    {
     "name": "stdout",
     "output_type": "stream",
     "text": [
      "WARNING:tensorflow:From /home/pjvazquez/anaconda3/lib/python3.7/site-packages/tensorflow/python/framework/op_def_library.py:263: colocate_with (from tensorflow.python.framework.ops) is deprecated and will be removed in a future version.\n",
      "Instructions for updating:\n",
      "Colocations handled automatically by placer.\n"
     ]
    }
   ],
   "source": [
    "# ---------------------\n",
    "# OPTION 2\n",
    "# ---------------------\n",
    "\n",
    "''' '''\n",
    "\n",
    "\n",
    "model = Sequential()\n",
    "\n",
    "model.add(InputLayer((width,height,1)))\n",
    "model.add(Conv2D(1000, kernel_size=(5, 5), activation='relu'))\n",
    "model.add(MaxPooling2D(pool_size=(5, 5)))\n",
    "model.add(Conv2D(500, kernel_size=(2, 2), activation='relu'))\n",
    "model.add(MaxPooling2D(pool_size=(2, 2)))\n",
    "model.add(Conv2D(100, kernel_size=(2, 2), activation='relu'))\n",
    "model.add(MaxPooling2D(pool_size=(2, 2)))\n",
    "model.add(Flatten())\n",
    "model.add(Dense(10*NUM_CLASSES, activation='relu'))\n",
    "model.add(Dense(NUM_CLASSES, activation='softmax'))\n"
   ]
  },
  {
   "cell_type": "code",
   "execution_count": 15,
   "metadata": {},
   "outputs": [
    {
     "name": "stdout",
     "output_type": "stream",
     "text": [
      "_________________________________________________________________\n",
      "Layer (type)                 Output Shape              Param #   \n",
      "=================================================================\n",
      "conv2d_1 (Conv2D)            (None, 96, 121, 1000)     26000     \n",
      "_________________________________________________________________\n",
      "max_pooling2d_1 (MaxPooling2 (None, 19, 24, 1000)      0         \n",
      "_________________________________________________________________\n",
      "conv2d_2 (Conv2D)            (None, 18, 23, 500)       2000500   \n",
      "_________________________________________________________________\n",
      "max_pooling2d_2 (MaxPooling2 (None, 9, 11, 500)        0         \n",
      "_________________________________________________________________\n",
      "conv2d_3 (Conv2D)            (None, 8, 10, 100)        200100    \n",
      "_________________________________________________________________\n",
      "max_pooling2d_3 (MaxPooling2 (None, 4, 5, 100)         0         \n",
      "_________________________________________________________________\n",
      "flatten_1 (Flatten)          (None, 2000)              0         \n",
      "_________________________________________________________________\n",
      "dense_1 (Dense)              (None, 50)                100050    \n",
      "_________________________________________________________________\n",
      "dense_2 (Dense)              (None, 5)                 255       \n",
      "=================================================================\n",
      "Total params: 2,326,905\n",
      "Trainable params: 2,326,905\n",
      "Non-trainable params: 0\n",
      "_________________________________________________________________\n",
      "None\n"
     ]
    }
   ],
   "source": [
    "# import pydot\n",
    "# import graphviz\n",
    "\n",
    "print(model.summary())\n",
    "# no va por alguna chuminada\n",
    "# tf.keras.utils.plot_model(model, 'model.png')"
   ]
  },
  {
   "cell_type": "code",
   "execution_count": 16,
   "metadata": {},
   "outputs": [],
   "source": [
    "# model.compile(optimizer=tf.train.AdamOptimizer(),\n",
    "#              loss = tf.keras.losses.CategoricalCrossentropy())\n",
    "\n",
    "model.compile(loss='categorical_crossentropy',\n",
    "              optimizer='Adam',\n",
    "              metrics=['accuracy'])"
   ]
  },
  {
   "cell_type": "code",
   "execution_count": 17,
   "metadata": {},
   "outputs": [
    {
     "name": "stdout",
     "output_type": "stream",
     "text": [
      "WARNING:tensorflow:From /home/pjvazquez/anaconda3/lib/python3.7/site-packages/tensorflow/python/ops/math_ops.py:3066: to_int32 (from tensorflow.python.ops.math_ops) is deprecated and will be removed in a future version.\n",
      "Instructions for updating:\n",
      "Use tf.cast instead.\n",
      "Train on 2929 samples, validate on 733 samples\n",
      "Epoch 1/100\n",
      "2929/2929 [==============================] - 214s 73ms/step - loss: 0.9974 - acc: 0.6419 - val_loss: 0.8928 - val_acc: 0.6808\n",
      "\n",
      "Epoch 00001: saving model to /mnt/DATA-SSD/DataSandbox/model0001.h5\n",
      "Epoch 2/100\n",
      "2929/2929 [==============================] - 212s 73ms/step - loss: 0.8467 - acc: 0.7074 - val_loss: 0.8052 - val_acc: 0.6930\n",
      "\n",
      "Epoch 00002: saving model to /mnt/DATA-SSD/DataSandbox/model0002.h5\n",
      "Epoch 3/100\n",
      "2929/2929 [==============================] - 212s 72ms/step - loss: 0.8095 - acc: 0.7074 - val_loss: 0.7944 - val_acc: 0.7135\n",
      "\n",
      "Epoch 00003: saving model to /mnt/DATA-SSD/DataSandbox/model0003.h5\n",
      "Epoch 4/100\n",
      "2929/2929 [==============================] - 201s 69ms/step - loss: 0.7859 - acc: 0.7115 - val_loss: 0.7571 - val_acc: 0.6985\n",
      "\n",
      "Epoch 00004: saving model to /mnt/DATA-SSD/DataSandbox/model0004.h5\n",
      "Epoch 5/100\n",
      "2929/2929 [==============================] - 201s 69ms/step - loss: 0.7571 - acc: 0.7269 - val_loss: 0.8279 - val_acc: 0.7108\n",
      "\n",
      "Epoch 00005: saving model to /mnt/DATA-SSD/DataSandbox/model0005.h5\n",
      "Epoch 6/100\n",
      "2929/2929 [==============================] - 201s 68ms/step - loss: 0.7289 - acc: 0.7323 - val_loss: 0.7372 - val_acc: 0.7299\n",
      "\n",
      "Epoch 00006: saving model to /mnt/DATA-SSD/DataSandbox/model0006.h5\n",
      "Epoch 7/100\n",
      "2929/2929 [==============================] - 201s 69ms/step - loss: 0.7063 - acc: 0.7439 - val_loss: 0.7499 - val_acc: 0.7244\n",
      "\n",
      "Epoch 00007: saving model to /mnt/DATA-SSD/DataSandbox/model0007.h5\n",
      "Epoch 8/100\n",
      "2929/2929 [==============================] - 201s 69ms/step - loss: 0.6683 - acc: 0.7532 - val_loss: 0.7190 - val_acc: 0.7326\n",
      "\n",
      "Epoch 00008: saving model to /mnt/DATA-SSD/DataSandbox/model0008.h5\n",
      "Epoch 9/100\n",
      "2929/2929 [==============================] - 201s 68ms/step - loss: 0.6311 - acc: 0.7593 - val_loss: 0.7288 - val_acc: 0.7326\n",
      "\n",
      "Epoch 00009: saving model to /mnt/DATA-SSD/DataSandbox/model0009.h5\n",
      "Epoch 10/100\n",
      "2929/2929 [==============================] - 201s 69ms/step - loss: 0.5843 - acc: 0.7815 - val_loss: 0.7496 - val_acc: 0.7422\n",
      "\n",
      "Epoch 00010: saving model to /mnt/DATA-SSD/DataSandbox/model0010.h5\n",
      "Epoch 11/100\n",
      "2929/2929 [==============================] - 201s 68ms/step - loss: 0.5484 - acc: 0.7873 - val_loss: 0.7458 - val_acc: 0.7449\n",
      "\n",
      "Epoch 00011: saving model to /mnt/DATA-SSD/DataSandbox/model0011.h5\n",
      "Epoch 12/100\n",
      "2929/2929 [==============================] - 201s 69ms/step - loss: 0.4848 - acc: 0.8184 - val_loss: 0.8555 - val_acc: 0.7394\n",
      "\n",
      "Epoch 00012: saving model to /mnt/DATA-SSD/DataSandbox/model0012.h5\n",
      "Epoch 13/100\n",
      "2929/2929 [==============================] - 201s 68ms/step - loss: 0.4482 - acc: 0.8296 - val_loss: 0.9255 - val_acc: 0.7299\n",
      "\n",
      "Epoch 00013: saving model to /mnt/DATA-SSD/DataSandbox/model0013.h5\n",
      "Epoch 14/100\n",
      "2929/2929 [==============================] - 201s 69ms/step - loss: 0.3991 - acc: 0.8532 - val_loss: 0.9754 - val_acc: 0.7299\n",
      "\n",
      "Epoch 00014: saving model to /mnt/DATA-SSD/DataSandbox/model0014.h5\n",
      "Epoch 15/100\n",
      "2929/2929 [==============================] - 201s 69ms/step - loss: 0.3352 - acc: 0.8764 - val_loss: 0.9460 - val_acc: 0.7258\n",
      "\n",
      "Epoch 00015: saving model to /mnt/DATA-SSD/DataSandbox/model0015.h5\n",
      "Epoch 16/100\n",
      "2929/2929 [==============================] - 201s 69ms/step - loss: 0.3072 - acc: 0.8877 - val_loss: 1.1269 - val_acc: 0.7326\n",
      "\n",
      "Epoch 00016: saving model to /mnt/DATA-SSD/DataSandbox/model0016.h5\n",
      "Epoch 17/100\n",
      "2929/2929 [==============================] - 201s 69ms/step - loss: 0.2666 - acc: 0.9034 - val_loss: 1.1965 - val_acc: 0.7080\n",
      "\n",
      "Epoch 00017: saving model to /mnt/DATA-SSD/DataSandbox/model0017.h5\n",
      "Epoch 18/100\n",
      "2929/2929 [==============================] - 202s 69ms/step - loss: 0.2333 - acc: 0.9174 - val_loss: 1.2522 - val_acc: 0.7531\n",
      "\n",
      "Epoch 00018: saving model to /mnt/DATA-SSD/DataSandbox/model0018.h5\n",
      "Epoch 19/100\n",
      "2929/2929 [==============================] - 201s 69ms/step - loss: 0.2011 - acc: 0.9290 - val_loss: 1.2572 - val_acc: 0.7258\n",
      "\n",
      "Epoch 00019: saving model to /mnt/DATA-SSD/DataSandbox/model0019.h5\n",
      "Epoch 20/100\n",
      "2929/2929 [==============================] - 201s 69ms/step - loss: 0.1663 - acc: 0.9416 - val_loss: 1.4171 - val_acc: 0.7367\n",
      "\n",
      "Epoch 00020: saving model to /mnt/DATA-SSD/DataSandbox/model0020.h5\n",
      "Epoch 21/100\n",
      "2929/2929 [==============================] - 201s 69ms/step - loss: 0.1524 - acc: 0.9478 - val_loss: 1.4317 - val_acc: 0.7040\n",
      "\n",
      "Epoch 00021: saving model to /mnt/DATA-SSD/DataSandbox/model0021.h5\n",
      "Epoch 22/100\n",
      "2929/2929 [==============================] - 201s 69ms/step - loss: 0.1394 - acc: 0.9532 - val_loss: 1.4981 - val_acc: 0.7408\n",
      "\n",
      "Epoch 00022: saving model to /mnt/DATA-SSD/DataSandbox/model0022.h5\n",
      "Epoch 23/100\n",
      "2929/2929 [==============================] - 201s 69ms/step - loss: 0.1290 - acc: 0.9573 - val_loss: 1.4872 - val_acc: 0.7340\n",
      "\n",
      "Epoch 00023: saving model to /mnt/DATA-SSD/DataSandbox/model0023.h5\n",
      "Epoch 24/100\n",
      "2929/2929 [==============================] - 201s 69ms/step - loss: 0.1296 - acc: 0.9566 - val_loss: 1.5214 - val_acc: 0.7108\n",
      "\n",
      "Epoch 00024: saving model to /mnt/DATA-SSD/DataSandbox/model0024.h5\n",
      "Epoch 25/100\n",
      "2929/2929 [==============================] - 201s 69ms/step - loss: 0.1134 - acc: 0.9635 - val_loss: 1.7087 - val_acc: 0.7340\n",
      "\n",
      "Epoch 00025: saving model to /mnt/DATA-SSD/DataSandbox/model0025.h5\n",
      "Epoch 26/100\n",
      "2929/2929 [==============================] - 201s 69ms/step - loss: 0.0975 - acc: 0.9700 - val_loss: 1.6851 - val_acc: 0.7312\n",
      "\n",
      "Epoch 00026: saving model to /mnt/DATA-SSD/DataSandbox/model0026.h5\n",
      "Epoch 27/100\n",
      "2929/2929 [==============================] - 201s 69ms/step - loss: 0.0843 - acc: 0.9764 - val_loss: 1.7044 - val_acc: 0.7203\n",
      "\n",
      "Epoch 00027: saving model to /mnt/DATA-SSD/DataSandbox/model0027.h5\n",
      "Epoch 28/100\n",
      "2929/2929 [==============================] - 201s 69ms/step - loss: 0.0801 - acc: 0.9754 - val_loss: 1.8133 - val_acc: 0.7244\n",
      "\n",
      "Epoch 00028: saving model to /mnt/DATA-SSD/DataSandbox/model0028.h5\n",
      "Epoch 29/100\n",
      "2929/2929 [==============================] - 201s 69ms/step - loss: 0.0777 - acc: 0.9758 - val_loss: 1.8570 - val_acc: 0.7326\n",
      "\n",
      "Epoch 00029: saving model to /mnt/DATA-SSD/DataSandbox/model0029.h5\n",
      "Epoch 30/100\n",
      "2929/2929 [==============================] - 201s 69ms/step - loss: 0.0841 - acc: 0.9700 - val_loss: 1.9476 - val_acc: 0.7135\n",
      "\n",
      "Epoch 00030: saving model to /mnt/DATA-SSD/DataSandbox/model0030.h5\n",
      "Epoch 31/100\n",
      "2929/2929 [==============================] - 201s 69ms/step - loss: 0.1039 - acc: 0.9645 - val_loss: 1.7282 - val_acc: 0.7217\n",
      "\n",
      "Epoch 00031: saving model to /mnt/DATA-SSD/DataSandbox/model0031.h5\n",
      "Epoch 32/100\n",
      "2929/2929 [==============================] - 201s 69ms/step - loss: 0.0886 - acc: 0.9717 - val_loss: 2.0391 - val_acc: 0.7381\n",
      "\n",
      "Epoch 00032: saving model to /mnt/DATA-SSD/DataSandbox/model0032.h5\n",
      "Epoch 33/100\n",
      "2929/2929 [==============================] - 201s 69ms/step - loss: 0.0790 - acc: 0.9727 - val_loss: 1.8389 - val_acc: 0.7203\n",
      "\n",
      "Epoch 00033: saving model to /mnt/DATA-SSD/DataSandbox/model0033.h5\n",
      "Epoch 34/100\n",
      "2929/2929 [==============================] - 201s 69ms/step - loss: 0.0542 - acc: 0.9840 - val_loss: 1.8706 - val_acc: 0.7299\n",
      "\n",
      "Epoch 00034: saving model to /mnt/DATA-SSD/DataSandbox/model0034.h5\n",
      "Epoch 35/100\n",
      "2929/2929 [==============================] - 201s 69ms/step - loss: 0.0582 - acc: 0.9833 - val_loss: 2.1189 - val_acc: 0.7367\n",
      "\n",
      "Epoch 00035: saving model to /mnt/DATA-SSD/DataSandbox/model0035.h5\n",
      "Epoch 36/100\n",
      "2929/2929 [==============================] - 201s 69ms/step - loss: 0.0492 - acc: 0.9822 - val_loss: 1.9811 - val_acc: 0.7435\n",
      "\n",
      "Epoch 00036: saving model to /mnt/DATA-SSD/DataSandbox/model0036.h5\n",
      "Epoch 37/100\n",
      "2929/2929 [==============================] - 201s 69ms/step - loss: 0.0429 - acc: 0.9874 - val_loss: 2.0151 - val_acc: 0.7353\n",
      "\n",
      "Epoch 00037: saving model to /mnt/DATA-SSD/DataSandbox/model0037.h5\n",
      "Epoch 38/100\n",
      "2929/2929 [==============================] - 201s 69ms/step - loss: 0.0587 - acc: 0.9846 - val_loss: 1.9828 - val_acc: 0.7353\n",
      "\n",
      "Epoch 00038: saving model to /mnt/DATA-SSD/DataSandbox/model0038.h5\n",
      "Epoch 39/100\n"
     ]
    },
    {
     "name": "stdout",
     "output_type": "stream",
     "text": [
      "2929/2929 [==============================] - 201s 69ms/step - loss: 0.0918 - acc: 0.9679 - val_loss: 2.1078 - val_acc: 0.7353\n",
      "\n",
      "Epoch 00039: saving model to /mnt/DATA-SSD/DataSandbox/model0039.h5\n",
      "Epoch 40/100\n",
      "2929/2929 [==============================] - 201s 69ms/step - loss: 0.1004 - acc: 0.9665 - val_loss: 2.0528 - val_acc: 0.6999\n",
      "\n",
      "Epoch 00040: saving model to /mnt/DATA-SSD/DataSandbox/model0040.h5\n",
      "Epoch 41/100\n",
      "2929/2929 [==============================] - 201s 68ms/step - loss: 0.1067 - acc: 0.9611 - val_loss: 1.9959 - val_acc: 0.7394\n",
      "\n",
      "Epoch 00041: saving model to /mnt/DATA-SSD/DataSandbox/model0041.h5\n",
      "Epoch 42/100\n",
      "2929/2929 [==============================] - 201s 68ms/step - loss: 0.0644 - acc: 0.9788 - val_loss: 1.9226 - val_acc: 0.7271\n",
      "\n",
      "Epoch 00042: saving model to /mnt/DATA-SSD/DataSandbox/model0042.h5\n",
      "Epoch 43/100\n",
      "2929/2929 [==============================] - 201s 69ms/step - loss: 0.0407 - acc: 0.9863 - val_loss: 1.9463 - val_acc: 0.7326\n",
      "\n",
      "Epoch 00043: saving model to /mnt/DATA-SSD/DataSandbox/model0043.h5\n",
      "Epoch 44/100\n",
      "2929/2929 [==============================] - 201s 68ms/step - loss: 0.0459 - acc: 0.9857 - val_loss: 1.9567 - val_acc: 0.7462\n",
      "\n",
      "Epoch 00044: saving model to /mnt/DATA-SSD/DataSandbox/model0044.h5\n",
      "Epoch 45/100\n",
      "2929/2929 [==============================] - 201s 68ms/step - loss: 0.0411 - acc: 0.9867 - val_loss: 1.8871 - val_acc: 0.7340\n",
      "\n",
      "Epoch 00045: saving model to /mnt/DATA-SSD/DataSandbox/model0045.h5\n",
      "Epoch 46/100\n",
      "2929/2929 [==============================] - 201s 68ms/step - loss: 0.0417 - acc: 0.9867 - val_loss: 1.9453 - val_acc: 0.7353\n",
      "\n",
      "Epoch 00046: saving model to /mnt/DATA-SSD/DataSandbox/model0046.h5\n",
      "Epoch 47/100\n",
      "2929/2929 [==============================] - 201s 69ms/step - loss: 0.0393 - acc: 0.9853 - val_loss: 1.9818 - val_acc: 0.7449\n",
      "\n",
      "Epoch 00047: saving model to /mnt/DATA-SSD/DataSandbox/model0047.h5\n",
      "Epoch 48/100\n",
      "2929/2929 [==============================] - 201s 69ms/step - loss: 0.0437 - acc: 0.9829 - val_loss: 1.9930 - val_acc: 0.7312\n",
      "\n",
      "Epoch 00048: saving model to /mnt/DATA-SSD/DataSandbox/model0048.h5\n",
      "Epoch 49/100\n",
      "2929/2929 [==============================] - 201s 69ms/step - loss: 0.1092 - acc: 0.9635 - val_loss: 1.9464 - val_acc: 0.7231\n",
      "\n",
      "Epoch 00049: saving model to /mnt/DATA-SSD/DataSandbox/model0049.h5\n",
      "Epoch 50/100\n",
      "2929/2929 [==============================] - 201s 69ms/step - loss: 0.1073 - acc: 0.9614 - val_loss: 1.9685 - val_acc: 0.7217\n",
      "\n",
      "Epoch 00050: saving model to /mnt/DATA-SSD/DataSandbox/model0050.h5\n",
      "Epoch 51/100\n",
      "2929/2929 [==============================] - 201s 69ms/step - loss: 0.0447 - acc: 0.9846 - val_loss: 1.9703 - val_acc: 0.7149\n",
      "\n",
      "Epoch 00051: saving model to /mnt/DATA-SSD/DataSandbox/model0051.h5\n",
      "Epoch 52/100\n",
      "2929/2929 [==============================] - 201s 69ms/step - loss: 0.0502 - acc: 0.9816 - val_loss: 2.0761 - val_acc: 0.7217\n",
      "\n",
      "Epoch 00052: saving model to /mnt/DATA-SSD/DataSandbox/model0052.h5\n",
      "Epoch 53/100\n",
      "2929/2929 [==============================] - 201s 68ms/step - loss: 0.0414 - acc: 0.9860 - val_loss: 2.0631 - val_acc: 0.7340\n",
      "\n",
      "Epoch 00053: saving model to /mnt/DATA-SSD/DataSandbox/model0053.h5\n",
      "Epoch 54/100\n",
      "2929/2929 [==============================] - 201s 68ms/step - loss: 0.0483 - acc: 0.9843 - val_loss: 2.0390 - val_acc: 0.7258\n",
      "\n",
      "Epoch 00054: saving model to /mnt/DATA-SSD/DataSandbox/model0054.h5\n",
      "Epoch 55/100\n",
      "2929/2929 [==============================] - 201s 68ms/step - loss: 0.0544 - acc: 0.9809 - val_loss: 2.1004 - val_acc: 0.7367\n",
      "\n",
      "Epoch 00055: saving model to /mnt/DATA-SSD/DataSandbox/model0055.h5\n",
      "Epoch 56/100\n",
      "2929/2929 [==============================] - 212s 72ms/step - loss: 0.0467 - acc: 0.9843 - val_loss: 2.0451 - val_acc: 0.7121\n",
      "\n",
      "Epoch 00056: saving model to /mnt/DATA-SSD/DataSandbox/model0056.h5\n",
      "Epoch 57/100\n",
      "2929/2929 [==============================] - 212s 72ms/step - loss: 0.0463 - acc: 0.9836 - val_loss: 2.1448 - val_acc: 0.7231\n",
      "\n",
      "Epoch 00057: saving model to /mnt/DATA-SSD/DataSandbox/model0057.h5\n",
      "Epoch 58/100\n",
      "2929/2929 [==============================] - 212s 73ms/step - loss: 0.0352 - acc: 0.9870 - val_loss: 2.0604 - val_acc: 0.7258\n",
      "\n",
      "Epoch 00058: saving model to /mnt/DATA-SSD/DataSandbox/model0058.h5\n",
      "Epoch 59/100\n",
      "2929/2929 [==============================] - 202s 69ms/step - loss: 0.0441 - acc: 0.9833 - val_loss: 2.1197 - val_acc: 0.7326\n",
      "\n",
      "Epoch 00059: saving model to /mnt/DATA-SSD/DataSandbox/model0059.h5\n",
      "Epoch 60/100\n",
      "2929/2929 [==============================] - 201s 69ms/step - loss: 0.0625 - acc: 0.9761 - val_loss: 2.1192 - val_acc: 0.7367\n",
      "\n",
      "Epoch 00060: saving model to /mnt/DATA-SSD/DataSandbox/model0060.h5\n",
      "Epoch 61/100\n",
      "2929/2929 [==============================] - 201s 69ms/step - loss: 0.0718 - acc: 0.9720 - val_loss: 2.1879 - val_acc: 0.7285\n",
      "\n",
      "Epoch 00061: saving model to /mnt/DATA-SSD/DataSandbox/model0061.h5\n",
      "Epoch 62/100\n",
      "2929/2929 [==============================] - 201s 69ms/step - loss: 0.0574 - acc: 0.9778 - val_loss: 2.1041 - val_acc: 0.6808\n",
      "\n",
      "Epoch 00062: saving model to /mnt/DATA-SSD/DataSandbox/model0062.h5\n",
      "Epoch 63/100\n",
      "2929/2929 [==============================] - 201s 69ms/step - loss: 0.0508 - acc: 0.9792 - val_loss: 2.1798 - val_acc: 0.7381\n",
      "\n",
      "Epoch 00063: saving model to /mnt/DATA-SSD/DataSandbox/model0063.h5\n",
      "Epoch 64/100\n",
      "2929/2929 [==============================] - 201s 69ms/step - loss: 0.0371 - acc: 0.9863 - val_loss: 2.0786 - val_acc: 0.7258\n",
      "\n",
      "Epoch 00064: saving model to /mnt/DATA-SSD/DataSandbox/model0064.h5\n",
      "Epoch 65/100\n",
      "2929/2929 [==============================] - 201s 69ms/step - loss: 0.0247 - acc: 0.9881 - val_loss: 2.2572 - val_acc: 0.7381\n",
      "\n",
      "Epoch 00065: saving model to /mnt/DATA-SSD/DataSandbox/model0065.h5\n",
      "Epoch 66/100\n",
      "2929/2929 [==============================] - 209s 71ms/step - loss: 0.0353 - acc: 0.9857 - val_loss: 2.2097 - val_acc: 0.7326\n",
      "\n",
      "Epoch 00066: saving model to /mnt/DATA-SSD/DataSandbox/model0066.h5\n",
      "Epoch 67/100\n",
      "2929/2929 [==============================] - 223s 76ms/step - loss: 0.0337 - acc: 0.9860 - val_loss: 2.0750 - val_acc: 0.7271\n",
      "\n",
      "Epoch 00067: saving model to /mnt/DATA-SSD/DataSandbox/model0067.h5\n",
      "Epoch 68/100\n",
      "2929/2929 [==============================] - 226s 77ms/step - loss: 0.0321 - acc: 0.9870 - val_loss: 2.1238 - val_acc: 0.7244\n",
      "\n",
      "Epoch 00068: saving model to /mnt/DATA-SSD/DataSandbox/model0068.h5\n",
      "Epoch 69/100\n",
      "2929/2929 [==============================] - 223s 76ms/step - loss: 0.0296 - acc: 0.9857 - val_loss: 2.3838 - val_acc: 0.7353\n",
      "\n",
      "Epoch 00069: saving model to /mnt/DATA-SSD/DataSandbox/model0069.h5\n",
      "Epoch 70/100\n",
      "2929/2929 [==============================] - 224s 76ms/step - loss: 0.0404 - acc: 0.9840 - val_loss: 2.1683 - val_acc: 0.7299\n",
      "\n",
      "Epoch 00070: saving model to /mnt/DATA-SSD/DataSandbox/model0070.h5\n",
      "Epoch 71/100\n",
      "2929/2929 [==============================] - 221s 75ms/step - loss: 0.0712 - acc: 0.9758 - val_loss: 2.1832 - val_acc: 0.7285\n",
      "\n",
      "Epoch 00071: saving model to /mnt/DATA-SSD/DataSandbox/model0071.h5\n",
      "Epoch 72/100\n",
      "2929/2929 [==============================] - 221s 75ms/step - loss: 0.0801 - acc: 0.9713 - val_loss: 1.9728 - val_acc: 0.7422\n",
      "\n",
      "Epoch 00072: saving model to /mnt/DATA-SSD/DataSandbox/model0072.h5\n",
      "Epoch 73/100\n",
      "2929/2929 [==============================] - 220s 75ms/step - loss: 0.0497 - acc: 0.9802 - val_loss: 2.2238 - val_acc: 0.7108\n",
      "\n",
      "Epoch 00073: saving model to /mnt/DATA-SSD/DataSandbox/model0073.h5\n",
      "Epoch 74/100\n",
      "2929/2929 [==============================] - 220s 75ms/step - loss: 0.0364 - acc: 0.9850 - val_loss: 2.2199 - val_acc: 0.7367\n",
      "\n",
      "Epoch 00074: saving model to /mnt/DATA-SSD/DataSandbox/model0074.h5\n",
      "Epoch 75/100\n",
      "2929/2929 [==============================] - 215s 73ms/step - loss: 0.0295 - acc: 0.9881 - val_loss: 2.1560 - val_acc: 0.7271\n",
      "\n",
      "Epoch 00075: saving model to /mnt/DATA-SSD/DataSandbox/model0075.h5\n",
      "Epoch 76/100\n",
      "2929/2929 [==============================] - 208s 71ms/step - loss: 0.0281 - acc: 0.9891 - val_loss: 2.1724 - val_acc: 0.7285\n",
      "\n",
      "Epoch 00076: saving model to /mnt/DATA-SSD/DataSandbox/model0076.h5\n",
      "Epoch 77/100\n",
      "2929/2929 [==============================] - 208s 71ms/step - loss: 0.0235 - acc: 0.9877 - val_loss: 2.2367 - val_acc: 0.7299\n",
      "\n",
      "Epoch 00077: saving model to /mnt/DATA-SSD/DataSandbox/model0077.h5\n",
      "Epoch 78/100\n",
      "2929/2929 [==============================] - 208s 71ms/step - loss: 0.0244 - acc: 0.9881 - val_loss: 2.1960 - val_acc: 0.7271\n",
      "\n",
      "Epoch 00078: saving model to /mnt/DATA-SSD/DataSandbox/model0078.h5\n",
      "Epoch 79/100\n",
      "2929/2929 [==============================] - 207s 71ms/step - loss: 0.0232 - acc: 0.9884 - val_loss: 2.2096 - val_acc: 0.7231\n",
      "\n",
      "Epoch 00079: saving model to /mnt/DATA-SSD/DataSandbox/model0079.h5\n",
      "Epoch 80/100\n",
      "2929/2929 [==============================] - 207s 71ms/step - loss: 0.0834 - acc: 0.9717 - val_loss: 2.4211 - val_acc: 0.6562\n",
      "\n",
      "Epoch 00080: saving model to /mnt/DATA-SSD/DataSandbox/model0080.h5\n",
      "Epoch 81/100\n",
      "2929/2929 [==============================] - 207s 71ms/step - loss: 0.1195 - acc: 0.9583 - val_loss: 2.3273 - val_acc: 0.7285\n",
      "\n",
      "Epoch 00081: saving model to /mnt/DATA-SSD/DataSandbox/model0081.h5\n",
      "Epoch 82/100\n",
      "2929/2929 [==============================] - 206s 70ms/step - loss: 0.0376 - acc: 0.9843 - val_loss: 2.2644 - val_acc: 0.7040\n",
      "\n",
      "Epoch 00082: saving model to /mnt/DATA-SSD/DataSandbox/model0082.h5\n",
      "Epoch 83/100\n",
      "2929/2929 [==============================] - 206s 70ms/step - loss: 0.0280 - acc: 0.9857 - val_loss: 2.3367 - val_acc: 0.7135\n",
      "\n",
      "Epoch 00083: saving model to /mnt/DATA-SSD/DataSandbox/model0083.h5\n",
      "Epoch 84/100\n",
      "2929/2929 [==============================] - 206s 70ms/step - loss: 0.0257 - acc: 0.9881 - val_loss: 2.2961 - val_acc: 0.7271\n",
      "\n",
      "Epoch 00084: saving model to /mnt/DATA-SSD/DataSandbox/model0084.h5\n",
      "Epoch 85/100\n",
      "2929/2929 [==============================] - 206s 70ms/step - loss: 0.0227 - acc: 0.9887 - val_loss: 2.2147 - val_acc: 0.7231\n",
      "\n",
      "Epoch 00085: saving model to /mnt/DATA-SSD/DataSandbox/model0085.h5\n",
      "Epoch 86/100\n",
      "2929/2929 [==============================] - 206s 70ms/step - loss: 0.0219 - acc: 0.9877 - val_loss: 2.2953 - val_acc: 0.7176\n",
      "\n",
      "Epoch 00086: saving model to /mnt/DATA-SSD/DataSandbox/model0086.h5\n",
      "Epoch 87/100\n",
      "2929/2929 [==============================] - 205s 70ms/step - loss: 0.0222 - acc: 0.9881 - val_loss: 2.2253 - val_acc: 0.7271\n",
      "\n",
      "Epoch 00087: saving model to /mnt/DATA-SSD/DataSandbox/model0087.h5\n",
      "Epoch 88/100\n",
      "2929/2929 [==============================] - 205s 70ms/step - loss: 0.0214 - acc: 0.9881 - val_loss: 2.2884 - val_acc: 0.7285\n",
      "\n",
      "Epoch 00088: saving model to /mnt/DATA-SSD/DataSandbox/model0088.h5\n",
      "Epoch 89/100\n",
      "2929/2929 [==============================] - 205s 70ms/step - loss: 0.0236 - acc: 0.9891 - val_loss: 2.3158 - val_acc: 0.7162\n",
      "\n",
      "Epoch 00089: saving model to /mnt/DATA-SSD/DataSandbox/model0089.h5\n",
      "Epoch 90/100\n",
      "2929/2929 [==============================] - 205s 70ms/step - loss: 0.0233 - acc: 0.9884 - val_loss: 2.4042 - val_acc: 0.7012\n",
      "\n",
      "Epoch 00090: saving model to /mnt/DATA-SSD/DataSandbox/model0090.h5\n",
      "Epoch 91/100\n",
      "2929/2929 [==============================] - 205s 70ms/step - loss: 0.1341 - acc: 0.9573 - val_loss: 2.2487 - val_acc: 0.7040\n",
      "\n",
      "Epoch 00091: saving model to /mnt/DATA-SSD/DataSandbox/model0091.h5\n",
      "Epoch 92/100\n",
      "2929/2929 [==============================] - 204s 70ms/step - loss: 0.0541 - acc: 0.9802 - val_loss: 2.3189 - val_acc: 0.7258\n",
      "\n",
      "Epoch 00092: saving model to /mnt/DATA-SSD/DataSandbox/model0092.h5\n",
      "Epoch 93/100\n",
      "2929/2929 [==============================] - 204s 70ms/step - loss: 0.0288 - acc: 0.9870 - val_loss: 2.3424 - val_acc: 0.7353\n",
      "\n",
      "Epoch 00093: saving model to /mnt/DATA-SSD/DataSandbox/model0093.h5\n",
      "Epoch 94/100\n",
      "2929/2929 [==============================] - 204s 70ms/step - loss: 0.0311 - acc: 0.9891 - val_loss: 2.2932 - val_acc: 0.7244\n",
      "\n",
      "Epoch 00094: saving model to /mnt/DATA-SSD/DataSandbox/model0094.h5\n",
      "Epoch 95/100\n",
      "2929/2929 [==============================] - 204s 70ms/step - loss: 0.0219 - acc: 0.9894 - val_loss: 2.1694 - val_acc: 0.7353\n",
      "\n",
      "Epoch 00095: saving model to /mnt/DATA-SSD/DataSandbox/model0095.h5\n",
      "Epoch 96/100\n",
      "2929/2929 [==============================] - 204s 70ms/step - loss: 0.0213 - acc: 0.9884 - val_loss: 2.2021 - val_acc: 0.7244\n",
      "\n",
      "Epoch 00096: saving model to /mnt/DATA-SSD/DataSandbox/model0096.h5\n",
      "Epoch 97/100\n",
      "2929/2929 [==============================] - 204s 70ms/step - loss: 0.0284 - acc: 0.9860 - val_loss: 2.3069 - val_acc: 0.7299\n",
      "\n",
      "Epoch 00097: saving model to /mnt/DATA-SSD/DataSandbox/model0097.h5\n",
      "Epoch 98/100\n",
      "2929/2929 [==============================] - 204s 70ms/step - loss: 0.0546 - acc: 0.9781 - val_loss: 2.4253 - val_acc: 0.7258\n",
      "\n",
      "Epoch 00098: saving model to /mnt/DATA-SSD/DataSandbox/model0098.h5\n",
      "Epoch 99/100\n",
      "2929/2929 [==============================] - 203s 69ms/step - loss: 0.0549 - acc: 0.9775 - val_loss: 2.4268 - val_acc: 0.6903\n",
      "\n",
      "Epoch 00099: saving model to /mnt/DATA-SSD/DataSandbox/model0099.h5\n",
      "Epoch 100/100\n",
      "2929/2929 [==============================] - 203s 69ms/step - loss: 0.0637 - acc: 0.9768 - val_loss: 2.2020 - val_acc: 0.7176\n",
      "\n",
      "Epoch 00100: saving model to /mnt/DATA-SSD/DataSandbox/model0100.h5\n"
     ]
    }
   ],
   "source": [
    "import datetime\n",
    "# este es el modelo estándar, con la entrada y la salida esperadas\n",
    "# hay que sustituirlo por un iterador.\n",
    "\n",
    "\n",
    "# No olvidarse de incluir un train_history para recuperar los datos del entrenamiento\n",
    "# 5000 epochs es una locura y el número de steps per epoch es muy bajo (no se recorren todas las imagenes)\n",
    "# el mínimo steps_per_epoch debería de ser total_muestras/batch_size\n",
    "\n",
    "lt = datetime.datetime.now().strftime(\"%Y%m%d\")\n",
    "model_file = \"/mnt/DATA-SSD/DataSandbox/model_{lt}_{epoch:04d}.h5\"\n",
    "\n",
    "# with callback\n",
    "train_history = model.fit(train_X, train_Y,\n",
    "                          batch_size = 10,\n",
    "                          epochs=100,\n",
    "                          verbose=1,\n",
    "                          validation_data = (valid_X, valid_Y),\n",
    "                          callbacks = [tf.keras.callbacks.ModelCheckpoint(model_file, \n",
    "                                                                          save_weights_only = False,\n",
    "                                                                          verbose=1)])\n"
   ]
  },
  {
   "cell_type": "code",
   "execution_count": 18,
   "metadata": {},
   "outputs": [
    {
     "data": {
      "image/png": "[encoded data removed]",
      "text/plain": [
       "<Figure size 432x288 with 1 Axes>"
      ]
     },
     "metadata": {
      "needs_background": "light"
     },
     "output_type": "display_data"
    },
    {
     "data": {
      "image/png": "[encoded data removed]",
      "text/plain": [
       "<Figure size 432x288 with 1 Axes>"
      ]
     },
     "metadata": {
      "needs_background": "light"
     },
     "output_type": "display_data"
    }
   ],
   "source": [
    "# summarize history for accuracy\n",
    "plt.plot(train_history.history['acc'])\n",
    "plt.plot(train_history.history['val_acc'])\n",
    "plt.title('model accuracy')\n",
    "plt.ylabel('accuracy')\n",
    "plt.xlabel('epoch')\n",
    "plt.legend(['train', 'test'], loc='upper left')\n",
    "plt.show()\n",
    "# summarize history for loss\n",
    "plt.plot(train_history.history['loss'])\n",
    "plt.plot(train_history.history['val_loss'])\n",
    "plt.title('model loss')\n",
    "plt.ylabel('loss')\n",
    "plt.xlabel('epoch')\n",
    "plt.legend(['train', 'test'], loc='upper left')\n",
    "plt.show()"
   ]
  },
  {
   "cell_type": "code",
   "execution_count": 19,
   "metadata": {},
   "outputs": [
    {
     "name": "stdout",
     "output_type": "stream",
     "text": [
      "733/733 [==============================] - 11s 15ms/step\n"
     ]
    },
    {
     "data": {
      "text/plain": [
       "[2.202020035596694, 0.7175989089200799]"
      ]
     },
     "execution_count": 19,
     "metadata": {},
     "output_type": "execute_result"
    }
   ],
   "source": [
    "model.evaluate(x=valid_X, y=valid_Y)"
   ]
  },
  {
   "cell_type": "code",
   "execution_count": 25,
   "metadata": {},
   "outputs": [
    {
     "data": {
      "text/plain": [
       "[           id_code  diagnosis\n",
       " 1361  5ead17e894ae          0,            id_code  diagnosis\n",
       " 3305  e580676516b0          1,           id_code  diagnosis\n",
       " 520  2532613a584a          2,            id_code  diagnosis\n",
       " 2200  9a94e0316ee3          3,          id_code  diagnosis\n",
       " 88  07122e268a1d          4]"
      ]
     },
     "execution_count": 25,
     "metadata": {},
     "output_type": "execute_result"
    }
   ],
   "source": [
    "# Choose 5 random images one for each different diagnosis value\n",
    "\n",
    "image_list = []\n",
    "for class_id in sorted(train_y.unique()):\n",
    "    image_list.append(df_train.loc[df_train['diagnosis'] == class_id].sample(1, random_state=SEED))\n",
    "\n",
    "image_list"
   ]
  },
  {
   "cell_type": "code",
   "execution_count": 27,
   "metadata": {},
   "outputs": [
    {
     "data": {
      "text/plain": [
       "{'5ead17e894ae': [0, array([[1., 0., 0., 0., 0.]], dtype=float32)],\n",
       " 'e580676516b0': [1, array([[1., 0., 0., 0., 0.]], dtype=float32)],\n",
       " '2532613a584a': [2, array([[0., 0., 1., 0., 0.]], dtype=float32)],\n",
       " '9a94e0316ee3': [3, array([[0., 0., 1., 0., 0.]], dtype=float32)],\n",
       " '07122e268a1d': [4, array([[0., 0., 0., 0., 1.]], dtype=float32)]}"
      ]
     },
     "execution_count": 27,
     "metadata": {},
     "output_type": "execute_result"
    }
   ],
   "source": [
    "predict = {}\n",
    "for image_data in image_list:\n",
    "    path=f\"{DATA_PATH}/processed_train_images/{image_data.iloc[0][0]}.png\"\n",
    "    img = image.load_img(path, grayscale=True,target_size=(width,height,1))\n",
    "    img = image.img_to_array(img)\n",
    "    img = img.reshape(1,width,height,1)\n",
    "\n",
    "    predict[image_data.iloc[0][0]] = [image_data.iloc[0][1], model.predict(img)]\n",
    "    \n",
    "predict"
   ]
  },
  {
   "cell_type": "code",
   "execution_count": 28,
   "metadata": {},
   "outputs": [
    {
     "name": "stdout",
     "output_type": "stream",
     "text": [
      "Train on 2929 samples, validate on 733 samples\n",
      "Epoch 1/100\n",
      "2929/2929 [==============================] - 212s 72ms/step - loss: 0.0244 - acc: 0.9884 - val_loss: 2.3269 - val_acc: 0.7258\n",
      "\n",
      "Epoch 00001: saving model to /mnt/DATA-SSD/DataSandbox/model_2_0001.h5\n",
      "Epoch 2/100\n",
      "2929/2929 [==============================] - 212s 72ms/step - loss: 0.0211 - acc: 0.9884 - val_loss: 2.3431 - val_acc: 0.7340\n",
      "\n",
      "Epoch 00002: saving model to /mnt/DATA-SSD/DataSandbox/model_2_0002.h5\n",
      "Epoch 3/100\n",
      "2929/2929 [==============================] - 211s 72ms/step - loss: 0.0214 - acc: 0.9881 - val_loss: 2.3908 - val_acc: 0.7353\n",
      "\n",
      "Epoch 00003: saving model to /mnt/DATA-SSD/DataSandbox/model_2_0003.h5\n",
      "Epoch 4/100\n",
      "2929/2929 [==============================] - 201s 69ms/step - loss: 0.0220 - acc: 0.9894 - val_loss: 2.2882 - val_acc: 0.7299\n",
      "\n",
      "Epoch 00004: saving model to /mnt/DATA-SSD/DataSandbox/model_2_0004.h5\n",
      "Epoch 5/100\n",
      "2929/2929 [==============================] - 201s 69ms/step - loss: 0.0225 - acc: 0.9870 - val_loss: 2.3224 - val_acc: 0.7271\n",
      "\n",
      "Epoch 00005: saving model to /mnt/DATA-SSD/DataSandbox/model_2_0005.h5\n",
      "Epoch 6/100\n",
      "2929/2929 [==============================] - 201s 69ms/step - loss: 0.0533 - acc: 0.9809 - val_loss: 2.2362 - val_acc: 0.7312\n",
      "\n",
      "Epoch 00006: saving model to /mnt/DATA-SSD/DataSandbox/model_2_0006.h5\n",
      "Epoch 7/100\n",
      "2929/2929 [==============================] - 201s 69ms/step - loss: 0.1015 - acc: 0.9672 - val_loss: 2.4080 - val_acc: 0.6985\n",
      "\n",
      "Epoch 00007: saving model to /mnt/DATA-SSD/DataSandbox/model_2_0007.h5\n",
      "Epoch 8/100\n",
      "2929/2929 [==============================] - 201s 69ms/step - loss: 0.0229 - acc: 0.9887 - val_loss: 2.4403 - val_acc: 0.7326\n",
      "\n",
      "Epoch 00008: saving model to /mnt/DATA-SSD/DataSandbox/model_2_0008.h5\n",
      "Epoch 9/100\n",
      "2929/2929 [==============================] - 201s 69ms/step - loss: 0.0204 - acc: 0.9884 - val_loss: 2.3864 - val_acc: 0.7190\n",
      "\n",
      "Epoch 00009: saving model to /mnt/DATA-SSD/DataSandbox/model_2_0009.h5\n",
      "Epoch 10/100\n",
      "2929/2929 [==============================] - 201s 69ms/step - loss: 0.0200 - acc: 0.9887 - val_loss: 2.4219 - val_acc: 0.7231\n",
      "\n",
      "Epoch 00010: saving model to /mnt/DATA-SSD/DataSandbox/model_2_0010.h5\n",
      "Epoch 11/100\n",
      "2929/2929 [==============================] - 201s 69ms/step - loss: 0.0200 - acc: 0.9894 - val_loss: 2.3885 - val_acc: 0.7203\n",
      "\n",
      "Epoch 00011: saving model to /mnt/DATA-SSD/DataSandbox/model_2_0011.h5\n",
      "Epoch 12/100\n",
      "2929/2929 [==============================] - 201s 69ms/step - loss: 0.0199 - acc: 0.9881 - val_loss: 2.4677 - val_acc: 0.7231\n",
      "\n",
      "Epoch 00012: saving model to /mnt/DATA-SSD/DataSandbox/model_2_0012.h5\n",
      "Epoch 13/100\n",
      "2929/2929 [==============================] - 201s 69ms/step - loss: 0.0186 - acc: 0.9870 - val_loss: 2.4039 - val_acc: 0.7162\n",
      "\n",
      "Epoch 00013: saving model to /mnt/DATA-SSD/DataSandbox/model_2_0013.h5\n",
      "Epoch 14/100\n",
      "2929/2929 [==============================] - 201s 69ms/step - loss: 0.0191 - acc: 0.9891 - val_loss: 2.4934 - val_acc: 0.7271\n",
      "\n",
      "Epoch 00014: saving model to /mnt/DATA-SSD/DataSandbox/model_2_0014.h5\n",
      "Epoch 15/100\n",
      "2929/2929 [==============================] - 201s 69ms/step - loss: 0.0547 - acc: 0.9778 - val_loss: 2.3050 - val_acc: 0.7012\n",
      "\n",
      "Epoch 00015: saving model to /mnt/DATA-SSD/DataSandbox/model_2_0015.h5\n",
      "Epoch 16/100\n",
      "2929/2929 [==============================] - 202s 69ms/step - loss: 0.1013 - acc: 0.9659 - val_loss: 2.6129 - val_acc: 0.7121\n",
      "\n",
      "Epoch 00016: saving model to /mnt/DATA-SSD/DataSandbox/model_2_0016.h5\n",
      "Epoch 17/100\n",
      "2929/2929 [==============================] - 201s 69ms/step - loss: 0.0568 - acc: 0.9788 - val_loss: 2.4249 - val_acc: 0.7040\n",
      "\n",
      "Epoch 00017: saving model to /mnt/DATA-SSD/DataSandbox/model_2_0017.h5\n",
      "Epoch 18/100\n",
      "2929/2929 [==============================] - 201s 69ms/step - loss: 0.0248 - acc: 0.9877 - val_loss: 2.6028 - val_acc: 0.7299\n",
      "\n",
      "Epoch 00018: saving model to /mnt/DATA-SSD/DataSandbox/model_2_0018.h5\n",
      "Epoch 19/100\n",
      "2929/2929 [==============================] - 201s 69ms/step - loss: 0.0199 - acc: 0.9891 - val_loss: 2.5167 - val_acc: 0.7203\n",
      "\n",
      "Epoch 00019: saving model to /mnt/DATA-SSD/DataSandbox/model_2_0019.h5\n",
      "Epoch 20/100\n",
      "2929/2929 [==============================] - 201s 69ms/step - loss: 0.0170 - acc: 0.9901 - val_loss: 2.5356 - val_acc: 0.7258\n",
      "\n",
      "Epoch 00020: saving model to /mnt/DATA-SSD/DataSandbox/model_2_0020.h5\n",
      "Epoch 21/100\n",
      "2929/2929 [==============================] - 201s 69ms/step - loss: 0.0171 - acc: 0.9887 - val_loss: 2.4904 - val_acc: 0.7340\n",
      "\n",
      "Epoch 00021: saving model to /mnt/DATA-SSD/DataSandbox/model_2_0021.h5\n",
      "Epoch 22/100\n",
      "2929/2929 [==============================] - 201s 69ms/step - loss: 0.0168 - acc: 0.9891 - val_loss: 2.5139 - val_acc: 0.7190\n",
      "\n",
      "Epoch 00022: saving model to /mnt/DATA-SSD/DataSandbox/model_2_0022.h5\n",
      "Epoch 23/100\n",
      "2929/2929 [==============================] - 201s 69ms/step - loss: 0.0161 - acc: 0.9898 - val_loss: 2.5143 - val_acc: 0.7244\n",
      "\n",
      "Epoch 00023: saving model to /mnt/DATA-SSD/DataSandbox/model_2_0023.h5\n",
      "Epoch 24/100\n",
      "2929/2929 [==============================] - 201s 69ms/step - loss: 0.0184 - acc: 0.9891 - val_loss: 2.4329 - val_acc: 0.7203\n",
      "\n",
      "Epoch 00024: saving model to /mnt/DATA-SSD/DataSandbox/model_2_0024.h5\n",
      "Epoch 25/100\n",
      "2929/2929 [==============================] - 201s 69ms/step - loss: 0.1075 - acc: 0.9635 - val_loss: 2.5184 - val_acc: 0.7012\n",
      "\n",
      "Epoch 00025: saving model to /mnt/DATA-SSD/DataSandbox/model_2_0025.h5\n",
      "Epoch 26/100\n",
      "2929/2929 [==============================] - 201s 69ms/step - loss: 0.0635 - acc: 0.9734 - val_loss: 2.4356 - val_acc: 0.7244\n",
      "\n",
      "Epoch 00026: saving model to /mnt/DATA-SSD/DataSandbox/model_2_0026.h5\n",
      "Epoch 27/100\n",
      "2929/2929 [==============================] - 201s 69ms/step - loss: 0.0278 - acc: 0.9857 - val_loss: 2.5711 - val_acc: 0.7217\n",
      "\n",
      "Epoch 00027: saving model to /mnt/DATA-SSD/DataSandbox/model_2_0027.h5\n",
      "Epoch 28/100\n",
      "2929/2929 [==============================] - 201s 69ms/step - loss: 0.0227 - acc: 0.9860 - val_loss: 2.3338 - val_acc: 0.7108\n",
      "\n",
      "Epoch 00028: saving model to /mnt/DATA-SSD/DataSandbox/model_2_0028.h5\n",
      "Epoch 29/100\n",
      "2929/2929 [==============================] - 201s 69ms/step - loss: 0.0193 - acc: 0.9901 - val_loss: 2.5140 - val_acc: 0.7258\n",
      "\n",
      "Epoch 00029: saving model to /mnt/DATA-SSD/DataSandbox/model_2_0029.h5\n",
      "Epoch 30/100\n",
      "2929/2929 [==============================] - 201s 69ms/step - loss: 0.0173 - acc: 0.9881 - val_loss: 2.5152 - val_acc: 0.7135\n",
      "\n",
      "Epoch 00030: saving model to /mnt/DATA-SSD/DataSandbox/model_2_0030.h5\n",
      "Epoch 31/100\n",
      "2929/2929 [==============================] - 201s 69ms/step - loss: 0.0159 - acc: 0.9911 - val_loss: 2.5218 - val_acc: 0.7285\n",
      "\n",
      "Epoch 00031: saving model to /mnt/DATA-SSD/DataSandbox/model_2_0031.h5\n",
      "Epoch 32/100\n",
      "2929/2929 [==============================] - 201s 69ms/step - loss: 0.0169 - acc: 0.9894 - val_loss: 2.5073 - val_acc: 0.7217\n",
      "\n",
      "Epoch 00032: saving model to /mnt/DATA-SSD/DataSandbox/model_2_0032.h5\n",
      "Epoch 33/100\n",
      "2929/2929 [==============================] - 201s 69ms/step - loss: 0.0182 - acc: 0.9891 - val_loss: 2.4303 - val_acc: 0.7367\n",
      "\n",
      "Epoch 00033: saving model to /mnt/DATA-SSD/DataSandbox/model_2_0033.h5\n",
      "Epoch 34/100\n",
      "2929/2929 [==============================] - 201s 69ms/step - loss: 0.0197 - acc: 0.9870 - val_loss: 2.6634 - val_acc: 0.7231\n",
      "\n",
      "Epoch 00034: saving model to /mnt/DATA-SSD/DataSandbox/model_2_0034.h5\n",
      "Epoch 35/100\n",
      "2929/2929 [==============================] - 201s 69ms/step - loss: 0.1079 - acc: 0.9676 - val_loss: 2.5953 - val_acc: 0.7190\n",
      "\n",
      "Epoch 00035: saving model to /mnt/DATA-SSD/DataSandbox/model_2_0035.h5\n",
      "Epoch 36/100\n",
      "2929/2929 [==============================] - 201s 69ms/step - loss: 0.0417 - acc: 0.9833 - val_loss: 2.5208 - val_acc: 0.7217\n",
      "\n",
      "Epoch 00036: saving model to /mnt/DATA-SSD/DataSandbox/model_2_0036.h5\n",
      "Epoch 37/100\n",
      "2929/2929 [==============================] - 201s 69ms/step - loss: 0.0293 - acc: 0.9860 - val_loss: 2.6219 - val_acc: 0.7271\n",
      "\n",
      "Epoch 00037: saving model to /mnt/DATA-SSD/DataSandbox/model_2_0037.h5\n",
      "Epoch 38/100\n",
      "2929/2929 [==============================] - 201s 69ms/step - loss: 0.0448 - acc: 0.9816 - val_loss: 2.6980 - val_acc: 0.6985\n",
      "\n",
      "Epoch 00038: saving model to /mnt/DATA-SSD/DataSandbox/model_2_0038.h5\n",
      "Epoch 39/100\n",
      "2929/2929 [==============================] - 201s 69ms/step - loss: 0.0240 - acc: 0.9860 - val_loss: 2.6046 - val_acc: 0.7149\n"
     ]
    },
    {
     "name": "stdout",
     "output_type": "stream",
     "text": [
      "\n",
      "Epoch 00039: saving model to /mnt/DATA-SSD/DataSandbox/model_2_0039.h5\n",
      "Epoch 40/100\n",
      "2929/2929 [==============================] - 201s 69ms/step - loss: 0.0194 - acc: 0.9877 - val_loss: 2.6730 - val_acc: 0.7231\n",
      "\n",
      "Epoch 00040: saving model to /mnt/DATA-SSD/DataSandbox/model_2_0040.h5\n",
      "Epoch 41/100\n",
      "2929/2929 [==============================] - 201s 69ms/step - loss: 0.0161 - acc: 0.9911 - val_loss: 2.7183 - val_acc: 0.7231\n",
      "\n",
      "Epoch 00041: saving model to /mnt/DATA-SSD/DataSandbox/model_2_0041.h5\n",
      "Epoch 42/100\n",
      "2929/2929 [==============================] - 201s 69ms/step - loss: 0.0164 - acc: 0.9884 - val_loss: 2.6634 - val_acc: 0.7121\n",
      "\n",
      "Epoch 00042: saving model to /mnt/DATA-SSD/DataSandbox/model_2_0042.h5\n",
      "Epoch 43/100\n",
      "2929/2929 [==============================] - 201s 69ms/step - loss: 0.0172 - acc: 0.9908 - val_loss: 2.6181 - val_acc: 0.7190\n",
      "\n",
      "Epoch 00043: saving model to /mnt/DATA-SSD/DataSandbox/model_2_0043.h5\n",
      "Epoch 44/100\n",
      "2929/2929 [==============================] - 201s 69ms/step - loss: 0.0411 - acc: 0.9833 - val_loss: 2.7316 - val_acc: 0.6876\n",
      "\n",
      "Epoch 00044: saving model to /mnt/DATA-SSD/DataSandbox/model_2_0044.h5\n",
      "Epoch 45/100\n",
      "2929/2929 [==============================] - 201s 69ms/step - loss: 0.0418 - acc: 0.9826 - val_loss: 2.4826 - val_acc: 0.7176\n",
      "\n",
      "Epoch 00045: saving model to /mnt/DATA-SSD/DataSandbox/model_2_0045.h5\n",
      "Epoch 46/100\n",
      "2929/2929 [==============================] - 201s 69ms/step - loss: 0.0248 - acc: 0.9877 - val_loss: 2.6710 - val_acc: 0.7203\n",
      "\n",
      "Epoch 00046: saving model to /mnt/DATA-SSD/DataSandbox/model_2_0046.h5\n",
      "Epoch 47/100\n",
      "2929/2929 [==============================] - 201s 69ms/step - loss: 0.0210 - acc: 0.9884 - val_loss: 2.5363 - val_acc: 0.7203\n",
      "\n",
      "Epoch 00047: saving model to /mnt/DATA-SSD/DataSandbox/model_2_0047.h5\n",
      "Epoch 48/100\n",
      "2929/2929 [==============================] - 201s 69ms/step - loss: 0.0356 - acc: 0.9833 - val_loss: 2.8193 - val_acc: 0.7176\n",
      "\n",
      "Epoch 00048: saving model to /mnt/DATA-SSD/DataSandbox/model_2_0048.h5\n",
      "Epoch 49/100\n",
      "2929/2929 [==============================] - 201s 69ms/step - loss: 0.0206 - acc: 0.9887 - val_loss: 2.7509 - val_acc: 0.7285\n",
      "\n",
      "Epoch 00049: saving model to /mnt/DATA-SSD/DataSandbox/model_2_0049.h5\n",
      "Epoch 50/100\n",
      "2929/2929 [==============================] - 201s 69ms/step - loss: 0.0162 - acc: 0.9891 - val_loss: 2.6968 - val_acc: 0.7231\n",
      "\n",
      "Epoch 00050: saving model to /mnt/DATA-SSD/DataSandbox/model_2_0050.h5\n",
      "Epoch 51/100\n",
      "2929/2929 [==============================] - 201s 69ms/step - loss: 0.0149 - acc: 0.9887 - val_loss: 2.6693 - val_acc: 0.7271\n",
      "\n",
      "Epoch 00051: saving model to /mnt/DATA-SSD/DataSandbox/model_2_0051.h5\n",
      "Epoch 52/100\n",
      "2929/2929 [==============================] - 201s 69ms/step - loss: 0.0152 - acc: 0.9884 - val_loss: 2.6627 - val_acc: 0.7258\n",
      "\n",
      "Epoch 00052: saving model to /mnt/DATA-SSD/DataSandbox/model_2_0052.h5\n",
      "Epoch 53/100\n",
      "2929/2929 [==============================] - 201s 69ms/step - loss: 0.0161 - acc: 0.9881 - val_loss: 2.6505 - val_acc: 0.7203\n",
      "\n",
      "Epoch 00053: saving model to /mnt/DATA-SSD/DataSandbox/model_2_0053.h5\n",
      "Epoch 54/100\n",
      "2929/2929 [==============================] - 201s 69ms/step - loss: 0.0159 - acc: 0.9894 - val_loss: 2.6335 - val_acc: 0.7312\n",
      "\n",
      "Epoch 00054: saving model to /mnt/DATA-SSD/DataSandbox/model_2_0054.h5\n",
      "Epoch 55/100\n",
      "2929/2929 [==============================] - 201s 69ms/step - loss: 0.0142 - acc: 0.9901 - val_loss: 2.6440 - val_acc: 0.7258\n",
      "\n",
      "Epoch 00055: saving model to /mnt/DATA-SSD/DataSandbox/model_2_0055.h5\n",
      "Epoch 56/100\n",
      "2929/2929 [==============================] - 201s 69ms/step - loss: 0.0155 - acc: 0.9894 - val_loss: 2.5642 - val_acc: 0.7299\n",
      "\n",
      "Epoch 00056: saving model to /mnt/DATA-SSD/DataSandbox/model_2_0056.h5\n",
      "Epoch 57/100\n",
      "2929/2929 [==============================] - 201s 69ms/step - loss: 0.0141 - acc: 0.9901 - val_loss: 2.6139 - val_acc: 0.7299\n",
      "\n",
      "Epoch 00057: saving model to /mnt/DATA-SSD/DataSandbox/model_2_0057.h5\n",
      "Epoch 58/100\n",
      "2929/2929 [==============================] - 201s 69ms/step - loss: 0.0147 - acc: 0.9891 - val_loss: 2.5609 - val_acc: 0.7231\n",
      "\n",
      "Epoch 00058: saving model to /mnt/DATA-SSD/DataSandbox/model_2_0058.h5\n",
      "Epoch 59/100\n",
      "2929/2929 [==============================] - 201s 69ms/step - loss: 0.1459 - acc: 0.9556 - val_loss: 2.2215 - val_acc: 0.7053\n",
      "\n",
      "Epoch 00059: saving model to /mnt/DATA-SSD/DataSandbox/model_2_0059.h5\n",
      "Epoch 60/100\n",
      "2929/2929 [==============================] - 201s 69ms/step - loss: 0.0563 - acc: 0.9799 - val_loss: 2.4866 - val_acc: 0.7244\n",
      "\n",
      "Epoch 00060: saving model to /mnt/DATA-SSD/DataSandbox/model_2_0060.h5\n",
      "Epoch 61/100\n",
      "2929/2929 [==============================] - 201s 69ms/step - loss: 0.0195 - acc: 0.9891 - val_loss: 2.4941 - val_acc: 0.7299\n",
      "\n",
      "Epoch 00061: saving model to /mnt/DATA-SSD/DataSandbox/model_2_0061.h5\n",
      "Epoch 62/100\n",
      "2929/2929 [==============================] - 201s 69ms/step - loss: 0.0160 - acc: 0.9891 - val_loss: 2.4957 - val_acc: 0.7340\n",
      "\n",
      "Epoch 00062: saving model to /mnt/DATA-SSD/DataSandbox/model_2_0062.h5\n",
      "Epoch 63/100\n",
      "2929/2929 [==============================] - 201s 69ms/step - loss: 0.0147 - acc: 0.9898 - val_loss: 2.5155 - val_acc: 0.7203\n",
      "\n",
      "Epoch 00063: saving model to /mnt/DATA-SSD/DataSandbox/model_2_0063.h5\n",
      "Epoch 64/100\n",
      "2929/2929 [==============================] - 201s 69ms/step - loss: 0.0152 - acc: 0.9891 - val_loss: 2.5417 - val_acc: 0.7176\n",
      "\n",
      "Epoch 00064: saving model to /mnt/DATA-SSD/DataSandbox/model_2_0064.h5\n",
      "Epoch 65/100\n",
      "2929/2929 [==============================] - 201s 69ms/step - loss: 0.0158 - acc: 0.9884 - val_loss: 2.5554 - val_acc: 0.7271\n",
      "\n",
      "Epoch 00065: saving model to /mnt/DATA-SSD/DataSandbox/model_2_0065.h5\n",
      "Epoch 66/100\n",
      "2929/2929 [==============================] - 201s 69ms/step - loss: 0.0153 - acc: 0.9887 - val_loss: 2.5498 - val_acc: 0.7258\n",
      "\n",
      "Epoch 00066: saving model to /mnt/DATA-SSD/DataSandbox/model_2_0066.h5\n",
      "Epoch 67/100\n",
      "2929/2929 [==============================] - 201s 69ms/step - loss: 0.0144 - acc: 0.9894 - val_loss: 2.5772 - val_acc: 0.7244\n",
      "\n",
      "Epoch 00067: saving model to /mnt/DATA-SSD/DataSandbox/model_2_0067.h5\n",
      "Epoch 68/100\n",
      "2929/2929 [==============================] - 201s 69ms/step - loss: 0.0153 - acc: 0.9874 - val_loss: 2.5564 - val_acc: 0.7190\n",
      "\n",
      "Epoch 00068: saving model to /mnt/DATA-SSD/DataSandbox/model_2_0068.h5\n",
      "Epoch 69/100\n",
      "2929/2929 [==============================] - 201s 69ms/step - loss: 0.0147 - acc: 0.9891 - val_loss: 2.5999 - val_acc: 0.7299\n",
      "\n",
      "Epoch 00069: saving model to /mnt/DATA-SSD/DataSandbox/model_2_0069.h5\n",
      "Epoch 70/100\n",
      "2929/2929 [==============================] - 201s 69ms/step - loss: 0.0143 - acc: 0.9891 - val_loss: 2.5265 - val_acc: 0.7299\n",
      "\n",
      "Epoch 00070: saving model to /mnt/DATA-SSD/DataSandbox/model_2_0070.h5\n",
      "Epoch 71/100\n",
      "2929/2929 [==============================] - 201s 69ms/step - loss: 0.0148 - acc: 0.9877 - val_loss: 2.5637 - val_acc: 0.7299\n",
      "\n",
      "Epoch 00071: saving model to /mnt/DATA-SSD/DataSandbox/model_2_0071.h5\n",
      "Epoch 72/100\n",
      "2929/2929 [==============================] - 201s 69ms/step - loss: 0.0160 - acc: 0.9877 - val_loss: 2.6079 - val_acc: 0.7217\n",
      "\n",
      "Epoch 00072: saving model to /mnt/DATA-SSD/DataSandbox/model_2_0072.h5\n",
      "Epoch 73/100\n",
      "2929/2929 [==============================] - 201s 69ms/step - loss: 0.1490 - acc: 0.9553 - val_loss: 2.4046 - val_acc: 0.6903\n",
      "\n",
      "Epoch 00073: saving model to /mnt/DATA-SSD/DataSandbox/model_2_0073.h5\n",
      "Epoch 74/100\n",
      "2929/2929 [==============================] - 201s 69ms/step - loss: 0.0269 - acc: 0.9870 - val_loss: 2.6339 - val_acc: 0.7149\n",
      "\n",
      "Epoch 00074: saving model to /mnt/DATA-SSD/DataSandbox/model_2_0074.h5\n",
      "Epoch 75/100\n",
      "2929/2929 [==============================] - 201s 69ms/step - loss: 0.0189 - acc: 0.9891 - val_loss: 2.4551 - val_acc: 0.7190\n",
      "\n",
      "Epoch 00075: saving model to /mnt/DATA-SSD/DataSandbox/model_2_0075.h5\n",
      "Epoch 76/100\n",
      "2929/2929 [==============================] - 201s 69ms/step - loss: 0.0160 - acc: 0.9894 - val_loss: 2.5052 - val_acc: 0.7217\n",
      "\n",
      "Epoch 00076: saving model to /mnt/DATA-SSD/DataSandbox/model_2_0076.h5\n",
      "Epoch 77/100\n",
      "2929/2929 [==============================] - 201s 69ms/step - loss: 0.0149 - acc: 0.9901 - val_loss: 2.5144 - val_acc: 0.7217\n",
      "\n",
      "Epoch 00077: saving model to /mnt/DATA-SSD/DataSandbox/model_2_0077.h5\n",
      "Epoch 78/100\n",
      "2929/2929 [==============================] - 201s 69ms/step - loss: 0.0140 - acc: 0.9891 - val_loss: 2.5409 - val_acc: 0.7231\n"
     ]
    },
    {
     "name": "stdout",
     "output_type": "stream",
     "text": [
      "\n",
      "Epoch 00078: saving model to /mnt/DATA-SSD/DataSandbox/model_2_0078.h5\n",
      "Epoch 79/100\n",
      "2929/2929 [==============================] - 201s 69ms/step - loss: 0.0144 - acc: 0.9894 - val_loss: 2.5188 - val_acc: 0.7217\n",
      "\n",
      "Epoch 00079: saving model to /mnt/DATA-SSD/DataSandbox/model_2_0079.h5\n",
      "Epoch 80/100\n",
      "2929/2929 [==============================] - 201s 69ms/step - loss: 0.0141 - acc: 0.9891 - val_loss: 2.5194 - val_acc: 0.7299\n",
      "\n",
      "Epoch 00080: saving model to /mnt/DATA-SSD/DataSandbox/model_2_0080.h5\n",
      "Epoch 81/100\n",
      "2929/2929 [==============================] - 201s 69ms/step - loss: 0.0141 - acc: 0.9898 - val_loss: 2.5590 - val_acc: 0.7271\n",
      "\n",
      "Epoch 00081: saving model to /mnt/DATA-SSD/DataSandbox/model_2_0081.h5\n",
      "Epoch 82/100\n",
      "2929/2929 [==============================] - 201s 69ms/step - loss: 0.0146 - acc: 0.9894 - val_loss: 2.5287 - val_acc: 0.7258\n",
      "\n",
      "Epoch 00082: saving model to /mnt/DATA-SSD/DataSandbox/model_2_0082.h5\n",
      "Epoch 83/100\n",
      "2929/2929 [==============================] - 201s 69ms/step - loss: 0.0138 - acc: 0.9874 - val_loss: 2.5289 - val_acc: 0.7231\n",
      "\n",
      "Epoch 00083: saving model to /mnt/DATA-SSD/DataSandbox/model_2_0083.h5\n",
      "Epoch 84/100\n",
      "2929/2929 [==============================] - 201s 69ms/step - loss: 0.0153 - acc: 0.9898 - val_loss: 2.6067 - val_acc: 0.7285\n",
      "\n",
      "Epoch 00084: saving model to /mnt/DATA-SSD/DataSandbox/model_2_0084.h5\n",
      "Epoch 85/100\n",
      "2929/2929 [==============================] - 201s 69ms/step - loss: 0.0237 - acc: 0.9881 - val_loss: 2.3170 - val_acc: 0.7067\n",
      "\n",
      "Epoch 00085: saving model to /mnt/DATA-SSD/DataSandbox/model_2_0085.h5\n",
      "Epoch 86/100\n",
      "2929/2929 [==============================] - 201s 69ms/step - loss: 0.1388 - acc: 0.9549 - val_loss: 2.5199 - val_acc: 0.7053\n",
      "\n",
      "Epoch 00086: saving model to /mnt/DATA-SSD/DataSandbox/model_2_0086.h5\n",
      "Epoch 87/100\n",
      "2929/2929 [==============================] - 208s 71ms/step - loss: 0.0327 - acc: 0.9853 - val_loss: 2.6358 - val_acc: 0.7231\n",
      "\n",
      "Epoch 00087: saving model to /mnt/DATA-SSD/DataSandbox/model_2_0087.h5\n",
      "Epoch 88/100\n",
      "2929/2929 [==============================] - 212s 72ms/step - loss: 0.0184 - acc: 0.9901 - val_loss: 2.6639 - val_acc: 0.7244\n",
      "\n",
      "Epoch 00088: saving model to /mnt/DATA-SSD/DataSandbox/model_2_0088.h5\n",
      "Epoch 89/100\n",
      "2929/2929 [==============================] - 212s 72ms/step - loss: 0.0149 - acc: 0.9887 - val_loss: 2.6869 - val_acc: 0.7176\n",
      "\n",
      "Epoch 00089: saving model to /mnt/DATA-SSD/DataSandbox/model_2_0089.h5\n",
      "Epoch 90/100\n",
      "2929/2929 [==============================] - 207s 71ms/step - loss: 0.0139 - acc: 0.9891 - val_loss: 2.6673 - val_acc: 0.7312\n",
      "\n",
      "Epoch 00090: saving model to /mnt/DATA-SSD/DataSandbox/model_2_0090.h5\n",
      "Epoch 91/100\n",
      "2929/2929 [==============================] - 201s 68ms/step - loss: 0.0134 - acc: 0.9898 - val_loss: 2.6632 - val_acc: 0.7244\n",
      "\n",
      "Epoch 00091: saving model to /mnt/DATA-SSD/DataSandbox/model_2_0091.h5\n",
      "Epoch 92/100\n",
      "2929/2929 [==============================] - 201s 69ms/step - loss: 0.0136 - acc: 0.9898 - val_loss: 2.6909 - val_acc: 0.7326\n",
      "\n",
      "Epoch 00092: saving model to /mnt/DATA-SSD/DataSandbox/model_2_0092.h5\n",
      "Epoch 93/100\n",
      "2929/2929 [==============================] - 201s 69ms/step - loss: 0.0166 - acc: 0.9891 - val_loss: 2.6498 - val_acc: 0.7231\n",
      "\n",
      "Epoch 00093: saving model to /mnt/DATA-SSD/DataSandbox/model_2_0093.h5\n",
      "Epoch 94/100\n",
      "2929/2929 [==============================] - 201s 69ms/step - loss: 0.0139 - acc: 0.9881 - val_loss: 2.6900 - val_acc: 0.7190\n",
      "\n",
      "Epoch 00094: saving model to /mnt/DATA-SSD/DataSandbox/model_2_0094.h5\n",
      "Epoch 95/100\n",
      "2929/2929 [==============================] - 201s 69ms/step - loss: 0.0138 - acc: 0.9894 - val_loss: 2.6679 - val_acc: 0.7203\n",
      "\n",
      "Epoch 00095: saving model to /mnt/DATA-SSD/DataSandbox/model_2_0095.h5\n",
      "Epoch 96/100\n",
      "2929/2929 [==============================] - 201s 68ms/step - loss: 0.0135 - acc: 0.9898 - val_loss: 2.6884 - val_acc: 0.7271\n",
      "\n",
      "Epoch 00096: saving model to /mnt/DATA-SSD/DataSandbox/model_2_0096.h5\n",
      "Epoch 97/100\n",
      "2929/2929 [==============================] - 201s 68ms/step - loss: 0.0134 - acc: 0.9898 - val_loss: 2.7640 - val_acc: 0.7190\n",
      "\n",
      "Epoch 00097: saving model to /mnt/DATA-SSD/DataSandbox/model_2_0097.h5\n",
      "Epoch 98/100\n",
      "2929/2929 [==============================] - 201s 69ms/step - loss: 0.0152 - acc: 0.9867 - val_loss: 2.7406 - val_acc: 0.7231\n",
      "\n",
      "Epoch 00098: saving model to /mnt/DATA-SSD/DataSandbox/model_2_0098.h5\n",
      "Epoch 99/100\n",
      "2929/2929 [==============================] - 201s 68ms/step - loss: 0.1000 - acc: 0.9686 - val_loss: 2.5937 - val_acc: 0.7121\n",
      "\n",
      "Epoch 00099: saving model to /mnt/DATA-SSD/DataSandbox/model_2_0099.h5\n",
      "Epoch 100/100\n",
      "2929/2929 [==============================] - 201s 69ms/step - loss: 0.0437 - acc: 0.9812 - val_loss: 2.7551 - val_acc: 0.7149\n",
      "\n",
      "Epoch 00100: saving model to /mnt/DATA-SSD/DataSandbox/model_2_0100.h5\n"
     ]
    }
   ],
   "source": [
    "# extra training\n",
    "model_file = \"/mnt/DATA-SSD/DataSandbox/model_2_{epoch:04d}.h5\"\n",
    "train_history = model.fit(train_X, train_Y,\n",
    "                          batch_size = 10,\n",
    "                          epochs=100,\n",
    "                          verbose=1,\n",
    "                          validation_data = (valid_X, valid_Y),\n",
    "                          callbacks = [tf.keras.callbacks.ModelCheckpoint(model_file, verbose=1)])\n"
   ]
  },
  {
   "cell_type": "code",
   "execution_count": 29,
   "metadata": {},
   "outputs": [
    {
     "data": {
      "image/png": "[encoded data removed]",
      "text/plain": [
       "<Figure size 432x288 with 1 Axes>"
      ]
     },
     "metadata": {
      "needs_background": "light"
     },
     "output_type": "display_data"
    },
    {
     "data": {
      "image/png": "[encoded data removed]",
      "text/plain": [
       "<Figure size 432x288 with 1 Axes>"
      ]
     },
     "metadata": {
      "needs_background": "light"
     },
     "output_type": "display_data"
    }
   ],
   "source": [
    "# summarize history for accuracy\n",
    "plt.plot(train_history.history['acc'])\n",
    "plt.plot(train_history.history['val_acc'])\n",
    "plt.title('model accuracy')\n",
    "plt.ylabel('accuracy')\n",
    "plt.xlabel('epoch')\n",
    "plt.legend(['train', 'test'], loc='upper left')\n",
    "plt.show()\n",
    "# summarize history for loss\n",
    "plt.plot(train_history.history['loss'])\n",
    "plt.plot(train_history.history['val_loss'])\n",
    "plt.title('model loss')\n",
    "plt.ylabel('loss')\n",
    "plt.xlabel('epoch')\n",
    "plt.legend(['train', 'test'], loc='upper left')\n",
    "plt.show()"
   ]
  },
  {
   "cell_type": "code",
   "execution_count": 31,
   "metadata": {},
   "outputs": [
    {
     "name": "stdout",
     "output_type": "stream",
     "text": [
      "3662/3662 [==============================] - 55s 15ms/step\n"
     ]
    },
    {
     "data": {
      "text/plain": [
       "[0.5653299581203411, 0.9358274167447322]"
      ]
     },
     "execution_count": 31,
     "metadata": {},
     "output_type": "execute_result"
    }
   ],
   "source": [
    "model.evaluate(x=X, y=Y)"
   ]
  },
  {
   "cell_type": "code",
   "execution_count": 43,
   "metadata": {},
   "outputs": [
    {
     "data": {
      "text/plain": [
       "[           id_code  diagnosis\n",
       " 1361  5ead17e894ae          0,            id_code  diagnosis\n",
       " 3305  e580676516b0          1,           id_code  diagnosis\n",
       " 520  2532613a584a          2,            id_code  diagnosis\n",
       " 2200  9a94e0316ee3          3,          id_code  diagnosis\n",
       " 88  07122e268a1d          4]"
      ]
     },
     "execution_count": 43,
     "metadata": {},
     "output_type": "execute_result"
    }
   ],
   "source": [
    "# Choose 2 pairs of 5 random images one for each different diagnosis value\n",
    "\n",
    "image_list = []\n",
    "for class_id in sorted(train_y.unique()):\n",
    "    image_list.append(df_train.loc[df_train['diagnosis'] == class_id].sample(1, random_state=SEED))\n",
    "\n",
    "image_list"
   ]
  },
  {
   "cell_type": "code",
   "execution_count": 44,
   "metadata": {},
   "outputs": [
    {
     "data": {
      "text/plain": [
       "{'5ead17e894ae': [0, array([[1., 0., 0., 0., 0.]], dtype=float32)],\n",
       " 'e580676516b0': [1, array([[0., 1., 0., 0., 0.]], dtype=float32)],\n",
       " '2532613a584a': [2, array([[0., 0., 1., 0., 0.]], dtype=float32)],\n",
       " '9a94e0316ee3': [3,\n",
       "  array([[0.0000000e+00, 1.9314864e-17, 1.0000000e+00, 0.0000000e+00,\n",
       "          0.0000000e+00]], dtype=float32)],\n",
       " '07122e268a1d': [4, array([[0., 0., 0., 0., 1.]], dtype=float32)]}"
      ]
     },
     "execution_count": 44,
     "metadata": {},
     "output_type": "execute_result"
    }
   ],
   "source": [
    "predict2 = {}\n",
    "\n",
    "for image_data in image_list:\n",
    "    path=f\"{DATA_PATH}/processed_train_images/{image_data.iloc[0][0]}.png\"\n",
    "    img = image.load_img(path, grayscale=True,target_size=(width,height,1))\n",
    "    img = image.img_to_array(img)\n",
    "    img = img.reshape(1,width,height,1)\n",
    "\n",
    "    predict2[image_data.iloc[0][0]] = [image_data.iloc[0][1], model.predict(img)]\n",
    "    \n",
    "predict"
   ]
  },
  {
   "cell_type": "code",
   "execution_count": 54,
   "metadata": {},
   "outputs": [],
   "source": [
    "results_train = {}\n",
    "for i in df_train.iterrows():\n",
    "    path=f\"{DATA_PATH}/processed_train_images/{i[1][0]}.png\"\n",
    "    img = image.load_img(path, grayscale=True,target_size=(width,height,1))\n",
    "    img = image.img_to_array(img)\n",
    "    img = img.reshape(1,width,height,1)\n",
    "\n",
    "    results_train[i[0]] = [i[1][0], i[1][1], model.predict(img)]\n"
   ]
  },
  {
   "cell_type": "code",
   "execution_count": 55,
   "metadata": {},
   "outputs": [],
   "source": [
    "results_df = pd.DataFrame.from_dict(results_train, \n",
    "                                    orient='index', \n",
    "                                    columns=['imge_id', 'diagnoses', 'prediction'])"
   ]
  },
  {
   "cell_type": "code",
   "execution_count": 95,
   "metadata": {},
   "outputs": [],
   "source": [
    "def diagnoses_from_list(row):\n",
    "    n = 0.0\n",
    "    diagnoses = 0.0\n",
    "    for i in row[0]:\n",
    "        diagnoses += i*n\n",
    "        n += 1.0\n",
    "    return int(diagnoses)"
   ]
  },
  {
   "cell_type": "code",
   "execution_count": 99,
   "metadata": {},
   "outputs": [
    {
     "data": {
      "text/plain": [
       "imge_id                000c1434d8d7001639a390f00024cdab0c1e002c21358c...\n",
       "diagnoses                                                           4127\n",
       "prediction             [[1781.1736, 314.36664, 1078.1989, 133.97585, ...\n",
       "predicted_diagnoses                                                 4273\n",
       "prediction_error                                                    -146\n",
       "dtype: object"
      ]
     },
     "execution_count": 99,
     "metadata": {},
     "output_type": "execute_result"
    }
   ],
   "source": [
    "# print(results_df.iloc[0][2])\n",
    "# print(diagnoses_from_list(results_df.prediction[0]))\n",
    "results_df['predicted_diagnoses'] = results_df.apply( lambda x: diagnoses_from_list(x.prediction), axis=1)\n",
    "results_df['prediction_error'] = results_df['diagnoses'].sub(results_df['predicted_diagnoses'])\n",
    "results_df.sum(axis=0)\n",
    "# results_df"
   ]
  },
  {
   "cell_type": "code",
   "execution_count": 102,
   "metadata": {},
   "outputs": [],
   "source": [
    "results_test = {}\n",
    "for i in df_test.iterrows():\n",
    "    path=f\"{DATA_PATH}/processed_test_images/{i[1][0]}.png\"\n",
    "    img = image.load_img(path, grayscale=True,target_size=(width,height,1))\n",
    "    img = image.img_to_array(img)\n",
    "    img = img.reshape(1,width,height,1)\n",
    "\n",
    "    results_test[i[0]] = [i[1][0], model.predict(img)]"
   ]
  },
  {
   "cell_type": "code",
   "execution_count": 103,
   "metadata": {},
   "outputs": [],
   "source": [
    "results_test_df = pd.DataFrame.from_dict(results_test, \n",
    "                                    orient='index', \n",
    "                                    columns=['imge_id', 'prediction'])"
   ]
  },
  {
   "cell_type": "code",
   "execution_count": 104,
   "metadata": {},
   "outputs": [],
   "source": [
    "# print(results_df.iloc[0][2])\n",
    "# print(diagnoses_from_list(results_df.prediction[0]))\n",
    "results_test_df['predicted_diagnoses'] = results_test_df.apply( \n",
    "    lambda x: diagnoses_from_list(x.prediction), axis=1)\n",
    "# results_df"
   ]
  },
  {
   "cell_type": "code",
   "execution_count": 106,
   "metadata": {},
   "outputs": [],
   "source": [
    "lt = datetime.datetime.now().strftime(\"%Y%m%d%H%M%S\")\n",
    "results_df.to_pickle(f\"{DATA_PATH}/results_df_{lt}.pkl\")\n",
    "results_df.to_pickle(f\"{DATA_PATH}/results_test_df_{lt}.pkl\")"
   ]
  },
  {
   "cell_type": "code",
   "execution_count": null,
   "metadata": {},
   "outputs": [],
   "source": []
  }
 ],
 "metadata": {
  "kernelspec": {
   "display_name": "Python 3",
   "language": "python",
   "name": "python3"
  },
  "language_info": {
   "codemirror_mode": {
    "name": "ipython",
    "version": 3
   },
   "file_extension": ".py",
   "mimetype": "text/x-python",
   "name": "python",
   "nbconvert_exporter": "python",
   "pygments_lexer": "ipython3",
   "version": "3.7.1"
  }
 },
 "nbformat": 4,
 "nbformat_minor": 1
}
