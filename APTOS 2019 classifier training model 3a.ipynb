{
 "cells": [
  {
   "cell_type": "code",
   "execution_count": 1,
   "metadata": {},
   "outputs": [],
   "source": [
    "from __future__ import absolute_import, division, print_function\n",
    "\n",
    "import tensorflow as tf\n",
    "\n"
   ]
  },
  {
   "cell_type": "code",
   "execution_count": 2,
   "metadata": {},
   "outputs": [
    {
     "name": "stdout",
     "output_type": "stream",
     "text": [
      "GPU found\n"
     ]
    },
    {
     "data": {
      "text/plain": [
       "'1.13.1'"
      ]
     },
     "execution_count": 2,
     "metadata": {},
     "output_type": "execute_result"
    }
   ],
   "source": [
    "# anulo el uso de la GPU por falta de memoria\n",
    "import os, sys\n",
    "os.environ['CUDA_VISIBLE_DEVICES'] = '0' #'-1' for no GPU\n",
    "\n",
    "if tf.test.gpu_device_name():\n",
    "    print('GPU found')\n",
    "else:\n",
    "    print(\"No GPU found\")\n",
    "\n",
    "# No GPU found\n",
    "\n",
    "# tf.enable_eager_execution()\n",
    "tf.VERSION"
   ]
  },
  {
   "cell_type": "code",
   "execution_count": 3,
   "metadata": {
    "_cell_guid": "79c7e3d0-c299-4dcb-8224-4455121ee9b0",
    "_kg_hide-input": true,
    "_uuid": "d629ff2d2480ee46fbb7e2d37f6b5fab8052498a",
    "scrolled": true
   },
   "outputs": [
    {
     "name": "stderr",
     "output_type": "stream",
     "text": [
      "Using TensorFlow backend.\n"
     ]
    }
   ],
   "source": [
    "import numpy as np\n",
    "import pandas as pd\n",
    "import matplotlib.pyplot as plt\n",
    "import skimage.io\n",
    "from skimage.transform import resize\n",
    "from imgaug import augmenters as iaa\n",
    "from tqdm import tqdm\n",
    "import PIL\n",
    "from PIL import Image, ImageOps\n",
    "import cv2\n",
    "\n",
    "from sklearn.utils import class_weight, shuffle\n",
    "from keras.losses import binary_crossentropy\n",
    "from keras.applications.resnet50 import preprocess_input\n",
    "from keras.preprocessing import image\n",
    "from keras.models import Sequential\n",
    "from keras.layers import InputLayer\n",
    "from keras.layers import Dense\n",
    "from keras.layers import Conv2D\n",
    "from keras.layers import MaxPooling2D\n",
    "from keras.layers import Flatten\n",
    "import keras.backend as K\n",
    "\n",
    "from sklearn.metrics import f1_score, fbeta_score\n",
    "from keras.utils import Sequence\n",
    "from keras.utils import to_categorical\n",
    "from sklearn.model_selection import train_test_split\n",
    "\n",
    "WORKERS = 2\n",
    "CHANNEL = 3\n",
    "\n",
    "import warnings\n",
    "warnings.filterwarnings(\"ignore\")\n",
    "IMG_SIZE = 512\n",
    "NUM_CLASSES = 5\n",
    "SEED = 77\n",
    "TRAIN_NUM = 1000 # use 1000 when you just want to explore new idea, use -1 for full train\n",
    "\n",
    "\n",
    "DATA_PATH = \"data\""
   ]
  },
  {
   "cell_type": "code",
   "execution_count": 4,
   "metadata": {
    "_cell_guid": "b1076dfc-b9ad-4769-8c92-a6c4dae69d19",
    "_kg_hide-input": true,
    "_uuid": "8f2839f25d086af736a60e9eeb907d3b93b6e0e5",
    "scrolled": false
   },
   "outputs": [
    {
     "name": "stdout",
     "output_type": "stream",
     "text": [
      "['results_df_20190710232755.pkl', 'results_test_df_20190710232755.pkl', 'processed_train_images', 'results_df_20190711090031.pkl', 'results_test_models_df_20190711111832.pkl', 'results_test_df_20190712001832.pkl', 'train.csv', 'results_df.pkl', 'train_images', 'test.csv', 'test_images', 'results_test_df_20190711090031.pkl', 'processed_test_images', 'results_test_df.pkl', 'sample_submission.csv', 'results_df_20190712001832.pkl', 'results_test_model2_df_20190711111855.pkl', 'results_test_model2_df_20190712083607.pkl']\n"
     ]
    }
   ],
   "source": [
    "import os\n",
    "print(os.listdir(\"data\"))"
   ]
  },
  {
   "cell_type": "code",
   "execution_count": 5,
   "metadata": {},
   "outputs": [
    {
     "name": "stdout",
     "output_type": "stream",
     "text": [
      "[name: \"/device:CPU:0\"\n",
      "device_type: \"CPU\"\n",
      "memory_limit: 268435456\n",
      "locality {\n",
      "}\n",
      "incarnation: 14890473302596797524\n",
      ", name: \"/device:XLA_CPU:0\"\n",
      "device_type: \"XLA_CPU\"\n",
      "memory_limit: 17179869184\n",
      "locality {\n",
      "}\n",
      "incarnation: 6588522607690001958\n",
      "physical_device_desc: \"device: XLA_CPU device\"\n",
      ", name: \"/device:XLA_GPU:0\"\n",
      "device_type: \"XLA_GPU\"\n",
      "memory_limit: 17179869184\n",
      "locality {\n",
      "}\n",
      "incarnation: 14060119475075959634\n",
      "physical_device_desc: \"device: XLA_GPU device\"\n",
      ", name: \"/device:GPU:0\"\n",
      "device_type: \"GPU\"\n",
      "memory_limit: 7286256436\n",
      "locality {\n",
      "  bus_id: 1\n",
      "  links {\n",
      "  }\n",
      "}\n",
      "incarnation: 7808360314913263457\n",
      "physical_device_desc: \"device: 0, name: GeForce GTX 1080, pci bus id: 0000:01:00.0, compute capability: 6.1\"\n",
      "]\n"
     ]
    }
   ],
   "source": [
    "from tensorflow.python.client import device_lib\n",
    "print(device_lib.list_local_devices())"
   ]
  },
  {
   "cell_type": "markdown",
   "metadata": {},
   "source": [
    "# 1. Introduction. Explore first, train later.\n",
    "\n",
    "Hi everyone! As *Aravind Eye Hospital* is one of my favorite organization in the world; they take care of poor people's eyes for free with an impressive sustainable business model.  I will try my best to contribute something to our community. One intuitive way to improve the performance of our model is to simply improve the quality of input images. In this kernel, I will share two ideas which I hope may be useful to some of you : \n",
    "\n",
    "- **Decolorize images** : here as we will see, images come with many different lighting conditions, some images are quite dark and difficult to visualize. We can try to convert the image to gray scale, and visualize better. Alternatively, we can try the method of [Ben Graham (last competition's winner)](https://github.com/btgraham/SparseConvNet/tree/kaggle_Diabetic_Retinopathy_competition)\n",
    "- **Cropping uninformative area** : everyone know this :) Here, I just find the codes from internet and choose the best one for you :)\n",
    "\n",
    "We are going to apply both techniques to both the official data, and the past competition data (shout out @tanlikesmath for creating this dataset! https://www.kaggle.com/tanlikesmath/diabetic-retinopathy-resized . In the updated version, I also try @donkeys' dataset https://www.kaggle.com/donkeys/retinopathy-train-2015 , which is .png which may be have higer image quality than .jpeg format)\n",
    "\n",
    "If I found more useful tricks, I will update the notebook, or if you have more useful tricks and would love to share, please let me know!\n",
    "\n",
    "I use some parts of codes from @mathormad and @artgor kernels. Thanks both of you!"
   ]
  },
  {
   "cell_type": "markdown",
   "metadata": {},
   "source": [
    "Now let us start by loading the train/test dataframes. The `train_test_split` here is in fact not necessary. But when I first fork the kernel from @mathormad, I found some interesting examples using this split and the current `SEED`, so I continue to use them here."
   ]
  },
  {
   "cell_type": "code",
   "execution_count": 6,
   "metadata": {
    "scrolled": false
   },
   "outputs": [],
   "source": [
    "df_train = pd.read_csv(DATA_PATH + '/train.csv')\n",
    "df_test = pd.read_csv(DATA_PATH + '/test.csv')\n",
    "\n",
    "x = df_train['id_code']\n",
    "y = df_train['diagnosis']\n",
    "\n",
    "x, y = shuffle(x, y, random_state=SEED)\n"
   ]
  },
  {
   "cell_type": "code",
   "execution_count": 7,
   "metadata": {
    "scrolled": false
   },
   "outputs": [
    {
     "name": "stdout",
     "output_type": "stream",
     "text": [
      "(3662,) (3662,)\n",
      "000c1434d8d7 2\n"
     ]
    },
    {
     "data": {
      "text/plain": [
       "<matplotlib.axes._subplots.AxesSubplot at 0x7fa7c7c04b00>"
      ]
     },
     "execution_count": 7,
     "metadata": {},
     "output_type": "execute_result"
    },
    {
     "data": {
      "image/png": "[encoded data removed]",
      "text/plain": [
       "<Figure size 432x288 with 1 Axes>"
      ]
     },
     "metadata": {
      "needs_background": "light"
     },
     "output_type": "display_data"
    }
   ],
   "source": [
    "print(x.shape,  y.shape)\n",
    "print(x[0],y[0])\n",
    "y.hist()"
   ]
  },
  {
   "cell_type": "code",
   "execution_count": 8,
   "metadata": {},
   "outputs": [
    {
     "name": "stdout",
     "output_type": "stream",
     "text": [
      "           id_code\n",
      "diagnosis         \n",
      "0             1805\n",
      "1              370\n",
      "2              999\n",
      "3              193\n",
      "4              295\n"
     ]
    }
   ],
   "source": [
    "print(df_train.groupby('diagnosis').count())"
   ]
  },
  {
   "cell_type": "code",
   "execution_count": 9,
   "metadata": {},
   "outputs": [
    {
     "name": "stdout",
     "output_type": "stream",
     "text": [
      "(1708, 2)\n"
     ]
    }
   ],
   "source": [
    "num_images_list = [450, 370, 400, 193, 295]\n",
    "\n",
    "counters = [0,0,0,0,0]\n",
    "\n",
    "\n",
    "\n",
    "for i, row in df_train.iterrows():\n",
    "    if counters[row[1]] >= num_images_list[row[1]]:\n",
    "        df_train = df_train.drop(i, axis=0)\n",
    "    else:\n",
    "        counters[row[1]] += 1\n",
    "\n",
    "print(df_train.shape)\n",
    "        \n",
    "x1 = df_train['id_code']\n",
    "y1 = df_train['diagnosis']\n",
    "\n",
    "x1, y1 = shuffle(x1, y1, random_state=SEED)"
   ]
  },
  {
   "cell_type": "code",
   "execution_count": 10,
   "metadata": {},
   "outputs": [
    {
     "data": {
      "text/plain": [
       "<matplotlib.axes._subplots.AxesSubplot at 0x7fa7c7be4a20>"
      ]
     },
     "execution_count": 10,
     "metadata": {},
     "output_type": "execute_result"
    },
    {
     "data": {
      "image/png": "[encoded data removed]",
      "text/plain": [
       "<Figure size 432x288 with 1 Axes>"
      ]
     },
     "metadata": {
      "needs_background": "light"
     },
     "output_type": "display_data"
    }
   ],
   "source": [
    "y1.hist()"
   ]
  },
  {
   "cell_type": "code",
   "execution_count": 11,
   "metadata": {},
   "outputs": [
    {
     "name": "stdout",
     "output_type": "stream",
     "text": [
      "1708\n"
     ]
    }
   ],
   "source": [
    "num_images = len(x1)\n",
    "print(num_images)"
   ]
  },
  {
   "cell_type": "markdown",
   "metadata": {},
   "source": [
    "## 1.1 Simple picture to explain Diabetic Retinopathy\n",
    "\n",
    "How do we know that a patient have diabetic retinopahy? There are 5 things to spot on. Image credit https://www.eyeops.com/\n",
    "![credit : https://www.eyeops.com/](https://sa1s3optim.patientpop.com/assets/images/provider/photos/1947516.jpeg)"
   ]
  },
  {
   "cell_type": "markdown",
   "metadata": {},
   "source": [
    "From quick investigations of the data (see various pictures below), I found that *Hemorrphages, Hard Exudates and Cotton Wool spots* are quite easily observed. However, I still could not find examples of *Aneurysm* or *Abnormal Growth of Blood Vessels* from our data yet. Perhaps the latter two cases are important if we want to catch up human benchmnark using our model."
   ]
  },
  {
   "cell_type": "markdown",
   "metadata": {},
   "source": [
    "## Process Images"
   ]
  },
  {
   "cell_type": "code",
   "execution_count": 12,
   "metadata": {},
   "outputs": [],
   "source": [
    "def crop_image1(img,tol=8):\n",
    "    # img is image data\n",
    "    # tol  is tolerance\n",
    "        \n",
    "    mask = img>tol\n",
    "    return img[np.ix_(mask.any(1),mask.any(0))]\n"
   ]
  },
  {
   "cell_type": "code",
   "execution_count": 13,
   "metadata": {},
   "outputs": [],
   "source": [
    "def enhance(image, clip_limit=3, Crop = True, size=(400,500)):\n",
    "    # convert image to LAB color model\n",
    "    \n",
    "    image_lab = cv2.cvtColor(image, cv2.COLOR_BGR2LAB)\n",
    "\n",
    "    # split the image into L, A, and B channels\n",
    "    l_channel, a_channel, b_channel = cv2.split(image_lab)\n",
    "\n",
    "    # apply CLAHE to lightness channel\n",
    "    clahe = cv2.createCLAHE(clipLimit=clip_limit, tileGridSize=(8, 8))\n",
    "    cl = clahe.apply(l_channel)\n",
    "\n",
    "    # merge the CLAHE enhanced L channel with the original A and B channel\n",
    "    merged_channels = cv2.merge((cl, a_channel, b_channel))\n",
    "\n",
    "    # convert iamge from LAB color model back to RGB color model\n",
    "    image = cv2.cvtColor(merged_channels, cv2.COLOR_LAB2BGR)\n",
    "    image_gray = cv2.cvtColor(image, cv2.COLOR_BGR2GRAY)\n",
    "    \n",
    "    # Auto Crop image\n",
    "    cropped_image = crop_image1(image_gray, 8)\n",
    "    \n",
    "    # resize image\n",
    "    resized_image = cv2.resize(cropped_image, size)\n",
    "    # Include Ben Graham preprocessing (-4 value)\n",
    "    if Crop:\n",
    "        final_image=cv2.addWeighted ( resized_image,4, \n",
    "                                     cv2.GaussianBlur( resized_image , (0,0) , IMG_SIZE/10) ,-4 ,128)\n",
    "        return final_image\n",
    "    else:\n",
    "        return resized_image"
   ]
  },
  {
   "cell_type": "code",
   "execution_count": 14,
   "metadata": {
    "scrolled": false
   },
   "outputs": [
    {
     "name": "stderr",
     "output_type": "stream",
     "text": [
      "100%|██████████| 1708/1708 [05:55<00:00,  5.18it/s]\n"
     ]
    }
   ],
   "source": [
    "import tqdm\n",
    "\n",
    "# Aquí transcribimos las imágenes a un fichero tipo TFRECORD de tamaño\n",
    "# el primer modelo usaba imágenes de 100x125\n",
    "width = 400\n",
    "height = 500\n",
    "\n",
    "size = (width,height)\n",
    "image_x = []\n",
    "\n",
    "for i in tqdm.tqdm(x1):\n",
    "    path=f\"/mnt/DATA-SSD/DataSandbox/APTOS/train_images/{i}.png\"\n",
    "    image = cv2.imread(path)\n",
    "    enhanced_image = enhance(image,2, True, size)\n",
    "    # img = image.img_to_array(enhanced_image)\n",
    "    img = enhanced_image.reshape((width, height, 1))/255\n",
    "    image_x.append(img)\n",
    "\n",
    "X = np.array(image_x)\n",
    "\n",
    "Y = to_categorical(y1)\n",
    "\n"
   ]
  },
  {
   "cell_type": "code",
   "execution_count": 15,
   "metadata": {},
   "outputs": [
    {
     "name": "stdout",
     "output_type": "stream",
     "text": [
      "3662 (1708, 400, 500, 1)\n",
      "1708 (1708, 5)\n"
     ]
    }
   ],
   "source": [
    "print(len(x), X.shape)\n",
    "print(len(Y), Y.shape)"
   ]
  },
  {
   "cell_type": "markdown",
   "metadata": {},
   "source": [
    "# The Model\n",
    "## inspired in real life\n",
    "\n",
    "help obtained from\n",
    "https://machinelearningmastery.com/keras-functional-api-deep-learning/\n"
   ]
  },
  {
   "cell_type": "code",
   "execution_count": 22,
   "metadata": {},
   "outputs": [
    {
     "name": "stdout",
     "output_type": "stream",
     "text": [
      "input_layer:  (?, 400, 500, 1)\n",
      "layer:  (?, 396, 496, 200)\n",
      "layer:  (?, 79, 99, 200)\n",
      "layer:  (?, 78, 98, 200)\n",
      "layer:  (?, 39, 49, 200)\n",
      "layer:  (?, 38, 48, 100)\n",
      "layer:  (?, 19, 24, 100)\n",
      "layer:  (?, 18, 23, 100)\n",
      "layer:  (?, 9, 11, 100)\n",
      "layer:  (?, 9900)\n",
      "layer:  (?, 50)\n",
      "output_layer:  (?, 5)\n"
     ]
    }
   ],
   "source": [
    "# ---------------------\n",
    "# OPTION 1\n",
    "# ---------------------\n",
    "''' '''\n",
    "\n",
    "input_layer = tf.keras.Input(shape=(width,height,1))\n",
    "print('input_layer: ', input_layer.shape)\n",
    "\n",
    "layer01 = tf.keras.layers.Conv2D(200, kernel_size=(5, 5), activation='relu')(input_layer)\n",
    "print('layer: ', layer01.shape)\n",
    "\n",
    "layer02 = tf.keras.layers.MaxPooling2D(pool_size=(5, 5))(layer01)\n",
    "print('layer: ', layer02.shape)\n",
    "\n",
    "layer03 = tf.keras.layers.Conv2D(200, kernel_size=(2, 2), activation='relu')(layer02)\n",
    "print('layer: ', layer03.shape)\n",
    "\n",
    "layer04 = tf.keras.layers.MaxPooling2D(pool_size=(2, 2))(layer03)\n",
    "print('layer: ', layer04.shape)\n",
    "\n",
    "layer05 = tf.keras.layers.Conv2D(100, kernel_size=(2, 2), activation='relu')(layer04)\n",
    "print('layer: ', layer05.shape)\n",
    "\n",
    "layer06 = tf.keras.layers.MaxPooling2D(pool_size=(2, 2))(layer05)\n",
    "print('layer: ', layer06.shape)\n",
    "\n",
    "layer07 = tf.keras.layers.Conv2D(100, kernel_size=(2, 2), activation='relu')(layer06)\n",
    "print('layer: ', layer07.shape)\n",
    "\n",
    "layer08 = tf.keras.layers.MaxPooling2D(pool_size=(2, 2))(layer07)\n",
    "print('layer: ', layer08.shape)\n",
    "\n",
    "layer09 = tf.keras.layers.Flatten()(layer08)\n",
    "print('layer: ', layer09.shape)\n",
    "\n",
    "layer10 = tf.keras.layers.Dense(10*NUM_CLASSES, activation='relu')(layer09)\n",
    "print('layer: ', layer10.shape)\n",
    "\n",
    "output_layer = tf.keras.layers.Dense(NUM_CLASSES, activation='softmax')(layer10)\n",
    "print('output_layer: ', output_layer.shape)\n",
    "\n",
    "model = tf.keras.Model(inputs = [input_layer], outputs = [output_layer])\n",
    "\n"
   ]
  },
  {
   "cell_type": "code",
   "execution_count": 23,
   "metadata": {},
   "outputs": [
    {
     "name": "stdout",
     "output_type": "stream",
     "text": [
      "_________________________________________________________________\n",
      "Layer (type)                 Output Shape              Param #   \n",
      "=================================================================\n",
      "input_2 (InputLayer)         (None, 400, 500, 1)       0         \n",
      "_________________________________________________________________\n",
      "conv2d_4 (Conv2D)            (None, 396, 496, 200)     5200      \n",
      "_________________________________________________________________\n",
      "max_pooling2d_4 (MaxPooling2 (None, 79, 99, 200)       0         \n",
      "_________________________________________________________________\n",
      "conv2d_5 (Conv2D)            (None, 78, 98, 200)       160200    \n",
      "_________________________________________________________________\n",
      "max_pooling2d_5 (MaxPooling2 (None, 39, 49, 200)       0         \n",
      "_________________________________________________________________\n",
      "conv2d_6 (Conv2D)            (None, 38, 48, 100)       80100     \n",
      "_________________________________________________________________\n",
      "max_pooling2d_6 (MaxPooling2 (None, 19, 24, 100)       0         \n",
      "_________________________________________________________________\n",
      "conv2d_7 (Conv2D)            (None, 18, 23, 100)       40100     \n",
      "_________________________________________________________________\n",
      "max_pooling2d_7 (MaxPooling2 (None, 9, 11, 100)        0         \n",
      "_________________________________________________________________\n",
      "flatten_1 (Flatten)          (None, 9900)              0         \n",
      "_________________________________________________________________\n",
      "dense_2 (Dense)              (None, 50)                495050    \n",
      "_________________________________________________________________\n",
      "dense_3 (Dense)              (None, 5)                 255       \n",
      "=================================================================\n",
      "Total params: 780,905\n",
      "Trainable params: 780,905\n",
      "Non-trainable params: 0\n",
      "_________________________________________________________________\n",
      "None\n"
     ]
    }
   ],
   "source": [
    "print(model.summary())\n"
   ]
  },
  {
   "cell_type": "code",
   "execution_count": 24,
   "metadata": {},
   "outputs": [],
   "source": [
    "# config = tf.ConfigProto(device_count = {'GPU': 0})\n",
    "# config.gpu_options.allow_growth = True\n",
    "# gpu_options = tf.GPUOptions(allow_growth=True)\n",
    "\n",
    "# session = tf.InteractiveSession(config=tf.ConfigProto(gpu_options=gpu_options))\n"
   ]
  },
  {
   "cell_type": "code",
   "execution_count": 25,
   "metadata": {},
   "outputs": [],
   "source": [
    "# run_opts = tf.RunOptions(report_tensor_allocations_upon_oom = True)"
   ]
  },
  {
   "cell_type": "code",
   "execution_count": 26,
   "metadata": {},
   "outputs": [],
   "source": [
    "model.compile(loss='categorical_crossentropy',\n",
    "              optimizer='Adam',\n",
    "              metrics=['accuracy'])"
   ]
  },
  {
   "cell_type": "code",
   "execution_count": null,
   "metadata": {},
   "outputs": [
    {
     "name": "stdout",
     "output_type": "stream",
     "text": [
      "Epoch 1/1000\n",
      "1708/1708 [==============================] - 29s 17ms/sample - loss: 1.4290 - acc: 0.3876\n",
      "Epoch 2/1000\n",
      "1708/1708 [==============================] - 28s 16ms/sample - loss: 1.1976 - acc: 0.5129\n",
      "Epoch 3/1000\n",
      "1708/1708 [==============================] - 28s 17ms/sample - loss: 1.1590 - acc: 0.5310\n",
      "Epoch 4/1000\n",
      "1708/1708 [==============================] - 28s 17ms/sample - loss: 1.1340 - acc: 0.5340\n",
      "Epoch 5/1000\n",
      "1708/1708 [==============================] - 28s 17ms/sample - loss: 1.0974 - acc: 0.5544\n",
      "Epoch 6/1000\n",
      "1708/1708 [==============================] - 28s 16ms/sample - loss: 1.0990 - acc: 0.5597\n",
      "Epoch 7/1000\n",
      "1708/1708 [==============================] - 28s 17ms/sample - loss: 1.0603 - acc: 0.5855\n",
      "Epoch 8/1000\n",
      "1708/1708 [==============================] - 27s 16ms/sample - loss: 1.0330 - acc: 0.5796\n",
      "Epoch 9/1000\n",
      "1708/1708 [==============================] - 27s 16ms/sample - loss: 1.0074 - acc: 0.5785\n",
      "Epoch 10/1000\n",
      "1700/1708 [============================>.] - ETA: 0s - loss: 0.9589 - acc: 0.6176\n",
      "Epoch 00010: saving model to /mnt/DATA-SSD/DataSandbox/APTOS/model_20190713105126_0010.h5\n",
      "1708/1708 [==============================] - 27s 16ms/sample - loss: 0.9587 - acc: 0.6177\n",
      "Epoch 11/1000\n",
      "1708/1708 [==============================] - 27s 16ms/sample - loss: 0.9293 - acc: 0.6206\n",
      "Epoch 12/1000\n",
      "1708/1708 [==============================] - 27s 16ms/sample - loss: 0.8721 - acc: 0.6440\n",
      "Epoch 13/1000\n",
      "1708/1708 [==============================] - 27s 16ms/sample - loss: 0.8226 - acc: 0.6745\n",
      "Epoch 14/1000\n",
      "1708/1708 [==============================] - 27s 16ms/sample - loss: 0.7882 - acc: 0.6909\n",
      "Epoch 15/1000\n",
      "1708/1708 [==============================] - 27s 16ms/sample - loss: 0.7544 - acc: 0.7008\n",
      "Epoch 16/1000\n",
      "1708/1708 [==============================] - 27s 16ms/sample - loss: 0.7053 - acc: 0.7278\n",
      "Epoch 17/1000\n",
      "1708/1708 [==============================] - 27s 16ms/sample - loss: 0.6499 - acc: 0.7436\n",
      "Epoch 18/1000\n",
      "1708/1708 [==============================] - 27s 16ms/sample - loss: 0.6337 - acc: 0.7494\n",
      "Epoch 19/1000\n",
      "1708/1708 [==============================] - 27s 16ms/sample - loss: 0.5807 - acc: 0.7711\n",
      "Epoch 20/1000\n",
      "1700/1708 [============================>.] - ETA: 0s - loss: 0.5342 - acc: 0.7918\n",
      "Epoch 00020: saving model to /mnt/DATA-SSD/DataSandbox/APTOS/model_20190713105126_0020.h5\n",
      "1708/1708 [==============================] - 27s 16ms/sample - loss: 0.5345 - acc: 0.7922\n",
      "Epoch 21/1000\n",
      "1708/1708 [==============================] - 27s 16ms/sample - loss: 0.5118 - acc: 0.8074\n",
      "Epoch 22/1000\n",
      "1708/1708 [==============================] - 27s 16ms/sample - loss: 0.4639 - acc: 0.8226\n",
      "Epoch 23/1000\n",
      "1708/1708 [==============================] - 27s 16ms/sample - loss: 0.4012 - acc: 0.8566\n",
      "Epoch 24/1000\n",
      "1708/1708 [==============================] - 27s 16ms/sample - loss: 0.3690 - acc: 0.8624\n",
      "Epoch 25/1000\n",
      "1708/1708 [==============================] - 27s 16ms/sample - loss: 0.3642 - acc: 0.8583\n",
      "Epoch 26/1000\n",
      "1708/1708 [==============================] - 27s 16ms/sample - loss: 0.3283 - acc: 0.8876\n",
      "Epoch 27/1000\n",
      "1708/1708 [==============================] - 27s 16ms/sample - loss: 0.2883 - acc: 0.8917\n",
      "Epoch 28/1000\n",
      "1708/1708 [==============================] - 27s 16ms/sample - loss: 0.2728 - acc: 0.8934\n",
      "Epoch 29/1000\n",
      "1708/1708 [==============================] - 27s 16ms/sample - loss: 0.2415 - acc: 0.9081\n",
      "Epoch 30/1000\n",
      "1700/1708 [============================>.] - ETA: 0s - loss: 0.2572 - acc: 0.9041\n",
      "Epoch 00030: saving model to /mnt/DATA-SSD/DataSandbox/APTOS/model_20190713105126_0030.h5\n",
      "1708/1708 [==============================] - 27s 16ms/sample - loss: 0.2564 - acc: 0.9046\n",
      "Epoch 31/1000\n",
      "1708/1708 [==============================] - 28s 16ms/sample - loss: 0.1891 - acc: 0.9385\n",
      "Epoch 32/1000\n",
      "1708/1708 [==============================] - 29s 17ms/sample - loss: 0.1871 - acc: 0.9362\n",
      "Epoch 33/1000\n",
      "1708/1708 [==============================] - 29s 17ms/sample - loss: 0.2337 - acc: 0.9139\n",
      "Epoch 34/1000\n",
      "1708/1708 [==============================] - 28s 17ms/sample - loss: 0.1985 - acc: 0.9303\n",
      "Epoch 35/1000\n",
      "1708/1708 [==============================] - 28s 17ms/sample - loss: 0.1872 - acc: 0.9362\n",
      "Epoch 36/1000\n",
      "1708/1708 [==============================] - 28s 17ms/sample - loss: 0.1966 - acc: 0.9297\n",
      "Epoch 37/1000\n",
      "1708/1708 [==============================] - 28s 17ms/sample - loss: 0.1635 - acc: 0.9426\n",
      "Epoch 38/1000\n",
      "1708/1708 [==============================] - 28s 17ms/sample - loss: 0.1836 - acc: 0.9385\n",
      "Epoch 39/1000\n",
      "1708/1708 [==============================] - 28s 17ms/sample - loss: 0.1458 - acc: 0.9496\n",
      "Epoch 40/1000\n",
      "1700/1708 [============================>.] - ETA: 0s - loss: 0.1864 - acc: 0.9282\n",
      "Epoch 00040: saving model to /mnt/DATA-SSD/DataSandbox/APTOS/model_20190713105126_0040.h5\n",
      "1708/1708 [==============================] - 28s 17ms/sample - loss: 0.1867 - acc: 0.9280\n",
      "Epoch 41/1000\n",
      "1708/1708 [==============================] - 28s 16ms/sample - loss: 0.1242 - acc: 0.9655\n",
      "Epoch 42/1000\n",
      "1708/1708 [==============================] - 28s 16ms/sample - loss: 0.1680 - acc: 0.9420\n",
      "Epoch 43/1000\n",
      "1708/1708 [==============================] - 28s 17ms/sample - loss: 0.1562 - acc: 0.9438\n",
      "Epoch 44/1000\n",
      "1708/1708 [==============================] - 29s 17ms/sample - loss: 0.1504 - acc: 0.9520\n",
      "Epoch 45/1000\n",
      "1708/1708 [==============================] - 29s 17ms/sample - loss: 0.1289 - acc: 0.9555\n",
      "Epoch 46/1000\n",
      "1708/1708 [==============================] - 29s 17ms/sample - loss: 0.1375 - acc: 0.9485\n",
      "Epoch 47/1000\n",
      "1708/1708 [==============================] - 30s 17ms/sample - loss: 0.0884 - acc: 0.9725\n",
      "Epoch 48/1000\n",
      "1708/1708 [==============================] - 30s 18ms/sample - loss: 0.1043 - acc: 0.9696\n",
      "Epoch 49/1000\n",
      "1708/1708 [==============================] - 29s 17ms/sample - loss: 0.1252 - acc: 0.9608\n",
      "Epoch 50/1000\n",
      "1700/1708 [============================>.] - ETA: 0s - loss: 0.1375 - acc: 0.9594\n",
      "Epoch 00050: saving model to /mnt/DATA-SSD/DataSandbox/APTOS/model_20190713105126_0050.h5\n",
      "1708/1708 [==============================] - 29s 17ms/sample - loss: 0.1372 - acc: 0.9596\n",
      "Epoch 51/1000\n",
      "1708/1708 [==============================] - 28s 17ms/sample - loss: 0.1956 - acc: 0.9379\n",
      "Epoch 52/1000\n",
      "1708/1708 [==============================] - 28s 17ms/sample - loss: 0.0991 - acc: 0.9655\n",
      "Epoch 53/1000\n",
      "1708/1708 [==============================] - 29s 17ms/sample - loss: 0.1092 - acc: 0.9631\n",
      "Epoch 54/1000\n",
      "1708/1708 [==============================] - 28s 17ms/sample - loss: 0.0824 - acc: 0.9737\n",
      "Epoch 55/1000\n",
      "1708/1708 [==============================] - 29s 17ms/sample - loss: 0.0949 - acc: 0.9707\n",
      "Epoch 56/1000\n",
      "1708/1708 [==============================] - 29s 17ms/sample - loss: 0.0695 - acc: 0.9760\n",
      "Epoch 57/1000\n",
      "1708/1708 [==============================] - 29s 17ms/sample - loss: 0.1676 - acc: 0.9409\n",
      "Epoch 58/1000\n",
      "1708/1708 [==============================] - 28s 17ms/sample - loss: 0.1237 - acc: 0.9602\n",
      "Epoch 59/1000\n",
      "1708/1708 [==============================] - 28s 17ms/sample - loss: 0.0995 - acc: 0.9690\n",
      "Epoch 60/1000\n",
      "1700/1708 [============================>.] - ETA: 0s - loss: 0.0753 - acc: 0.9712\n",
      "Epoch 00060: saving model to /mnt/DATA-SSD/DataSandbox/APTOS/model_20190713105126_0060.h5\n",
      "1708/1708 [==============================] - 29s 17ms/sample - loss: 0.0757 - acc: 0.9707\n",
      "Epoch 61/1000\n",
      "1708/1708 [==============================] - 29s 17ms/sample - loss: 0.1126 - acc: 0.9655\n",
      "Epoch 62/1000\n",
      "1708/1708 [==============================] - 29s 17ms/sample - loss: 0.1259 - acc: 0.9555\n",
      "Epoch 63/1000\n",
      "1708/1708 [==============================] - 29s 17ms/sample - loss: 0.0875 - acc: 0.9707\n",
      "Epoch 64/1000\n",
      "1708/1708 [==============================] - 29s 17ms/sample - loss: 0.0667 - acc: 0.9807\n",
      "Epoch 65/1000\n",
      "1708/1708 [==============================] - 29s 17ms/sample - loss: 0.0522 - acc: 0.9807\n",
      "Epoch 66/1000\n",
      "1708/1708 [==============================] - 29s 17ms/sample - loss: 0.0559 - acc: 0.9772\n",
      "Epoch 67/1000\n",
      "1708/1708 [==============================] - 29s 17ms/sample - loss: 0.0501 - acc: 0.9778\n",
      "Epoch 68/1000\n",
      "1708/1708 [==============================] - 29s 17ms/sample - loss: 0.0935 - acc: 0.9637\n",
      "Epoch 69/1000\n",
      "1708/1708 [==============================] - 29s 17ms/sample - loss: 0.1461 - acc: 0.9479\n"
     ]
    },
    {
     "name": "stdout",
     "output_type": "stream",
     "text": [
      "Epoch 70/1000\n",
      "1700/1708 [============================>.] - ETA: 0s - loss: 0.1168 - acc: 0.9547\n",
      "Epoch 00070: saving model to /mnt/DATA-SSD/DataSandbox/APTOS/model_20190713105126_0070.h5\n",
      "1708/1708 [==============================] - 29s 17ms/sample - loss: 0.1167 - acc: 0.9543\n",
      "Epoch 71/1000\n",
      "1708/1708 [==============================] - 29s 17ms/sample - loss: 0.1298 - acc: 0.9467\n",
      "Epoch 72/1000\n",
      "1708/1708 [==============================] - 29s 17ms/sample - loss: 0.0862 - acc: 0.9660\n",
      "Epoch 73/1000\n",
      "1708/1708 [==============================] - 28s 17ms/sample - loss: 0.0905 - acc: 0.9649\n",
      "Epoch 74/1000\n",
      "1708/1708 [==============================] - 28s 17ms/sample - loss: 0.0885 - acc: 0.9666\n",
      "Epoch 75/1000\n",
      "1708/1708 [==============================] - 29s 17ms/sample - loss: 0.0872 - acc: 0.9678\n",
      "Epoch 76/1000\n",
      "1708/1708 [==============================] - 29s 17ms/sample - loss: 0.0819 - acc: 0.9660\n",
      "Epoch 77/1000\n",
      "1708/1708 [==============================] - 30s 17ms/sample - loss: 0.1131 - acc: 0.9637\n",
      "Epoch 78/1000\n",
      "1708/1708 [==============================] - 29s 17ms/sample - loss: 0.0997 - acc: 0.9614\n",
      "Epoch 79/1000\n",
      "1708/1708 [==============================] - 29s 17ms/sample - loss: 0.1066 - acc: 0.9561\n",
      "Epoch 80/1000\n",
      "1700/1708 [============================>.] - ETA: 0s - loss: 0.0660 - acc: 0.9759\n",
      "Epoch 00080: saving model to /mnt/DATA-SSD/DataSandbox/APTOS/model_20190713105126_0080.h5\n",
      "1708/1708 [==============================] - 29s 17ms/sample - loss: 0.0660 - acc: 0.9760\n",
      "Epoch 81/1000\n",
      "1708/1708 [==============================] - 28s 17ms/sample - loss: 0.0584 - acc: 0.9772\n",
      "Epoch 82/1000\n",
      "1708/1708 [==============================] - 28s 17ms/sample - loss: 0.0547 - acc: 0.9789\n",
      "Epoch 83/1000\n",
      "1708/1708 [==============================] - 28s 16ms/sample - loss: 0.0401 - acc: 0.9813\n",
      "Epoch 84/1000\n",
      "1708/1708 [==============================] - 28s 17ms/sample - loss: 0.0492 - acc: 0.9824\n",
      "Epoch 85/1000\n",
      "1708/1708 [==============================] - 29s 17ms/sample - loss: 0.0481 - acc: 0.9813\n",
      "Epoch 86/1000\n",
      "1708/1708 [==============================] - 29s 17ms/sample - loss: 0.1032 - acc: 0.9614\n",
      "Epoch 87/1000\n",
      "1708/1708 [==============================] - 29s 17ms/sample - loss: 0.0879 - acc: 0.9684\n",
      "Epoch 88/1000\n",
      "1708/1708 [==============================] - 28s 17ms/sample - loss: 0.0849 - acc: 0.9707\n",
      "Epoch 89/1000\n",
      "1708/1708 [==============================] - 28s 17ms/sample - loss: 0.2052 - acc: 0.9303\n",
      "Epoch 90/1000\n",
      "1700/1708 [============================>.] - ETA: 0s - loss: 0.0752 - acc: 0.9724\n",
      "Epoch 00090: saving model to /mnt/DATA-SSD/DataSandbox/APTOS/model_20190713105126_0090.h5\n",
      "1708/1708 [==============================] - 28s 17ms/sample - loss: 0.0753 - acc: 0.9725\n",
      "Epoch 91/1000\n",
      "1708/1708 [==============================] - 29s 17ms/sample - loss: 0.0452 - acc: 0.9848\n",
      "Epoch 92/1000\n",
      "1708/1708 [==============================] - 28s 16ms/sample - loss: 0.0400 - acc: 0.9824\n",
      "Epoch 93/1000\n",
      "1708/1708 [==============================] - 29s 17ms/sample - loss: 0.0460 - acc: 0.9801\n",
      "Epoch 94/1000\n",
      "1708/1708 [==============================] - 29s 17ms/sample - loss: 0.0412 - acc: 0.9830\n",
      "Epoch 95/1000\n",
      "1708/1708 [==============================] - 28s 17ms/sample - loss: 0.0458 - acc: 0.9819\n",
      "Epoch 96/1000\n",
      "1708/1708 [==============================] - 29s 17ms/sample - loss: 0.0412 - acc: 0.9830\n",
      "Epoch 97/1000\n",
      "1708/1708 [==============================] - 28s 17ms/sample - loss: 0.0531 - acc: 0.9783\n",
      "Epoch 98/1000\n",
      "1708/1708 [==============================] - 29s 17ms/sample - loss: 0.0561 - acc: 0.9795\n",
      "Epoch 99/1000\n",
      "1708/1708 [==============================] - 28s 17ms/sample - loss: 0.1095 - acc: 0.9643\n",
      "Epoch 100/1000\n",
      "1700/1708 [============================>.] - ETA: 0s - loss: 0.1605 - acc: 0.9412\n",
      "Epoch 00100: saving model to /mnt/DATA-SSD/DataSandbox/APTOS/model_20190713105126_0100.h5\n",
      "1708/1708 [==============================] - 29s 17ms/sample - loss: 0.1597 - acc: 0.9415\n",
      "Epoch 101/1000\n",
      "1708/1708 [==============================] - 29s 17ms/sample - loss: 0.0973 - acc: 0.9608\n",
      "Epoch 102/1000\n",
      "1708/1708 [==============================] - 29s 17ms/sample - loss: 0.0509 - acc: 0.9789\n",
      "Epoch 103/1000\n",
      "1708/1708 [==============================] - 29s 17ms/sample - loss: 0.0644 - acc: 0.9742\n",
      "Epoch 104/1000\n",
      "1708/1708 [==============================] - 29s 17ms/sample - loss: 0.1366 - acc: 0.9526\n",
      "Epoch 105/1000\n",
      "1708/1708 [==============================] - 29s 17ms/sample - loss: 0.1330 - acc: 0.9549\n",
      "Epoch 106/1000\n",
      "1708/1708 [==============================] - 29s 17ms/sample - loss: 0.0497 - acc: 0.9813\n",
      "Epoch 107/1000\n",
      "1708/1708 [==============================] - 29s 17ms/sample - loss: 0.0445 - acc: 0.9824\n",
      "Epoch 108/1000\n",
      "1708/1708 [==============================] - 29s 17ms/sample - loss: 0.0377 - acc: 0.9830\n",
      "Epoch 109/1000\n",
      "1708/1708 [==============================] - 28s 17ms/sample - loss: 0.0401 - acc: 0.9830\n",
      "Epoch 110/1000\n",
      "1700/1708 [============================>.] - ETA: 0s - loss: 0.0811 - acc: 0.9741\n",
      "Epoch 00110: saving model to /mnt/DATA-SSD/DataSandbox/APTOS/model_20190713105126_0110.h5\n",
      "1708/1708 [==============================] - 29s 17ms/sample - loss: 0.0807 - acc: 0.9742\n",
      "Epoch 111/1000\n",
      "1708/1708 [==============================] - 29s 17ms/sample - loss: 0.0485 - acc: 0.9789\n",
      "Epoch 112/1000\n",
      "1708/1708 [==============================] - 29s 17ms/sample - loss: 0.0438 - acc: 0.9819\n",
      "Epoch 113/1000\n",
      "1708/1708 [==============================] - 29s 17ms/sample - loss: 0.0414 - acc: 0.9830\n",
      "Epoch 114/1000\n",
      "1708/1708 [==============================] - 29s 17ms/sample - loss: 0.1623 - acc: 0.9461\n",
      "Epoch 115/1000\n",
      "1708/1708 [==============================] - 29s 17ms/sample - loss: 0.1246 - acc: 0.9561\n",
      "Epoch 116/1000\n",
      "1708/1708 [==============================] - 29s 17ms/sample - loss: 0.0703 - acc: 0.9742\n",
      "Epoch 117/1000\n",
      "1708/1708 [==============================] - 29s 17ms/sample - loss: 0.0474 - acc: 0.9801\n",
      "Epoch 118/1000\n",
      "1708/1708 [==============================] - 29s 17ms/sample - loss: 0.0450 - acc: 0.9801\n",
      "Epoch 119/1000\n",
      "1708/1708 [==============================] - 28s 17ms/sample - loss: 0.0725 - acc: 0.9713\n",
      "Epoch 120/1000\n",
      "1700/1708 [============================>.] - ETA: 0s - loss: 0.0464 - acc: 0.9829\n",
      "Epoch 00120: saving model to /mnt/DATA-SSD/DataSandbox/APTOS/model_20190713105126_0120.h5\n",
      "1708/1708 [==============================] - 29s 17ms/sample - loss: 0.0462 - acc: 0.9830\n",
      "Epoch 121/1000\n",
      "1708/1708 [==============================] - 29s 17ms/sample - loss: 0.0458 - acc: 0.9836\n",
      "Epoch 122/1000\n",
      "1708/1708 [==============================] - 29s 17ms/sample - loss: 0.0776 - acc: 0.9655\n",
      "Epoch 123/1000\n",
      "1708/1708 [==============================] - 28s 17ms/sample - loss: 0.0544 - acc: 0.9783\n",
      "Epoch 124/1000\n",
      "1708/1708 [==============================] - 29s 17ms/sample - loss: 0.0395 - acc: 0.9801\n",
      "Epoch 125/1000\n",
      "1708/1708 [==============================] - 30s 17ms/sample - loss: 0.0380 - acc: 0.9813\n",
      "Epoch 126/1000\n",
      "1708/1708 [==============================] - 29s 17ms/sample - loss: 0.0604 - acc: 0.9760\n",
      "Epoch 127/1000\n",
      "1708/1708 [==============================] - 29s 17ms/sample - loss: 0.1121 - acc: 0.9637\n",
      "Epoch 128/1000\n",
      "1708/1708 [==============================] - 29s 17ms/sample - loss: 0.0803 - acc: 0.9684\n",
      "Epoch 129/1000\n",
      "1708/1708 [==============================] - 29s 17ms/sample - loss: 0.0493 - acc: 0.9778\n",
      "Epoch 130/1000\n",
      "1700/1708 [============================>.] - ETA: 0s - loss: 0.0712 - acc: 0.9718\n",
      "Epoch 00130: saving model to /mnt/DATA-SSD/DataSandbox/APTOS/model_20190713105126_0130.h5\n",
      "1708/1708 [==============================] - 29s 17ms/sample - loss: 0.0714 - acc: 0.9713\n",
      "Epoch 131/1000\n",
      "1708/1708 [==============================] - 29s 17ms/sample - loss: 0.0707 - acc: 0.9696\n",
      "Epoch 132/1000\n",
      "1708/1708 [==============================] - 29s 17ms/sample - loss: 0.0436 - acc: 0.9842\n",
      "Epoch 133/1000\n",
      "1708/1708 [==============================] - 30s 17ms/sample - loss: 0.0408 - acc: 0.9842\n",
      "Epoch 134/1000\n",
      "1708/1708 [==============================] - 29s 17ms/sample - loss: 0.0398 - acc: 0.9819\n",
      "Epoch 135/1000\n",
      "1708/1708 [==============================] - 29s 17ms/sample - loss: 0.0455 - acc: 0.9789\n",
      "Epoch 136/1000\n"
     ]
    },
    {
     "name": "stdout",
     "output_type": "stream",
     "text": [
      "1708/1708 [==============================] - 29s 17ms/sample - loss: 0.0412 - acc: 0.9830\n",
      "Epoch 137/1000\n",
      "1708/1708 [==============================] - 29s 17ms/sample - loss: 0.0385 - acc: 0.9819\n",
      "Epoch 138/1000\n",
      "1708/1708 [==============================] - 29s 17ms/sample - loss: 0.1384 - acc: 0.9543\n",
      "Epoch 139/1000\n",
      "1708/1708 [==============================] - 29s 17ms/sample - loss: 0.1788 - acc: 0.9374\n",
      "Epoch 140/1000\n",
      "1700/1708 [============================>.] - ETA: 0s - loss: 0.0507 - acc: 0.9800\n",
      "Epoch 00140: saving model to /mnt/DATA-SSD/DataSandbox/APTOS/model_20190713105126_0140.h5\n",
      "1708/1708 [==============================] - 29s 17ms/sample - loss: 0.0504 - acc: 0.9801\n",
      "Epoch 141/1000\n",
      "1708/1708 [==============================] - 29s 17ms/sample - loss: 0.0343 - acc: 0.9830\n",
      "Epoch 142/1000\n",
      "1708/1708 [==============================] - 29s 17ms/sample - loss: 0.0297 - acc: 0.9854\n",
      "Epoch 143/1000\n",
      "1708/1708 [==============================] - 29s 17ms/sample - loss: 0.0398 - acc: 0.9824\n",
      "Epoch 144/1000\n",
      "1708/1708 [==============================] - 29s 17ms/sample - loss: 0.0405 - acc: 0.9819\n",
      "Epoch 145/1000\n",
      "1708/1708 [==============================] - 29s 17ms/sample - loss: 0.0331 - acc: 0.9854\n",
      "Epoch 146/1000\n",
      "1708/1708 [==============================] - 29s 17ms/sample - loss: 0.0362 - acc: 0.9848\n",
      "Epoch 147/1000\n",
      "1708/1708 [==============================] - 29s 17ms/sample - loss: 0.0317 - acc: 0.9836\n",
      "Epoch 148/1000\n",
      "1708/1708 [==============================] - 28s 17ms/sample - loss: 0.0856 - acc: 0.9696\n",
      "Epoch 149/1000\n",
      "1708/1708 [==============================] - 29s 17ms/sample - loss: 0.2113 - acc: 0.9344\n",
      "Epoch 150/1000\n",
      "1700/1708 [============================>.] - ETA: 0s - loss: 0.0602 - acc: 0.9741\n",
      "Epoch 00150: saving model to /mnt/DATA-SSD/DataSandbox/APTOS/model_20190713105126_0150.h5\n",
      "1708/1708 [==============================] - 29s 17ms/sample - loss: 0.0600 - acc: 0.9742\n",
      "Epoch 151/1000\n",
      "1708/1708 [==============================] - 29s 17ms/sample - loss: 0.0671 - acc: 0.9672\n",
      "Epoch 152/1000\n",
      "1708/1708 [==============================] - 28s 17ms/sample - loss: 0.0646 - acc: 0.9737\n",
      "Epoch 153/1000\n",
      "1708/1708 [==============================] - 28s 17ms/sample - loss: 0.0403 - acc: 0.9830\n",
      "Epoch 154/1000\n",
      "1708/1708 [==============================] - 29s 17ms/sample - loss: 0.0371 - acc: 0.9813\n",
      "Epoch 155/1000\n",
      "1708/1708 [==============================] - 29s 17ms/sample - loss: 0.0373 - acc: 0.9848\n",
      "Epoch 156/1000\n",
      "1708/1708 [==============================] - 29s 17ms/sample - loss: 0.0358 - acc: 0.9813\n",
      "Epoch 157/1000\n",
      "1708/1708 [==============================] - 29s 17ms/sample - loss: 0.0415 - acc: 0.9854\n",
      "Epoch 158/1000\n",
      "1708/1708 [==============================] - 29s 17ms/sample - loss: 0.0397 - acc: 0.9813\n",
      "Epoch 159/1000\n",
      "1708/1708 [==============================] - 29s 17ms/sample - loss: 0.0386 - acc: 0.9836\n",
      "Epoch 160/1000\n",
      "1700/1708 [============================>.] - ETA: 0s - loss: 0.0287 - acc: 0.9841\n",
      "Epoch 00160: saving model to /mnt/DATA-SSD/DataSandbox/APTOS/model_20190713105126_0160.h5\n",
      "1708/1708 [==============================] - 29s 17ms/sample - loss: 0.0286 - acc: 0.9842\n",
      "Epoch 161/1000\n",
      "1708/1708 [==============================] - 29s 17ms/sample - loss: 0.0301 - acc: 0.9819\n",
      "Epoch 162/1000\n",
      "1708/1708 [==============================] - 29s 17ms/sample - loss: 0.0339 - acc: 0.9824\n",
      "Epoch 163/1000\n",
      "1708/1708 [==============================] - 29s 17ms/sample - loss: 0.0510 - acc: 0.9813\n",
      "Epoch 164/1000\n",
      "1708/1708 [==============================] - 29s 17ms/sample - loss: 0.3168 - acc: 0.9075\n",
      "Epoch 165/1000\n",
      "1708/1708 [==============================] - 29s 17ms/sample - loss: 0.0966 - acc: 0.9660\n",
      "Epoch 166/1000\n",
      "1708/1708 [==============================] - 29s 17ms/sample - loss: 0.0493 - acc: 0.9807\n",
      "Epoch 167/1000\n",
      "1708/1708 [==============================] - 29s 17ms/sample - loss: 0.0439 - acc: 0.9824\n",
      "Epoch 168/1000\n",
      "1708/1708 [==============================] - 29s 17ms/sample - loss: 0.0303 - acc: 0.9836\n",
      "Epoch 169/1000\n",
      "1708/1708 [==============================] - 29s 17ms/sample - loss: 0.0238 - acc: 0.9877\n",
      "Epoch 170/1000\n",
      "1700/1708 [============================>.] - ETA: 0s - loss: 0.0259 - acc: 0.9841\n",
      "Epoch 00170: saving model to /mnt/DATA-SSD/DataSandbox/APTOS/model_20190713105126_0170.h5\n",
      "1708/1708 [==============================] - 28s 16ms/sample - loss: 0.0258 - acc: 0.9842\n",
      "Epoch 171/1000\n",
      "1708/1708 [==============================] - 28s 16ms/sample - loss: 0.0270 - acc: 0.9854\n",
      "Epoch 172/1000\n",
      "1708/1708 [==============================] - 28s 16ms/sample - loss: 0.0229 - acc: 0.9854\n",
      "Epoch 173/1000\n",
      "1708/1708 [==============================] - 28s 16ms/sample - loss: 0.0263 - acc: 0.9848\n",
      "Epoch 174/1000\n",
      "1708/1708 [==============================] - 28s 16ms/sample - loss: 0.0238 - acc: 0.9836\n",
      "Epoch 175/1000\n",
      "1708/1708 [==============================] - 28s 16ms/sample - loss: 0.0251 - acc: 0.9842\n",
      "Epoch 176/1000\n",
      "1708/1708 [==============================] - 28s 16ms/sample - loss: 0.0232 - acc: 0.9859\n",
      "Epoch 177/1000\n",
      "1708/1708 [==============================] - 27s 16ms/sample - loss: 0.0249 - acc: 0.9842\n",
      "Epoch 178/1000\n",
      "1708/1708 [==============================] - 27s 16ms/sample - loss: 0.1934 - acc: 0.9456\n",
      "Epoch 179/1000\n",
      "1708/1708 [==============================] - 27s 16ms/sample - loss: 0.1993 - acc: 0.9309\n",
      "Epoch 180/1000\n",
      "1700/1708 [============================>.] - ETA: 0s - loss: 0.0654 - acc: 0.9706\n",
      "Epoch 00180: saving model to /mnt/DATA-SSD/DataSandbox/APTOS/model_20190713105126_0180.h5\n",
      "1708/1708 [==============================] - 27s 16ms/sample - loss: 0.0652 - acc: 0.9707\n",
      "Epoch 181/1000\n",
      "1708/1708 [==============================] - 27s 16ms/sample - loss: 0.0406 - acc: 0.9789\n",
      "Epoch 182/1000\n",
      "1708/1708 [==============================] - 27s 16ms/sample - loss: 0.0323 - acc: 0.9830\n",
      "Epoch 183/1000\n",
      "1708/1708 [==============================] - 27s 16ms/sample - loss: 0.0290 - acc: 0.9836\n",
      "Epoch 184/1000\n",
      "1708/1708 [==============================] - 27s 16ms/sample - loss: 0.0258 - acc: 0.9859\n",
      "Epoch 185/1000\n",
      "1708/1708 [==============================] - 27s 16ms/sample - loss: 0.0255 - acc: 0.9854\n",
      "Epoch 186/1000\n",
      "1708/1708 [==============================] - 27s 16ms/sample - loss: 0.0231 - acc: 0.9848\n",
      "Epoch 187/1000\n",
      "1708/1708 [==============================] - 27s 16ms/sample - loss: 0.0240 - acc: 0.9836\n",
      "Epoch 188/1000\n",
      "1708/1708 [==============================] - 27s 16ms/sample - loss: 0.0229 - acc: 0.9842\n",
      "Epoch 189/1000\n",
      "1708/1708 [==============================] - 28s 17ms/sample - loss: 0.0250 - acc: 0.9854\n",
      "Epoch 190/1000\n",
      "1700/1708 [============================>.] - ETA: 0s - loss: 0.0221 - acc: 0.9859\n",
      "Epoch 00190: saving model to /mnt/DATA-SSD/DataSandbox/APTOS/model_20190713105126_0190.h5\n",
      "1708/1708 [==============================] - 28s 16ms/sample - loss: 0.0220 - acc: 0.9859\n",
      "Epoch 191/1000\n",
      "1708/1708 [==============================] - 29s 17ms/sample - loss: 0.0246 - acc: 0.9830\n",
      "Epoch 192/1000\n",
      "1708/1708 [==============================] - 29s 17ms/sample - loss: 0.0222 - acc: 0.9859\n",
      "Epoch 193/1000\n",
      "1708/1708 [==============================] - 28s 17ms/sample - loss: 0.0226 - acc: 0.9830\n",
      "Epoch 194/1000\n",
      "1708/1708 [==============================] - 28s 16ms/sample - loss: 0.0240 - acc: 0.9877\n",
      "Epoch 195/1000\n",
      "1708/1708 [==============================] - 28s 16ms/sample - loss: 0.0512 - acc: 0.9754\n",
      "Epoch 196/1000\n",
      "1708/1708 [==============================] - 28s 16ms/sample - loss: 0.3825 - acc: 0.8888\n",
      "Epoch 197/1000\n",
      "1708/1708 [==============================] - 28s 16ms/sample - loss: 0.0872 - acc: 0.9660\n",
      "Epoch 198/1000\n",
      "1708/1708 [==============================] - 28s 16ms/sample - loss: 0.0337 - acc: 0.9836\n",
      "Epoch 199/1000\n",
      "1708/1708 [==============================] - 28s 16ms/sample - loss: 0.0264 - acc: 0.9859\n",
      "Epoch 200/1000\n",
      "1700/1708 [============================>.] - ETA: 0s - loss: 0.0243 - acc: 0.9835\n",
      "Epoch 00200: saving model to /mnt/DATA-SSD/DataSandbox/APTOS/model_20190713105126_0200.h5\n",
      "1708/1708 [==============================] - 27s 16ms/sample - loss: 0.0242 - acc: 0.9836\n",
      "Epoch 201/1000\n",
      "1708/1708 [==============================] - 27s 16ms/sample - loss: 0.0234 - acc: 0.9824\n",
      "Epoch 202/1000\n"
     ]
    },
    {
     "name": "stdout",
     "output_type": "stream",
     "text": [
      "1708/1708 [==============================] - 27s 16ms/sample - loss: 0.0227 - acc: 0.9848\n",
      "Epoch 203/1000\n",
      "1708/1708 [==============================] - 27s 16ms/sample - loss: 0.0251 - acc: 0.9854\n",
      "Epoch 204/1000\n",
      "1708/1708 [==============================] - 27s 16ms/sample - loss: 0.0248 - acc: 0.9865\n",
      "Epoch 205/1000\n",
      "1708/1708 [==============================] - 27s 16ms/sample - loss: 0.0256 - acc: 0.9830\n",
      "Epoch 206/1000\n",
      "1708/1708 [==============================] - 27s 16ms/sample - loss: 0.0237 - acc: 0.9842\n",
      "Epoch 207/1000\n",
      "1708/1708 [==============================] - 27s 16ms/sample - loss: 0.0245 - acc: 0.9854\n",
      "Epoch 208/1000\n",
      "1708/1708 [==============================] - 27s 16ms/sample - loss: 0.0241 - acc: 0.9830\n",
      "Epoch 209/1000\n",
      "1708/1708 [==============================] - 27s 16ms/sample - loss: 0.0220 - acc: 0.9854\n",
      "Epoch 210/1000\n",
      "1700/1708 [============================>.] - ETA: 0s - loss: 0.0273 - acc: 0.9841\n",
      "Epoch 00210: saving model to /mnt/DATA-SSD/DataSandbox/APTOS/model_20190713105126_0210.h5\n",
      "1708/1708 [==============================] - 27s 16ms/sample - loss: 0.0275 - acc: 0.9842\n",
      "Epoch 211/1000\n",
      "1708/1708 [==============================] - 27s 16ms/sample - loss: 0.3970 - acc: 0.8806\n",
      "Epoch 212/1000\n",
      "1708/1708 [==============================] - 27s 16ms/sample - loss: 0.0946 - acc: 0.9672\n",
      "Epoch 213/1000\n",
      "1708/1708 [==============================] - 27s 16ms/sample - loss: 0.0369 - acc: 0.9807\n",
      "Epoch 214/1000\n",
      "1708/1708 [==============================] - 27s 16ms/sample - loss: 0.0276 - acc: 0.9830\n",
      "Epoch 215/1000\n",
      "1708/1708 [==============================] - 27s 16ms/sample - loss: 0.0255 - acc: 0.9842\n",
      "Epoch 216/1000\n",
      "1708/1708 [==============================] - 27s 16ms/sample - loss: 0.0242 - acc: 0.9859\n",
      "Epoch 217/1000\n",
      "1708/1708 [==============================] - 27s 16ms/sample - loss: 0.0244 - acc: 0.9819\n",
      "Epoch 218/1000\n",
      "1708/1708 [==============================] - 27s 16ms/sample - loss: 0.0238 - acc: 0.9848\n",
      "Epoch 219/1000\n",
      "1420/1708 [=======================>......] - ETA: 4s - loss: 0.0238 - acc: 0.9845"
     ]
    }
   ],
   "source": [
    "import datetime\n",
    "# este es el modelo estándar, con la entrada y la salida esperadas\n",
    "# hay que sustituirlo por un iterador.\n",
    "\n",
    "\n",
    "# No olvidarse de incluir un train_history para recuperar los datos del entrenamiento\n",
    "# 5000 epochs es una locura y el número de steps per epoch es muy bajo (no se recorren todas las imagenes)\n",
    "# el mínimo steps_per_epoch debería de ser total_muestras/batch_size\n",
    "\n",
    "lt = datetime.datetime.now().strftime(\"%Y%m%d%H%M%S\")\n",
    "\n",
    "model_file = \"/mnt/DATA-SSD/DataSandbox/APTOS/model_\" + lt + \"_{epoch:04d}.h5\"\n",
    "\n",
    "# with callback\n",
    "train_history = model.fit(X, Y,\n",
    "                          batch_size = 10,\n",
    "                          epochs=1000,\n",
    "                          verbose=1,\n",
    "                          shuffle = True,\n",
    "                          callbacks = [tf.keras.callbacks.ModelCheckpoint(model_file, \n",
    "                                                                          save_weights_only = False,\n",
    "                                                                          verbose=1,\n",
    "                                                                          period=10)])\n"
   ]
  },
  {
   "cell_type": "code",
   "execution_count": null,
   "metadata": {},
   "outputs": [],
   "source": [
    "# summarize history for accuracy\n",
    "plt.plot(train_history.history['acc'])\n",
    "plt.title('model accuracy')\n",
    "plt.ylabel('accuracy')\n",
    "plt.xlabel('epoch')\n",
    "plt.legend(['train', 'test'], loc='upper left')\n",
    "plt.show()\n",
    "# summarize history for loss\n",
    "plt.plot(train_history.history['loss'])\n",
    "plt.title('model loss')\n",
    "plt.ylabel('loss')\n",
    "plt.xlabel('epoch')\n",
    "plt.legend(['train', 'test'], loc='upper left')\n",
    "plt.show()"
   ]
  },
  {
   "cell_type": "code",
   "execution_count": null,
   "metadata": {},
   "outputs": [],
   "source": [
    "# Choose 5 random images one for each different diagnosis value\n",
    "\n",
    "image_list = []\n",
    "for class_id in sorted(y.unique()):\n",
    "    image_list.append(df_train.loc[df_train['diagnosis'] == class_id].sample(1, random_state=SEED))\n",
    "\n",
    "image_list"
   ]
  },
  {
   "cell_type": "code",
   "execution_count": null,
   "metadata": {},
   "outputs": [],
   "source": [
    "predict = {}\n",
    "\n",
    "for i in image_list:\n",
    "    path=f\"/mnt/DATA-SSD/DataSandbox/APTOS/train_images/{i.iloc[0][0]}.png\"\n",
    "    print(path)\n",
    "    image = cv2.imread(path)\n",
    "    enhanced_image = enhance(image,2, True, size)\n",
    "    # img = image.img_to_array(enhanced_image)\n",
    "    img = enhanced_image.reshape((1,width, height, 1))/255\n",
    "    predict[i.iloc[0][0]] = [i.iloc[0][1], model.predict(img)]\n",
    "\n",
    "\n",
    "predict"
   ]
  },
  {
   "cell_type": "code",
   "execution_count": null,
   "metadata": {},
   "outputs": [],
   "source": [
    "results_train = {}\n",
    "for i in tqdm.tqdm(df_train.iterrows()):\n",
    "    path=f\"/mnt/DATA-SSD/DataSandbox/APTOS/train_images/{i[1][0]}.png\"\n",
    "    image = cv2.imread(path)\n",
    "    enhanced_image = enhance(image,2, True, size)\n",
    "    # img = image.img_to_array(enhanced_image)\n",
    "    img = enhanced_image.reshape((1,width, height, 1))/255\n",
    "    results_train[i[0]] = [i[1][0], i[1][1], model.predict(img)]\n"
   ]
  },
  {
   "cell_type": "code",
   "execution_count": null,
   "metadata": {},
   "outputs": [],
   "source": [
    "results_df = pd.DataFrame.from_dict(results_train, \n",
    "                                    orient='index', \n",
    "                                    columns=['imge_id', 'diagnoses', 'prediction'])"
   ]
  },
  {
   "cell_type": "code",
   "execution_count": null,
   "metadata": {},
   "outputs": [],
   "source": [
    "def diagnoses_from_list(row):\n",
    "    n = 0.0\n",
    "    diagnoses = 0.0\n",
    "    for i in row[0]:\n",
    "        diagnoses += i*n\n",
    "        n += 1.0\n",
    "    return int(diagnoses)\n",
    "\n"
   ]
  },
  {
   "cell_type": "code",
   "execution_count": null,
   "metadata": {},
   "outputs": [],
   "source": [
    "# print(results_df.iloc[0][2])\n",
    "# print(diagnoses_from_list(results_df.prediction[0]))\n",
    "results_df['predicted_diagnoses'] = results_df.apply( lambda x: diagnoses_from_list(x.prediction), axis=1)\n",
    "results_df['predict_ok'] = results_df.apply( lambda x: 1 if x.predicted_diagnoses==x.diagnoses else 0, axis=1)\n",
    "results_df['predict_error'] = results_df.apply( lambda x: 1 if x.predicted_diagnoses!=x.diagnoses else 0, axis=1)\n",
    "results_df['prediction_error'] = results_df['diagnoses'].sub(results_df['predicted_diagnoses'])\n",
    "results_df.sum(axis=0)\n",
    "# results_df"
   ]
  },
  {
   "cell_type": "code",
   "execution_count": null,
   "metadata": {},
   "outputs": [],
   "source": [
    "results_df.groupby('diagnoses').count()\n"
   ]
  },
  {
   "cell_type": "code",
   "execution_count": null,
   "metadata": {},
   "outputs": [],
   "source": [
    "results_df.groupby('diagnoses').sum()"
   ]
  },
  {
   "cell_type": "code",
   "execution_count": null,
   "metadata": {},
   "outputs": [],
   "source": [
    "lt = datetime.datetime.now().strftime(\"%Y%m%d%H%M%S\")\n",
    "results_df.to_pickle(f\"/mnt/DATA-SSD/DataSandbox/APTOS/results_df_{lt}.pkl\")"
   ]
  },
  {
   "cell_type": "code",
   "execution_count": null,
   "metadata": {},
   "outputs": [],
   "source": []
  }
 ],
 "metadata": {
  "kernelspec": {
   "display_name": "Python 3",
   "language": "python",
   "name": "python3"
  },
  "language_info": {
   "codemirror_mode": {
    "name": "ipython",
    "version": 3
   },
   "file_extension": ".py",
   "mimetype": "text/x-python",
   "name": "python",
   "nbconvert_exporter": "python",
   "pygments_lexer": "ipython3",
   "version": "3.7.1"
  }
 },
 "nbformat": 4,
 "nbformat_minor": 1
}
